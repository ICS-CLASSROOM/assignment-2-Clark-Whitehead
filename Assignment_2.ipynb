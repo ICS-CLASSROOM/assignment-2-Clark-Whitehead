{
 "cells": [
  {
   "cell_type": "markdown",
   "id": "dc66f056",
   "metadata": {},
   "source": [
    "# Clark Whitehead\n",
    "# ICS-438 Mahdi\n",
    "# Fall 2021\n",
    "# Assignment 2"
   ]
  },
  {
   "cell_type": "code",
   "execution_count": 1,
   "id": "1443cdff",
   "metadata": {},
   "outputs": [],
   "source": [
    "import re\n"
   ]
  },
  {
   "cell_type": "markdown",
   "id": "9aa8d15e",
   "metadata": {},
   "source": [
    "# Assignment 2: Analyzing large datasets with Spark.\n",
    "\n",
    "\n",
    "For this assignment, you will need to make sure you're running from a PySpark docker environment I introduced in class. You can start the docker pySpark docker environment using the following command:\n",
    "\n",
    "```\n",
    "docker run --rm -p 4040:4040 -p 8888:8888 -v $(pwd):/home/jovyan/work jupyter/all-spark-notebook\n",
    "```\n",
    "\n",
    "Make sure you run the command from the directory containing this jupyter notebook and your data folder.\n",
    "\n",
    "\n",
    "</b>\n",
    "# WARNING: For some reason, ipynbb document didn't always sync properly when I was pushing to github. As such, please push often and make sure your incremental changes appear on GitHub.\n",
    "</b>"
   ]
  },
  {
   "cell_type": "markdown",
   "id": "66b0d3e6",
   "metadata": {},
   "source": [
    "### Part 1\n",
    "\n",
    "The first part will use Spark to analyze the following books, which I have downloaded for you to use from Project Gutenberg. The files are saved to the data folder.\n",
    "\n",
    "| File name | Book Title|\n",
    "|:---------:|:----------|\n",
    "|43.txt | The Strange Case of Dr. Jekyll and Mr. Hyde by Robert Louis Stevenson|\n",
    "|84.txt | Frankenstein; Or, The Modern Prometheus by Mary Wollstonecraft Shelley |\n",
    "|398.txt  | The First Book of Adam and Eve by Rutherford Hayes Platt|\n",
    "|3296.txt | The Confessions of St. Augustine by Bishop of Hippo Saint Augustine|\n",
    "\n",
    "The objective is to explore whether we can detect similarity between books within the same topic using word-based similarity. \n",
    "\n",
    "The task of identifying similar texts in Natural Language Processing is crucial. A naive method for determining whether two documents are similar is to treat them as collections of words (bag of words) and use the number of words they share as a proxy for their similarity. It makes sense that two books with religion as the topic (e.g.  `398.txt` and `3296.txt`) would have more words in common than a book that discusses religion and a book that discusses science fiction (e.g. books `84.txt` and `398.txt`). \n",
    "\n",
    "As mentioned above, we will be using Spark to analyze the data. Although Spark is not needed for such a small example, the platform would be ideal for analyzing very large collections of documents, like those often analyzed by large corporations\n",
    "\n",
    "This part of the assignment will rely exclusively on RDDs."
   ]
  },
  {
   "cell_type": "markdown",
   "id": "87a15530",
   "metadata": {},
   "source": [
    "### Q1. \n",
    "Start by importing Spark and making sure your environment is set up properly for the assignment.\n",
    "\n",
    "Import the spark context necessary to load a document as an RDD; ignore any error messages"
   ]
  },
  {
   "cell_type": "code",
   "execution_count": 2,
   "id": "e80df4d4",
   "metadata": {},
   "outputs": [],
   "source": [
    "### Write your code here\n",
    "import pyspark"
   ]
  },
  {
   "cell_type": "code",
   "execution_count": 3,
   "id": "88813d54",
   "metadata": {},
   "outputs": [],
   "source": [
    "from pyspark.sql import SparkSession\n",
    "from pyspark.context import SparkContext"
   ]
  },
  {
   "cell_type": "code",
   "execution_count": 4,
   "id": "55c677ed",
   "metadata": {},
   "outputs": [
    {
     "name": "stderr",
     "output_type": "stream",
     "text": [
      "WARNING: An illegal reflective access operation has occurred\n",
      "WARNING: Illegal reflective access by org.apache.spark.unsafe.Platform (file:/usr/local/spark-3.2.0-bin-hadoop3.2/jars/spark-unsafe_2.12-3.2.0.jar) to constructor java.nio.DirectByteBuffer(long,int)\n",
      "WARNING: Please consider reporting this to the maintainers of org.apache.spark.unsafe.Platform\n",
      "WARNING: Use --illegal-access=warn to enable warnings of further illegal reflective access operations\n",
      "WARNING: All illegal access operations will be denied in a future release\n",
      "Using Spark's default log4j profile: org/apache/spark/log4j-defaults.properties\n",
      "Setting default log level to \"WARN\".\n",
      "To adjust logging level use sc.setLogLevel(newLevel). For SparkR, use setLogLevel(newLevel).\n",
      "21/11/07 23:30:05 WARN NativeCodeLoader: Unable to load native-hadoop library for your platform... using builtin-java classes where applicable\n"
     ]
    }
   ],
   "source": [
    "# spark = SparkSession.builder.appName('assn2test').getOrCreate()\n",
    "# spark.stop()\n",
    "sc = SparkContext()"
   ]
  },
  {
   "cell_type": "code",
   "execution_count": 5,
   "id": "e1201ce5",
   "metadata": {},
   "outputs": [
    {
     "data": {
      "text/plain": [
       "pyspark.context.SparkContext"
      ]
     },
     "execution_count": 5,
     "metadata": {},
     "output_type": "execute_result"
    }
   ],
   "source": [
    "type(sc)"
   ]
  },
  {
   "cell_type": "markdown",
   "id": "336d5c9d",
   "metadata": {},
   "source": [
    "### Q2 \n",
    "\n",
    "Read in the file `43.txt` as a spark RDD and save it to a variable called `book_43`\n",
    " * make sure `book_43` is of type MapPartitionsRDD, i.e.,\n",
    "   * str(type(book_43)) == \"<class 'pyspark.rdd.RDD'>\" should return True "
   ]
  },
  {
   "cell_type": "code",
   "execution_count": 6,
   "id": "3d4164f5",
   "metadata": {},
   "outputs": [],
   "source": [
    "### Write your code here\n",
    "book_43 = sc.textFile(\"./data/43.txt\", minPartitions=96)"
   ]
  },
  {
   "cell_type": "code",
   "execution_count": 7,
   "id": "e44786b4",
   "metadata": {},
   "outputs": [
    {
     "data": {
      "text/plain": [
       "pyspark.rdd.RDD"
      ]
     },
     "execution_count": 7,
     "metadata": {},
     "output_type": "execute_result"
    }
   ],
   "source": [
    "type(book_43)"
   ]
  },
  {
   "cell_type": "code",
   "execution_count": 8,
   "id": "3aac0cf6",
   "metadata": {},
   "outputs": [
    {
     "name": "stderr",
     "output_type": "stream",
     "text": [
      "\r",
      "[Stage 0:>                                                          (0 + 1) / 1]\r",
      "\r",
      "                                                                                \r"
     ]
    },
    {
     "data": {
      "text/plain": [
       "['The Project Gutenberg eBook of The Strange Case Of Dr. Jekyll And Mr. Hyde, by Robert Louis Stevenson',\n",
       " '',\n",
       " 'This eBook is for the use of anyone anywhere in the United States and',\n",
       " 'most other parts of the world at no cost and with almost no restrictions',\n",
       " 'whatsoever. You may copy it, give it away or re-use it under the terms']"
      ]
     },
     "execution_count": 8,
     "metadata": {},
     "output_type": "execute_result"
    }
   ],
   "source": [
    "book_43.take(5)"
   ]
  },
  {
   "cell_type": "code",
   "execution_count": 9,
   "id": "524bfb76",
   "metadata": {},
   "outputs": [
    {
     "data": {
      "text/plain": [
       "True"
      ]
     },
     "execution_count": 9,
     "metadata": {},
     "output_type": "execute_result"
    }
   ],
   "source": [
    "str(type(book_43)) == \"<class 'pyspark.rdd.RDD'>\""
   ]
  },
  {
   "cell_type": "markdown",
   "id": "0b8c051e",
   "metadata": {},
   "source": [
    "### Q3\n",
    "\n",
    "How many lines does `book_43` contain?\n",
    "* You can only use operations or actions on RDDs to answer the question. \n",
    "  * Code that uses methods such as `some_rdd.X().Y().Z()...` is allowed\n",
    "  * Code that uses functions such as `some_func(...)` is not allowed"
   ]
  },
  {
   "cell_type": "code",
   "execution_count": 10,
   "id": "b3c5a06e",
   "metadata": {
    "scrolled": true
   },
   "outputs": [
    {
     "name": "stdout",
     "output_type": "stream",
     "text": [
      "# of lines = 2935\n",
      "numbe of lines in the text file is 2935\n"
     ]
    }
   ],
   "source": [
    "### Write your code here\n",
    "print(\"# of lines = {}\".format(book_43.count()))\n",
    "\n",
    "num_lines = len(open(\"./data/43.txt\").readlines())\n",
    "print(\"numbe of lines in the text file is {}\".format(num_lines))"
   ]
  },
  {
   "cell_type": "markdown",
   "id": "bca2bc6d",
   "metadata": {},
   "source": [
    "### Q4 \n",
    "\n",
    "Prior to analyzing the words contained in this book, we need to first remove the occurrences of non-alphabetical characters and numbers from the text. You can use the following function, which takes a line as input, removes digits and non-word characters, and splits it into a collection of words. \n",
    "\n",
    "```python\n",
    "def clean_split_line(line):\n",
    "    a = re.sub('\\d+', '', line)\n",
    "    b = re.sub('[\\W]+', ' ', a)\n",
    "    return b.upper().split()\n",
    "```\n",
    "\n",
    "Use the fucntion above on the variable (test_line) to see what it returns.\n",
    "```python\n",
    "test_line = \"This is an example of that contains 234 and a dash-containing number\"\n",
    "```"
   ]
  },
  {
   "cell_type": "code",
   "execution_count": 11,
   "id": "55ce2754",
   "metadata": {},
   "outputs": [],
   "source": [
    "### Write your code here\n",
    "def clean_split_line(line):\n",
    "    a = re.sub('\\d+', '', line)\n",
    "    b = re.sub('[\\W]+', ' ', a)\n",
    "    return b.lower().split()\n",
    "#     return b.upper().split()\n"
   ]
  },
  {
   "cell_type": "code",
   "execution_count": 12,
   "id": "97545707",
   "metadata": {},
   "outputs": [
    {
     "data": {
      "text/plain": [
       "['this',\n",
       " 'is',\n",
       " 'an',\n",
       " 'example',\n",
       " 'of',\n",
       " 'that',\n",
       " 'contains',\n",
       " 'and',\n",
       " 'a',\n",
       " 'dash',\n",
       " 'containing',\n",
       " 'number']"
      ]
     },
     "execution_count": 12,
     "metadata": {},
     "output_type": "execute_result"
    }
   ],
   "source": [
    "test_line = \"This is an example of that contains 234 and a dash-containing number\"\n",
    "clean_split_line(test_line)"
   ]
  },
  {
   "cell_type": "markdown",
   "id": "b5e951e5",
   "metadata": {},
   "source": [
    "### Q5\n",
    "\n",
    "How many words does `book_43` contain? To answer this question, you may find it useful to apply the function in a spark-fashion. \n",
    "* You can only use operations or actions on RDDs to answer the question. \n",
    "  * Code that uses methods such as `some_rdd.X().Y().Z()...` is allowed\n",
    "  * Code that uses functions such as `some_func(...)` is not allowed\n"
   ]
  },
  {
   "cell_type": "code",
   "execution_count": 13,
   "id": "99c1b93f",
   "metadata": {},
   "outputs": [
    {
     "data": {
      "text/plain": [
       "29116"
      ]
     },
     "execution_count": 13,
     "metadata": {},
     "output_type": "execute_result"
    }
   ],
   "source": [
    "### Write your code here\n",
    "words = book_43.flatMap(clean_split_line)\n",
    "words.count()"
   ]
  },
  {
   "cell_type": "markdown",
   "id": "30d62952",
   "metadata": {},
   "source": [
    "### Q6\n",
    "\n",
    "How many of the words in book_43 are unique? Given that words can appear in lower, upper or mixed case (ex. The, THE, the), make sure you convert the words into lower case before counting them.\n"
   ]
  },
  {
   "cell_type": "code",
   "execution_count": 14,
   "id": "07785c77",
   "metadata": {},
   "outputs": [
    {
     "name": "stderr",
     "output_type": "stream",
     "text": [
      "[Stage 3:=======================================================> (93 + 3) / 96]\r"
     ]
    },
    {
     "name": "stdout",
     "output_type": "stream",
     "text": [
      "4296 distinct words\n"
     ]
    },
    {
     "name": "stderr",
     "output_type": "stream",
     "text": [
      "\r",
      "                                                                                \r"
     ]
    }
   ],
   "source": [
    "### Write your code here\n",
    "distinctWords = words.distinct()\n",
    "count = distinctWords.count()\n",
    "print(\"{} distinct words\".format(count)) #number of distinct words!"
   ]
  },
  {
   "cell_type": "markdown",
   "id": "91b13b79",
   "metadata": {},
   "source": [
    "### Q7\n",
    "\n",
    "* Generate an `RDD` that contains the frequency of each word in `book_43`. Call the variable `book_43_counts`. Each item in the `RDD` should be a tuple with the word as the first element of the tuple and the count as the second item of the tuple. The collection should look like the following:\n",
    "\n",
    "[('project', 88), (\"the\", 1807), ... ]\n",
    "\n",
    "* Such a collection may contain a large number of words and it would be imprudent to transfer all the words onto the same machine to display it. Instead, to explore the content of such a collection, display only the first element in your list. \n",
    "\n",
    "* Given the random nature of this operation, the first element element displayed may be different. The first entry for me was:\n",
    "```\n",
    "[('project', 88)]\n",
    "```\n",
    "\n",
    "* You can only use operations or actions to answer the question. \n",
    "* Code that uses methods such as `some_rdd.X().Y().Z()...` is allowed\n",
    "* Code that uses functions such as `some_func(...)` is not allowed\n"
   ]
  },
  {
   "cell_type": "code",
   "execution_count": 15,
   "id": "42729b95",
   "metadata": {},
   "outputs": [
    {
     "data": {
      "text/plain": [
       "[('the', 1),\n",
       " ('project', 1),\n",
       " ('gutenberg', 1),\n",
       " ('ebook', 1),\n",
       " ('of', 1),\n",
       " ('the', 1),\n",
       " ('strange', 1),\n",
       " ('case', 1),\n",
       " ('of', 1),\n",
       " ('dr', 1)]"
      ]
     },
     "execution_count": 15,
     "metadata": {},
     "output_type": "execute_result"
    }
   ],
   "source": [
    "### Write your code here\n",
    "words_with_ones = words.map(lambda x: (x, 1))\n",
    "words_with_ones.take(10)"
   ]
  },
  {
   "cell_type": "code",
   "execution_count": 16,
   "id": "118217f5",
   "metadata": {},
   "outputs": [
    {
     "name": "stderr",
     "output_type": "stream",
     "text": [
      "                                                                                \r"
     ]
    },
    {
     "data": {
      "text/plain": [
       "[('_dines_', 1),\n",
       " ('_is_', 1),\n",
       " ('_pede', 1),\n",
       " ('_protégé_', 1),\n",
       " ('_th', 1),\n",
       " ('_to', 1),\n",
       " ('_who', 1),\n",
       " ('_why_', 1),\n",
       " ('_with', 1),\n",
       " ('_à', 1)]"
      ]
     },
     "execution_count": 16,
     "metadata": {},
     "output_type": "execute_result"
    }
   ],
   "source": [
    "sorted_words_with_ones = words_with_ones.sortByKey()\n",
    "sorted_words_with_ones.take(10)"
   ]
  },
  {
   "cell_type": "code",
   "execution_count": 17,
   "id": "19334514",
   "metadata": {},
   "outputs": [],
   "source": [
    "book_43_counts = sorted_words_with_ones.reduceByKey(lambda x,y: x+y)"
   ]
  },
  {
   "cell_type": "code",
   "execution_count": 18,
   "id": "268204ac",
   "metadata": {},
   "outputs": [],
   "source": [
    "project = book_43_counts.filter(lambda x: \"project\" in x)"
   ]
  },
  {
   "cell_type": "code",
   "execution_count": 19,
   "id": "2700ea2f",
   "metadata": {},
   "outputs": [
    {
     "data": {
      "text/plain": [
       "[('project', 88)]"
      ]
     },
     "execution_count": 19,
     "metadata": {},
     "output_type": "execute_result"
    }
   ],
   "source": [
    "project.take(5)"
   ]
  },
  {
   "cell_type": "markdown",
   "id": "1ee4534c",
   "metadata": {},
   "source": [
    "### Q8\n",
    "\n",
    "Sort `book_43_counts` and print the 20 most frequent words in book_43. \n",
    "  * Hint: function `sortByKey` sorts a collection of tuples on the first element element of the list. You can easily change the order of the items in each element and use `sortByKey` to sort on the second item of each element in `book_43_counts`\n",
    "  * You can only use operations or actions to answer the question. \n",
    "  * Code that uses methods such as `some_rdd.X().Y().Z()...` is allowed\n",
    "  * Code that uses functions such as `some_func(...)` is not allowed"
   ]
  },
  {
   "cell_type": "code",
   "execution_count": 20,
   "id": "d51b8ea9",
   "metadata": {},
   "outputs": [],
   "source": [
    "### Write your code here\n",
    "book_43_counts2 = book_43_counts.map(lambda x: (x[1], x[0]))"
   ]
  },
  {
   "cell_type": "code",
   "execution_count": 21,
   "id": "d3bd2f47",
   "metadata": {},
   "outputs": [
    {
     "data": {
      "text/plain": [
       "[(3, 'ape'),\n",
       " (1, 'approaches'),\n",
       " (1, 'assaults'),\n",
       " (2, 'belief'),\n",
       " (1, 'bird'),\n",
       " (1, 'civilly'),\n",
       " (7, 'common'),\n",
       " (1, 'connived'),\n",
       " (1, 'destruction'),\n",
       " (1, 'disliked')]"
      ]
     },
     "execution_count": 21,
     "metadata": {},
     "output_type": "execute_result"
    }
   ],
   "source": [
    "book_43_counts2.take(10)"
   ]
  },
  {
   "cell_type": "code",
   "execution_count": 22,
   "id": "7154de6e",
   "metadata": {},
   "outputs": [],
   "source": [
    "book_43_counts_sorted = book_43_counts2.sortByKey(False)"
   ]
  },
  {
   "cell_type": "code",
   "execution_count": 23,
   "id": "b2fa9d73",
   "metadata": {},
   "outputs": [
    {
     "data": {
      "text/plain": [
       "[(1807, 'the'),\n",
       " (1068, 'of'),\n",
       " (1043, 'and'),\n",
       " (726, 'to'),\n",
       " (686, 'a'),\n",
       " (646, 'i'),\n",
       " (485, 'in'),\n",
       " (471, 'was'),\n",
       " (392, 'that'),\n",
       " (384, 'he'),\n",
       " (378, 'it'),\n",
       " (312, 'you'),\n",
       " (308, 'my'),\n",
       " (301, 'with'),\n",
       " (285, 'his'),\n",
       " (244, 'had'),\n",
       " (203, 'as'),\n",
       " (202, 'for'),\n",
       " (195, 'this'),\n",
       " (193, 'but')]"
      ]
     },
     "execution_count": 23,
     "metadata": {},
     "output_type": "execute_result"
    }
   ],
   "source": [
    "book_43_counts_sorted.take(20)"
   ]
  },
  {
   "cell_type": "markdown",
   "id": "13420b09",
   "metadata": {},
   "source": [
    "### Q9\n",
    "\n",
    "You must have noted that the most frequent words in `book_43_counts` include stop words such as `of`, `the`, `and`, etc.\n",
    "\n",
    "It would be inefficient to compare documents based on whether or not they contain stop words; those are common to all documents. As such, it's common to remove such stop words. The librarary `sklearn.feature_extraction` provides access to a collection of English stop words, which can be loaded using the following snippet:\n",
    "\n",
    "```\n",
    "from sklearn.feature_extraction import stop_words\n",
    "stop_words.ENGLISH_STOP_WORDS\n",
    "```\n",
    "\n",
    "* Explore ENGLISH_STOP_WORDS (it's a frozen set data structure, i.e., a set that you cannot modify) by printing any 10 words from it. \n",
    " * Hint: convert the frozen set to something you can subscript\n"
   ]
  },
  {
   "cell_type": "code",
   "execution_count": 24,
   "id": "0e0ad996",
   "metadata": {},
   "outputs": [],
   "source": [
    "### Write your code here\n",
    "from sklearn.feature_extraction import _stop_words\n",
    "stopWords = _stop_words.ENGLISH_STOP_WORDS"
   ]
  },
  {
   "cell_type": "code",
   "execution_count": 25,
   "id": "a9ed61ac",
   "metadata": {},
   "outputs": [
    {
     "data": {
      "text/plain": [
       "frozenset"
      ]
     },
     "execution_count": 25,
     "metadata": {},
     "output_type": "execute_result"
    }
   ],
   "source": [
    "type(stopWords)"
   ]
  },
  {
   "cell_type": "code",
   "execution_count": 26,
   "id": "cdc5c900",
   "metadata": {},
   "outputs": [],
   "source": [
    "stop_words = list(stopWords)"
   ]
  },
  {
   "cell_type": "code",
   "execution_count": 27,
   "id": "3bf70e3b",
   "metadata": {},
   "outputs": [],
   "source": [
    "# A way to find words containing another word, such as \"the\" in this case\n",
    "# items = []\n",
    "# for id, item in enumerate(list1):\n",
    "#     if \"the\" in item:\n",
    "#         items.append(id)\n",
    "\n",
    "# T = [list1[i] for i in items]\n",
    "# T"
   ]
  },
  {
   "cell_type": "code",
   "execution_count": 28,
   "id": "6649256a",
   "metadata": {},
   "outputs": [
    {
     "data": {
      "text/plain": [
       "['each',\n",
       " 'thin',\n",
       " 'i',\n",
       " 'side',\n",
       " 'am',\n",
       " 'nowhere',\n",
       " 'amongst',\n",
       " 'which',\n",
       " 'hereby',\n",
       " 'must']"
      ]
     },
     "execution_count": 28,
     "metadata": {},
     "output_type": "execute_result"
    }
   ],
   "source": [
    "stop_words[:10]"
   ]
  },
  {
   "cell_type": "markdown",
   "id": "625eb521",
   "metadata": {},
   "source": [
    "### Q10\n",
    "\n",
    "Filter out the words in `book_43_counts` by removing those that appear in the ENGLISH_STOP_WORDS.\n",
    "Save the results to a new variable called `book_43_counts_filtered`\n",
    "  * You can only use operarations or actions on RDDs to answer the question. \n",
    "  * Code that uses methods such as `some_rdd.X().Y().Z()...` is allowed\n",
    "  * Code that uses function such as `some_func(...)` is not allowed\n"
   ]
  },
  {
   "cell_type": "code",
   "execution_count": 29,
   "id": "5602b4ff",
   "metadata": {},
   "outputs": [
    {
     "data": {
      "text/plain": [
       "[(1807, 'the'),\n",
       " (1068, 'of'),\n",
       " (1043, 'and'),\n",
       " (726, 'to'),\n",
       " (686, 'a'),\n",
       " (646, 'i'),\n",
       " (485, 'in'),\n",
       " (471, 'was'),\n",
       " (392, 'that'),\n",
       " (384, 'he')]"
      ]
     },
     "execution_count": 29,
     "metadata": {},
     "output_type": "execute_result"
    }
   ],
   "source": [
    "### Write your code here\n",
    "book_43_counts_sorted.take(10)"
   ]
  },
  {
   "cell_type": "code",
   "execution_count": 30,
   "id": "5306ce05",
   "metadata": {},
   "outputs": [],
   "source": [
    "# book_43_counts_filtered = book_43_counts_sorted.filter(lambda x:  in x)\n",
    "book_43_counts_filtered = book_43_counts_sorted.filter(lambda x: x[1] not in stop_words)"
   ]
  },
  {
   "cell_type": "code",
   "execution_count": 31,
   "id": "5248bdba",
   "metadata": {},
   "outputs": [
    {
     "data": {
      "text/plain": [
       "[(156, 's'),\n",
       " (131, 'utterson'),\n",
       " (130, 'said'),\n",
       " (128, 'mr'),\n",
       " (105, 'hyde'),\n",
       " (105, 'jekyll'),\n",
       " (98, 'gutenberg'),\n",
       " (88, 'project'),\n",
       " (85, 'man'),\n",
       " (72, 'lawyer')]"
      ]
     },
     "execution_count": 31,
     "metadata": {},
     "output_type": "execute_result"
    }
   ],
   "source": [
    "book_43_counts_filtered.take(10)"
   ]
  },
  {
   "cell_type": "markdown",
   "id": "3d0b3a80",
   "metadata": {},
   "source": [
    "### Q11\n",
    "\n",
    "* How many words are left in `book_43_counts_filtered` after removing the stop words"
   ]
  },
  {
   "cell_type": "code",
   "execution_count": 32,
   "id": "a5bdf083",
   "metadata": {},
   "outputs": [
    {
     "data": {
      "text/plain": [
       "4034"
      ]
     },
     "execution_count": 32,
     "metadata": {},
     "output_type": "execute_result"
    }
   ],
   "source": [
    "### Write your code here\n",
    "book_43_counts_filtered.count()"
   ]
  },
  {
   "cell_type": "markdown",
   "id": "23ffd755",
   "metadata": {},
   "source": [
    "### Q12 \n",
    "\n",
    "* Create a function called *process_RDD* that combines the relevant steps you proposed above to make it convenient to apply them to the remaining four books. Your function should accept an input text file path and:\n",
    " * Reads in the file as a textRDD\n",
    " * Cleans and splits the line using `clean_split_line`\n",
    " * Filters out the stop words\n",
    " * Returns a word count RDD where each item is a tuple of words and its count.\n",
    " \n"
   ]
  },
  {
   "cell_type": "code",
   "execution_count": 33,
   "id": "eff5d5e8",
   "metadata": {},
   "outputs": [],
   "source": [
    "### Write your code here\n",
    "\n",
    "def process_RDD(book_path):\n",
    "    book = sc.textFile(book_path, minPartitions=96)\n",
    "    words = book.flatMap(clean_split_line)\n",
    "    words_with_ones = words.map(lambda x: (x, 1))\n",
    "    sorted_words_with_ones = words_with_ones.sortByKey()\n",
    "    book_counts = sorted_words_with_ones.reduceByKey(lambda x,y: x+y)\n",
    "    book_counts2 = book_counts.map(lambda x: (x[1], x[0]))\n",
    "#     book_43_counts_sorted = book_43_counts2.sortByKey(False) In case it stops working, maybe this is reason\n",
    "    stopWords = _stop_words.ENGLISH_STOP_WORDS\n",
    "    stop_words = list(stopWords)\n",
    "    book_wout_stops = book_counts2.filter(lambda x: x[1] not in stop_words)\n",
    "    book = book_wout_stops.sortByKey(False) #False means descending I think\n",
    "\n",
    "    return book\n",
    "\n"
   ]
  },
  {
   "cell_type": "code",
   "execution_count": 34,
   "id": "971e75d7",
   "metadata": {},
   "outputs": [
    {
     "name": "stderr",
     "output_type": "stream",
     "text": [
      "                                                                                \r"
     ]
    }
   ],
   "source": [
    "booky = process_RDD(\"./data/43.txt\")"
   ]
  },
  {
   "cell_type": "code",
   "execution_count": 35,
   "id": "7c4196c0",
   "metadata": {},
   "outputs": [
    {
     "data": {
      "text/plain": [
       "pyspark.rdd.PipelinedRDD"
      ]
     },
     "execution_count": 35,
     "metadata": {},
     "output_type": "execute_result"
    }
   ],
   "source": [
    "type(booky)"
   ]
  },
  {
   "cell_type": "code",
   "execution_count": 36,
   "id": "0dc15333",
   "metadata": {},
   "outputs": [
    {
     "data": {
      "text/plain": [
       "[(156, 's'),\n",
       " (131, 'utterson'),\n",
       " (130, 'said'),\n",
       " (128, 'mr'),\n",
       " (105, 'hyde'),\n",
       " (105, 'jekyll'),\n",
       " (98, 'gutenberg'),\n",
       " (88, 'project'),\n",
       " (85, 'man'),\n",
       " (72, 'lawyer')]"
      ]
     },
     "execution_count": 36,
     "metadata": {},
     "output_type": "execute_result"
    }
   ],
   "source": [
    "booky.take(10)"
   ]
  },
  {
   "cell_type": "code",
   "execution_count": 37,
   "id": "de8f6be1",
   "metadata": {},
   "outputs": [
    {
     "name": "stdout",
     "output_type": "stream",
     "text": [
      "[]\n"
     ]
    },
    {
     "data": {
      "text/plain": [
       "4034"
      ]
     },
     "execution_count": 37,
     "metadata": {},
     "output_type": "execute_result"
    }
   ],
   "source": [
    "#How to create a new RDD from only the word \"a\"\n",
    "stuff = booky.filter(lambda x: \"the\" in x)\n",
    "print(stuff.take(1))\n",
    "booky.count()"
   ]
  },
  {
   "cell_type": "markdown",
   "id": "ba59c9c5",
   "metadata": {},
   "source": [
    "### Q13 \n",
    "\n",
    "Apply the function `process_RDD` to `book_84`, `book_398` and `book_3296` and save the results to variables `book_84_counts_filtered`, `book_398_counts_filtered` and `book_3296_counts_filtered` respectively. How many distinct words does each book contain after filtering the stop words.\n"
   ]
  },
  {
   "cell_type": "code",
   "execution_count": 38,
   "id": "08a24f66",
   "metadata": {},
   "outputs": [
    {
     "name": "stderr",
     "output_type": "stream",
     "text": [
      "                                                                                \r"
     ]
    }
   ],
   "source": [
    "### Write your code here\n",
    "book_84_counts_filtered = process_RDD(\"./data/84.txt\")\n",
    "book_398_counts_filtered = process_RDD(\"./data/398.txt\")\n",
    "book_3296_counts_filtered = process_RDD(\"./data/3296.txt\")"
   ]
  },
  {
   "cell_type": "code",
   "execution_count": 39,
   "id": "4be07657",
   "metadata": {},
   "outputs": [
    {
     "name": "stdout",
     "output_type": "stream",
     "text": [
      "Book 84 distinct words # = 7016\n",
      "Book 398 distinct words # = 2421\n",
      "Book 3296 distinct words # = 7293\n"
     ]
    }
   ],
   "source": [
    "print(\"Book 84 distinct words # = {}\".format(book_84_counts_filtered.count()))\n",
    "print(\"Book 398 distinct words # = {}\".format(book_398_counts_filtered.count()))\n",
    "print(\"Book 3296 distinct words # = {}\".format(book_3296_counts_filtered.count()))"
   ]
  },
  {
   "cell_type": "markdown",
   "id": "7fb9680f",
   "metadata": {},
   "source": [
    "### Q14 \n",
    "\n",
    "We discussed how to evaluate similarity between two texts using the number of words they share. We hypothesized that books that are similar should have more words in common than books that are dissimilar. If that holds, `book_398` and `book_3296`, which both pertain to religion, will have more words in common than, say, `book_84` and `book_398`. Test this hypothesis by writing code that compares and prints the number of words shared between `book_398` and `book_3296` and then between `book_84` and `book_398`.\n"
   ]
  },
  {
   "cell_type": "code",
   "execution_count": 40,
   "id": "ac6b73e0",
   "metadata": {},
   "outputs": [
    {
     "name": "stderr",
     "output_type": "stream",
     "text": [
      "                                                                                \r"
     ]
    },
    {
     "name": "stdout",
     "output_type": "stream",
     "text": [
      "(intersect_398_3296 count) = 1790\n"
     ]
    },
    {
     "name": "stderr",
     "output_type": "stream",
     "text": [
      "[Stage 133:==============================================>     (172 + 20) / 192]\r"
     ]
    },
    {
     "name": "stdout",
     "output_type": "stream",
     "text": [
      "(intersect_84_398 count) = 1691\n"
     ]
    },
    {
     "name": "stderr",
     "output_type": "stream",
     "text": [
      "\r",
      "                                                                                \r"
     ]
    }
   ],
   "source": [
    "### Write your code here\n",
    "intersect_398_3296 = book_398_counts_filtered.map(lambda x: x[1]).intersection(book_3296_counts_filtered.map(lambda x: x[1]))\n",
    "\n",
    "intersect_84_398 = book_84_counts_filtered.map(lambda x: x[1]).intersection(book_398_counts_filtered.map(lambda x: x[1]))\n",
    "\n",
    "print(\"(intersect_398_3296 count) = {}\".format(intersect_398_3296.count()))\n",
    "print(\"(intersect_84_398 count) = {}\".format(intersect_84_398.count()))"
   ]
  },
  {
   "cell_type": "markdown",
   "id": "cef9f326",
   "metadata": {},
   "source": [
    "### Q15\n",
    "\n",
    "* Based on the above, do you think counting the number of shared words is a good idea as a distance metric for evaluating topic similarity? Justify your answer?\n",
    "* Hint: What do *book_84* and *book_3296* have in common? "
   ]
  },
  {
   "cell_type": "markdown",
   "id": "6587ae14",
   "metadata": {},
   "source": [
    "#### Write your answer here\n",
    "\n",
    "* <p style=\"color: Green\">the two tests differ by only 5%.</p>\n",
    "* <p style=\"color: Green\">We can justify the answer by looking at word count per book. If two books (A and B) have 100 times as many words as the third (book C), [A: 5000wds, B: 5000wds, C: 50wds], books A and B will have more words in common just based on statistics, even if books A and C have much more in common.</p>\n",
    "* <p style=\"color: Green\">If we are comparing multiple books with roughly the same number of words, then this technique should work ok.</p>"
   ]
  },
  {
   "cell_type": "markdown",
   "id": "a6f8f857",
   "metadata": {},
   "source": [
    "## Part II \n",
    "\n",
    "Another approach to estimating similarity consists of computing the Euclidean distance across a set of words. For example, suppose we have 3 documents A, B and C with the following counts for the words `evolution`, `DNA`, `biology` and `finance`. \n",
    "\n",
    "```python \n",
    "A = [4, 9, 6, 8]\n",
    "B = [3, 7, 7, 10]\n",
    "C = [15, 10, 1, 1]\n",
    "```\n",
    "Although all documents contain exactly the four words, the number of times these words appear in each book may be indicative of thier topic. For example, documents `A` and `B` are more likely to be business related since they contain the word `finance` more frequently (8 and 10 times respectively). Document `C` may be a technical document since it focuses on more technical words (`evolution` and `DNA`) and less on the words `finance`.\n",
    "\n",
    "The Euclidean distance, which can be computed using the `scikit` snippet below, is more indicative of topic-relatedness between the two documents.\n",
    "\n",
    "```python\n",
    "from scipy.spatial.distance import euclidean \n",
    "print(f\"The Euclidean distance between A and B is: {euclidean(A, B)}\")\n",
    "\n",
    "print(f\"The Euclidean distance between A and C is: {euclidean(A, C)}\")\n",
    "\n",
    "print(f\"The Euclidean distance between B and C is: {euclidean(B, C)}\")\n",
    "```\n"
   ]
  },
  {
   "cell_type": "markdown",
   "id": "9abdc35e",
   "metadata": {},
   "source": [
    "### Q16\n",
    "\n",
    "To calculate the Euclidean distance, we must first identify the set of words by which we will compare the documents. Here, we will explore the words that are common to all 4 documents. We will store the data in a matrix called `counts_matrix`.\n",
    "\n",
    "Start by finding the words that are common to all four documents after stop-word filtering and store the counts for each word in a column of `counts_matrix`. \n",
    "\n",
    "To take the previous example, you can generate an emtpy matrix with 3 lines (documents `A`, `B` and `C`) and 4 columns (words `evolution`, `DNA`, `biology` and `finance`) using the following code.\n",
    "\n",
    "```python\n",
    "import numpy as np\n",
    "counts_matrix = np.zeros([3,4])\n",
    "```\n",
    "\n",
    "After generting the counts, you can fill the counts for a document, say `A`, using the following code:\n",
    "\n",
    "```python\n",
    "counts_matrix[0, :] = [4, 9, 6, 8] \n",
    "```\n",
    "* Other than for building `counts_matrix` you should exclusively use operations or actions on the `RDD` to answer this question. \n",
    "  * Code that uses methods such as `some_rdd.X().Y().Z()...` is allowed\n",
    "  * Code that uses functions such as `some_func(...)` is not allowed\n"
   ]
  },
  {
   "cell_type": "code",
   "execution_count": 41,
   "id": "c3cae946",
   "metadata": {},
   "outputs": [
    {
     "name": "stderr",
     "output_type": "stream",
     "text": [
      "                                                                                \r"
     ]
    },
    {
     "data": {
      "text/plain": [
       "1162"
      ]
     },
     "execution_count": 41,
     "metadata": {},
     "output_type": "execute_result"
    }
   ],
   "source": [
    "### Write your code here\n",
    "import numpy as np\n",
    "\n",
    "book_43_counts_filtered = process_RDD(\"./data/43.txt\")\n",
    "\n",
    "intersect_43_84_398_3296 = book_398_counts_filtered.map(lambda x: x[1]).intersection(book_3296_counts_filtered.map(lambda x: x[1])).intersection(book_84_counts_filtered.map(lambda x: x[1])).intersection(book_43_counts_filtered.map(lambda x: x[1]))\n",
    "\n",
    "colCount = intersect_43_84_398_3296.count() #about 1500\n",
    "colCount"
   ]
  },
  {
   "cell_type": "code",
   "execution_count": 42,
   "id": "ce01de65",
   "metadata": {},
   "outputs": [
    {
     "data": {
      "text/plain": [
       "list"
      ]
     },
     "execution_count": 42,
     "metadata": {},
     "output_type": "execute_result"
    }
   ],
   "source": [
    "type(intersect_43_84_398_3296.take(10))"
   ]
  },
  {
   "cell_type": "code",
   "execution_count": 43,
   "id": "e3543a55",
   "metadata": {},
   "outputs": [
    {
     "data": {
      "text/plain": [
       "pyspark.rdd.PipelinedRDD"
      ]
     },
     "execution_count": 43,
     "metadata": {},
     "output_type": "execute_result"
    }
   ],
   "source": [
    "type(book_43_counts_filtered)"
   ]
  },
  {
   "cell_type": "code",
   "execution_count": 44,
   "id": "f9454bd9",
   "metadata": {},
   "outputs": [
    {
     "data": {
      "text/plain": [
       "[(156, 's'),\n",
       " (131, 'utterson'),\n",
       " (130, 'said'),\n",
       " (128, 'mr'),\n",
       " (105, 'hyde'),\n",
       " (105, 'jekyll'),\n",
       " (98, 'gutenberg'),\n",
       " (88, 'project'),\n",
       " (85, 'man'),\n",
       " (72, 'lawyer')]"
      ]
     },
     "execution_count": 44,
     "metadata": {},
     "output_type": "execute_result"
    }
   ],
   "source": [
    "book_43_counts_filtered.take(10)"
   ]
  },
  {
   "cell_type": "code",
   "execution_count": 45,
   "id": "050f22b4",
   "metadata": {},
   "outputs": [
    {
     "data": {
      "text/plain": [
       "['belief',\n",
       " 'indirectly',\n",
       " 'returns',\n",
       " 'seek',\n",
       " 'dust',\n",
       " 'iron',\n",
       " 'employee',\n",
       " 'calculate',\n",
       " 'volunteer',\n",
       " 'important']"
      ]
     },
     "execution_count": 45,
     "metadata": {},
     "output_type": "execute_result"
    }
   ],
   "source": [
    "intersect_43_84_398_3296.take(10)"
   ]
  },
  {
   "cell_type": "code",
   "execution_count": 46,
   "id": "a33fb162",
   "metadata": {},
   "outputs": [],
   "source": [
    "# book_43_counts_filtered = book_43_counts_sorted.filter(lambda x:  in x)\n",
    "book_43_counts_filtered = book_43_counts_sorted.filter(lambda x: x[1] not in stop_words)"
   ]
  },
  {
   "cell_type": "code",
   "execution_count": 47,
   "id": "a43b6865",
   "metadata": {},
   "outputs": [
    {
     "data": {
      "text/plain": [
       "[(1807, 'the'),\n",
       " (1068, 'of'),\n",
       " (1043, 'and'),\n",
       " (726, 'to'),\n",
       " (686, 'a'),\n",
       " (646, 'i'),\n",
       " (485, 'in'),\n",
       " (471, 'was'),\n",
       " (392, 'that'),\n",
       " (384, 'he')]"
      ]
     },
     "execution_count": 47,
     "metadata": {},
     "output_type": "execute_result"
    }
   ],
   "source": [
    "type(book_43_counts_sorted)\n",
    "book_43_counts_sorted.take(10)"
   ]
  },
  {
   "cell_type": "code",
   "execution_count": 48,
   "id": "a1ea3b91",
   "metadata": {},
   "outputs": [],
   "source": [
    "intersection_list = list(intersect_43_84_398_3296.collect())"
   ]
  },
  {
   "cell_type": "code",
   "execution_count": 49,
   "id": "3f5863bf",
   "metadata": {},
   "outputs": [],
   "source": [
    "words_counts_43 = book_43_counts_filtered.filter(lambda x: x[1] in intersection_list)\n",
    "words_counts_84 = book_84_counts_filtered.filter(lambda x: x[1] in intersection_list)\n",
    "words_counts_398 = book_398_counts_filtered.filter(lambda x: x[1] in intersection_list)\n",
    "words_counts_3296 = book_3296_counts_filtered.filter(lambda x: x[1] in intersection_list)\n",
    "\n"
   ]
  },
  {
   "cell_type": "code",
   "execution_count": 50,
   "id": "dafb2bfb",
   "metadata": {},
   "outputs": [],
   "source": [
    "words_counts_43 = words_counts_43.map(lambda x: (x[1], x[0]))"
   ]
  },
  {
   "cell_type": "code",
   "execution_count": 51,
   "id": "dfbf4d7c",
   "metadata": {},
   "outputs": [],
   "source": [
    "words_counts_84 = words_counts_84.map(lambda x: (x[1], x[0]))"
   ]
  },
  {
   "cell_type": "code",
   "execution_count": 52,
   "id": "e091ea84",
   "metadata": {},
   "outputs": [],
   "source": [
    "words_counts_398 = words_counts_398.map(lambda x: (x[1], x[0]))"
   ]
  },
  {
   "cell_type": "code",
   "execution_count": 53,
   "id": "b18cedd4",
   "metadata": {},
   "outputs": [],
   "source": [
    "words_counts_3296 = words_counts_3296.map(lambda x: (x[1], x[0]))"
   ]
  },
  {
   "cell_type": "code",
   "execution_count": 54,
   "id": "cc6e5571",
   "metadata": {},
   "outputs": [
    {
     "name": "stdout",
     "output_type": "stream",
     "text": [
      "[('zip', 1), ('younger', 3), ('young', 5), ('years', 11), ('www', 10), ('wrote', 2), ('wrong', 6), ('written', 8), ('writing', 6), ('write', 5)]\n",
      "\n",
      "[('zip', 1), ('younger', 9), ('young', 30), ('years', 45), ('www', 10), ('wrote', 4), ('wrong', 1), ('written', 7), ('writing', 6), ('write', 11)]\n",
      "\n",
      "[('zip', 1), ('younger', 2), ('young', 1), ('years', 19), ('www', 6), ('wrote', 1), ('wrong', 3), ('written', 6), ('writing', 4), ('write', 1)]\n",
      "\n",
      "[('zip', 1), ('younger', 4), ('young', 15), ('years', 51), ('www', 10), ('wrote', 12), ('wrong', 2), ('written', 25), ('writing', 13), ('write', 8)]\n"
     ]
    }
   ],
   "source": [
    "words_counts_43 = words_counts_43.sortByKey(False)\n",
    "words_counts_84 = words_counts_84.sortByKey(False)\n",
    "words_counts_398 = words_counts_398.sortByKey(False)\n",
    "words_counts_3296 = words_counts_3296.sortByKey(False)\n",
    "\n",
    "print(words_counts_43.take(10))\n",
    "print()\n",
    "print(words_counts_84.take(10))\n",
    "print()\n",
    "print(words_counts_398.take(10))\n",
    "print()\n",
    "print(words_counts_3296.take(10))"
   ]
  },
  {
   "cell_type": "code",
   "execution_count": 55,
   "id": "dae08d89",
   "metadata": {},
   "outputs": [
    {
     "name": "stdout",
     "output_type": "stream",
     "text": [
      "[[0. 0. 0. ... 0. 0. 0.]\n",
      " [0. 0. 0. ... 0. 0. 0.]\n",
      " [0. 0. 0. ... 0. 0. 0.]\n",
      " [0. 0. 0. ... 0. 0. 0.]]\n"
     ]
    }
   ],
   "source": [
    "counts_matrix = np.zeros([4, colCount])\n",
    "print(counts_matrix)"
   ]
  },
  {
   "cell_type": "code",
   "execution_count": 56,
   "id": "2f3422f1",
   "metadata": {},
   "outputs": [],
   "source": [
    "counts_matrix[0, :] = list(words_counts_43.map(lambda x: x[1]).collect())\n",
    "counts_matrix[1, :] = list(words_counts_84.map(lambda x: x[1]).collect())\n",
    "counts_matrix[2, :] = list(words_counts_398.map(lambda x: x[1]).collect())\n",
    "counts_matrix[3, :] = list(words_counts_3296.map(lambda x: x[1]).collect())"
   ]
  },
  {
   "cell_type": "markdown",
   "id": "0c00dc24",
   "metadata": {},
   "source": [
    "<h1 style=\"color: green\">Counts Matrix</h1>"
   ]
  },
  {
   "cell_type": "code",
   "execution_count": 57,
   "id": "dc489ba6",
   "metadata": {},
   "outputs": [
    {
     "name": "stdout",
     "output_type": "stream",
     "text": [
      "[[ 1.  3.  5. ...  2.  3.  1.]\n",
      " [ 1.  9. 30. ...  4.  9.  1.]\n",
      " [ 1.  2.  1. ... 16.  5.  1.]\n",
      " [ 1.  4. 15. ...  3. 36. 16.]]\n"
     ]
    }
   ],
   "source": [
    "print(counts_matrix)"
   ]
  },
  {
   "cell_type": "markdown",
   "id": "124bcdd8",
   "metadata": {},
   "source": [
    "### Q17\n",
    "\n",
    "Compute the Euclidean distance between `book_398` and `book_3296`, which both talk about religion and `book_84` and `book_398`. What do you conclude about using the Euclidean distance for evaluating topic relatedness across documents?\n"
   ]
  },
  {
   "cell_type": "code",
   "execution_count": 58,
   "id": "7b6a81dd",
   "metadata": {},
   "outputs": [],
   "source": [
    "### Write your code here\n",
    "from scipy.spatial.distance import euclidean "
   ]
  },
  {
   "cell_type": "markdown",
   "id": "aa67e226",
   "metadata": {},
   "source": [
    "<h1 style=\"color: green\">Euclidean Distances</h1>"
   ]
  },
  {
   "cell_type": "code",
   "execution_count": 59,
   "id": "970721ed",
   "metadata": {},
   "outputs": [
    {
     "name": "stdout",
     "output_type": "stream",
     "text": [
      "The Euclidean distance between book_398 and book_3296 is: 1156.6628722320086\n",
      "The Euclidean distance between book_84 and book_398 is: 751.6688100486809\n"
     ]
    }
   ],
   "source": [
    "print(f\"The Euclidean distance between book_398 and book_3296 is: {euclidean(counts_matrix[2], counts_matrix[3])}\")\n",
    "print(f\"The Euclidean distance between book_84 and book_398 is: {euclidean(counts_matrix[1], counts_matrix[2])}\")"
   ]
  },
  {
   "cell_type": "markdown",
   "id": "89981b46",
   "metadata": {},
   "source": [
    "#### Write your justification here\n",
    "* Euclidean distance seems much better than just counting the words based on the larger difference when comparing the three books."
   ]
  },
  {
   "cell_type": "markdown",
   "id": "3f4e54e6",
   "metadata": {},
   "source": [
    "### Q18\n",
    "\n",
    "Bonus question (5 points): Can you think of a few things we could do to improve similarity between documents that pertain to the same topic. Justify your answer without giving code"
   ]
  },
  {
   "cell_type": "markdown",
   "id": "5c8c6de1",
   "metadata": {},
   "source": [
    "#### Write your answer here\n"
   ]
  },
  {
   "cell_type": "markdown",
   "id": "aedf1d74",
   "metadata": {},
   "source": [
    "## Part III\n",
    "\n",
    "In this part we will build some basic analytics for a dataset consisting of flight arrival and departure details for all commercial flights within the USA in one month. While this dataset can be managed using Pandas (<1M records), scaling to a yearly or longer timeframe will greatly benefit from using a distributed computing framework such as `Spark`.\n",
    "\n",
    "Here, you should use exclusively `SparkDatFrames. \n",
    "\n",
    "We want to analyze this dataset to better schedule trips.  For example:\n",
    " * Avoid airlines carriers that are most often associated with delays.\n",
    " * Avoid departure days where delays are most frequent.\n",
    " * Avoid airports which are associated with delays or long taxxying time.\n",
    "* etc.\n",
    " \n",
    "\n",
    "The information about the fields contained in the data file can be found [here](https://dataverse.harvard.edu/dataset.xhtml;jsessionid=0414e25969eccd0e88ae4d64fa0b?persistentId=doi%3A10.7910%2FDVN%2FHG7NV7&version=&q=&fileTypeGroupFacet=&fileTag=%221.+Documentation%22&fileSortField=date&fileSortOrder=desc)\n"
   ]
  },
  {
   "cell_type": "markdown",
   "id": "149805af",
   "metadata": {},
   "source": [
    "### Q19\n",
    "\n",
    "Load the file `flight_info.csv` into a spark `DataFrame` called `fight_info`.\n",
    "\n",
    "  * Note that you will need to create a sparkSession prior to loading the data\n",
    "  \n",
    "* How many entries does the file contain?\n",
    "\n"
   ]
  },
  {
   "cell_type": "code",
   "execution_count": 60,
   "id": "3ad5e6ad",
   "metadata": {},
   "outputs": [],
   "source": [
    "### Write your code here\n",
    "from pyspark.sql import SparkSession\n",
    "session = SparkSession(sc)"
   ]
  },
  {
   "cell_type": "markdown",
   "id": "f9d9aeb1",
   "metadata": {},
   "source": [
    "<h1 style=\"color: green\">Number of entries in file</h1>"
   ]
  },
  {
   "cell_type": "code",
   "execution_count": 61,
   "id": "e28dd641",
   "metadata": {},
   "outputs": [
    {
     "name": "stderr",
     "output_type": "stream",
     "text": [
      "\r",
      "[Stage 320:=================================>                      (6 + 4) / 10]\r",
      "\r",
      "                                                                                \r"
     ]
    },
    {
     "name": "stdout",
     "output_type": "stream",
     "text": [
      "450017\n",
      "CPU times: user 5.46 ms, sys: 1.17 ms, total: 6.63 ms\n",
      "Wall time: 4.18 s\n"
     ]
    }
   ],
   "source": [
    "%%time\n",
    "\n",
    "flight_info = session.read.csv(\"./data/flight_info.csv\", header=True, inferSchema=True)\n",
    "print(flight_info.count())\n",
    "# flight_info.head(1)"
   ]
  },
  {
   "cell_type": "markdown",
   "id": "4fad81f1",
   "metadata": {},
   "source": [
    "### Q20\n",
    "\n",
    "Use `pySpark-SQL` or `pandas-like syntax to compute the airlines represented in this dataset\n",
    "The airline information is stored in a field called UniqueCarrier\n",
    "* UniqueCarrier: Represents the unique carrier code (ex.AA = American Airlines) \n"
   ]
  },
  {
   "cell_type": "code",
   "execution_count": 62,
   "id": "73fd7b0b",
   "metadata": {},
   "outputs": [
    {
     "name": "stdout",
     "output_type": "stream",
     "text": [
      "root\n",
      " |-- ID: integer (nullable = true)\n",
      " |-- DayOfWeek: integer (nullable = true)\n",
      " |-- UniqueCarrier: string (nullable = true)\n",
      " |-- FlightNum: integer (nullable = true)\n",
      " |-- Origin: string (nullable = true)\n",
      " |-- Dest: string (nullable = true)\n",
      " |-- CRSDepTime: integer (nullable = true)\n",
      " |-- DepTime: double (nullable = true)\n",
      " |-- TaxiOut: double (nullable = true)\n",
      " |-- WheelsOff: double (nullable = true)\n",
      " |-- WheelsOn: double (nullable = true)\n",
      " |-- TaxiIn: double (nullable = true)\n",
      " |-- CRSArrTime: integer (nullable = true)\n",
      " |-- ArrTime: double (nullable = true)\n",
      " |-- Cancelled: double (nullable = true)\n",
      " |-- CancellationCode: string (nullable = true)\n",
      " |-- Distance: double (nullable = true)\n",
      " |-- CarrierDelay: double (nullable = true)\n",
      " |-- WeatherDelay: double (nullable = true)\n",
      " |-- NASDelay: double (nullable = true)\n",
      " |-- SecurityDelay: double (nullable = true)\n",
      " |-- LateAircraftDelay: double (nullable = true)\n",
      "\n"
     ]
    }
   ],
   "source": [
    "### Write your code here\n",
    "flight_info.printSchema()"
   ]
  },
  {
   "cell_type": "code",
   "execution_count": 63,
   "id": "62f7cb19",
   "metadata": {},
   "outputs": [],
   "source": [
    "uniqueCarrier = flight_info.select('UniqueCarrier').distinct()\n"
   ]
  },
  {
   "cell_type": "markdown",
   "id": "33b101b2",
   "metadata": {},
   "source": [
    "<h1 style=\"color: green\">Number of unique airlines</h1>"
   ]
  },
  {
   "cell_type": "code",
   "execution_count": 64,
   "id": "fb6d4607",
   "metadata": {},
   "outputs": [
    {
     "data": {
      "text/plain": [
       "12"
      ]
     },
     "execution_count": 64,
     "metadata": {},
     "output_type": "execute_result"
    }
   ],
   "source": [
    "uniqueCarrier.count()"
   ]
  },
  {
   "cell_type": "code",
   "execution_count": 65,
   "id": "3b3ff2b8",
   "metadata": {},
   "outputs": [
    {
     "data": {
      "text/plain": [
       "[Row(UniqueCarrier='AA'),\n",
       " Row(UniqueCarrier='EV'),\n",
       " Row(UniqueCarrier='B6'),\n",
       " Row(UniqueCarrier='DL'),\n",
       " Row(UniqueCarrier='UA'),\n",
       " Row(UniqueCarrier='NK'),\n",
       " Row(UniqueCarrier='OO'),\n",
       " Row(UniqueCarrier='F9'),\n",
       " Row(UniqueCarrier='HA'),\n",
       " Row(UniqueCarrier='WN'),\n",
       " Row(UniqueCarrier='AS'),\n",
       " Row(UniqueCarrier='VX')]"
      ]
     },
     "execution_count": 65,
     "metadata": {},
     "output_type": "execute_result"
    }
   ],
   "source": [
    "uniqueCarrier.head(20)"
   ]
  },
  {
   "cell_type": "markdown",
   "id": "1349b2f5",
   "metadata": {},
   "source": [
    "### Q21\n",
    "\n",
    "The data file contains various other fields, two of which are useful for answering the next question.\n",
    "\n",
    "* CRSDepTime: Represents the scheduled departure time\n",
    "* DepTime: Represents the actual departure time\n",
    "\n",
    "Compute the number of flights delayed per each carried code represented in this dataset. Sort the data by decreasing order of delays.\n",
    "  * A delay is observed when `DepTime` > `CRSDepTime`\n"
   ]
  },
  {
   "cell_type": "code",
   "execution_count": 66,
   "id": "c72cff25",
   "metadata": {},
   "outputs": [
    {
     "data": {
      "text/plain": [
       "[Row(ID=0, DayOfWeek=2, UniqueCarrier='AA', FlightNum=494, Origin='CLT', Dest='PHX', CRSDepTime=1619, DepTime=1616.0, TaxiOut=17.0, WheelsOff=1633.0, WheelsOn=1837.0, TaxiIn=5.0, CRSArrTime=1856, ArrTime=1842.0, Cancelled=0.0, CancellationCode=None, Distance=1773.0, CarrierDelay=None, WeatherDelay=None, NASDelay=None, SecurityDelay=None, LateAircraftDelay=None)]"
      ]
     },
     "execution_count": 66,
     "metadata": {},
     "output_type": "execute_result"
    }
   ],
   "source": [
    "### Write your code here\n",
    "flight_info.createOrReplaceTempView(\"Flights\")\n",
    "session.sql('select * from Flights').head(1)"
   ]
  },
  {
   "cell_type": "code",
   "execution_count": 67,
   "id": "1f60cfb8",
   "metadata": {},
   "outputs": [
    {
     "name": "stdout",
     "output_type": "stream",
     "text": [
      "root\n",
      " |-- ID: integer (nullable = true)\n",
      " |-- DayOfWeek: integer (nullable = true)\n",
      " |-- UniqueCarrier: string (nullable = true)\n",
      " |-- FlightNum: integer (nullable = true)\n",
      " |-- Origin: string (nullable = true)\n",
      " |-- Dest: string (nullable = true)\n",
      " |-- CRSDepTime: integer (nullable = true)\n",
      " |-- DepTime: double (nullable = true)\n",
      " |-- TaxiOut: double (nullable = true)\n",
      " |-- WheelsOff: double (nullable = true)\n",
      " |-- WheelsOn: double (nullable = true)\n",
      " |-- TaxiIn: double (nullable = true)\n",
      " |-- CRSArrTime: integer (nullable = true)\n",
      " |-- ArrTime: double (nullable = true)\n",
      " |-- Cancelled: double (nullable = true)\n",
      " |-- CancellationCode: string (nullable = true)\n",
      " |-- Distance: double (nullable = true)\n",
      " |-- CarrierDelay: double (nullable = true)\n",
      " |-- WeatherDelay: double (nullable = true)\n",
      " |-- NASDelay: double (nullable = true)\n",
      " |-- SecurityDelay: double (nullable = true)\n",
      " |-- LateAircraftDelay: double (nullable = true)\n",
      "\n"
     ]
    }
   ],
   "source": [
    "flight_info.printSchema()"
   ]
  },
  {
   "cell_type": "code",
   "execution_count": 68,
   "id": "b78edee5",
   "metadata": {},
   "outputs": [],
   "source": [
    "flight_delays = session.sql(\"\"\"\n",
    "SELECT UniqueCarrier, COUNT(*) \n",
    "FROM Flights\n",
    "WHERE DepTime > CRSDepTime\n",
    "GROUP BY UniqueCarrier;\n",
    "\"\"\")"
   ]
  },
  {
   "cell_type": "markdown",
   "id": "d20c2f5b",
   "metadata": {},
   "source": [
    "<h1 style=\"color: green\">Flight Delays per Airline</h1>"
   ]
  },
  {
   "cell_type": "code",
   "execution_count": 69,
   "id": "9aa28128",
   "metadata": {},
   "outputs": [
    {
     "data": {
      "text/plain": [
       "[Row(UniqueCarrier='AA', count(1)=23461),\n",
       " Row(UniqueCarrier='EV', count(1)=11596),\n",
       " Row(UniqueCarrier='B6', count(1)=9396),\n",
       " Row(UniqueCarrier='DL', count(1)=24334),\n",
       " Row(UniqueCarrier='UA', count(1)=17701),\n",
       " Row(UniqueCarrier='NK', count(1)=4151),\n",
       " Row(UniqueCarrier='OO', count(1)=16751),\n",
       " Row(UniqueCarrier='F9', count(1)=2988),\n",
       " Row(UniqueCarrier='HA', count(1)=1939),\n",
       " Row(UniqueCarrier='WN', count(1)=47472),\n",
       " Row(UniqueCarrier='AS', count(1)=4488),\n",
       " Row(UniqueCarrier='VX', count(1)=2648)]"
      ]
     },
     "execution_count": 69,
     "metadata": {},
     "output_type": "execute_result"
    }
   ],
   "source": [
    "flight_delays.head(20)"
   ]
  },
  {
   "cell_type": "markdown",
   "id": "1645593b",
   "metadata": {},
   "source": [
    "### Q22\n",
    "\n",
    " Use the file `airlines.csv` to find the the complete name of the airline. Here, you are required to load the file as a pyspark DataFrame; call it `airlines_info`, and repeat the query above while including the `flights.csv `file in your query ( requires doing a `join`) so that you can also display the full name of the carrier (second column). \n",
    "\n",
    "The result will look (approximately) like:\n",
    "\n",
    "```\n",
    "[Row(UniqueCarrier='WN', first(_c1)='Southwest Airlines', count=SOME_count),\n",
    " Row(UniqueCarrier='DL', first(_c1)='Delta Air Lines', count=SOME_count),\n",
    " Row(UniqueCarrier='AA', first(_c1)='American Airlines', count=SOME_count),\n",
    " ...\n",
    " ]\n",
    "```\n",
    "\n",
    "The carrier code in the `airlines.csv` file is provided in the 4th (1-based) column\n",
    "\n",
    "Note that the file `airlines.csv` does not have column header. Hence, you need to print one line of your dataset to see what names Spark gave to the columns. Use the name provided by Spark in your query."
   ]
  },
  {
   "cell_type": "code",
   "execution_count": 70,
   "id": "30cea22b",
   "metadata": {},
   "outputs": [
    {
     "name": "stdout",
     "output_type": "stream",
     "text": [
      "6161\n",
      "[Row(_c0=1, _c1='Private flight', _c2='\\\\N', _c3='-', _c4='N/A', _c5=None, _c6=None, _c7='Y'), Row(_c0=2, _c1='135 Airways', _c2='\\\\N', _c3=None, _c4='GNL', _c5='GENERAL', _c6='United States', _c7='N')]\n"
     ]
    }
   ],
   "source": [
    "### Write your code here\n",
    "airlines_info = session.read.csv(\"./data/airlines.csv\", header=False, inferSchema=True)\n",
    "print(airlines_info.count())\n",
    "print(airlines_info.head(2))\n",
    "airlines_info.createOrReplaceTempView(\"airlines\")"
   ]
  },
  {
   "cell_type": "code",
   "execution_count": 71,
   "id": "22e3f2ee",
   "metadata": {},
   "outputs": [
    {
     "data": {
      "text/plain": [
       "[Row(_c1='Private flight')]"
      ]
     },
     "execution_count": 71,
     "metadata": {},
     "output_type": "execute_result"
    }
   ],
   "source": [
    "session.sql('select _c1 from airlines').head(1)"
   ]
  },
  {
   "cell_type": "code",
   "execution_count": 72,
   "id": "87babc30",
   "metadata": {},
   "outputs": [
    {
     "data": {
      "text/plain": [
       "[Row(_c3='-'), Row(_c3=None), Row(_c3='1T'), Row(_c3=None), Row(_c3=None)]"
      ]
     },
     "execution_count": 72,
     "metadata": {},
     "output_type": "execute_result"
    }
   ],
   "source": [
    "session.sql(\"\"\"\n",
    "SELECT _c3\n",
    "FROM airlines;\n",
    "\"\"\").head(5)"
   ]
  },
  {
   "cell_type": "code",
   "execution_count": 73,
   "id": "06102415",
   "metadata": {},
   "outputs": [],
   "source": [
    "flight_delays_fullName = session.sql(\"\"\"\n",
    "SELECT UniqueCarrier, first(_c1), COUNT(*)\n",
    "FROM Flights FF\n",
    "INNER JOIN airlines AA\n",
    "on FF.UniqueCarrier = AA._c3\n",
    "WHERE DepTime > CRSDepTime\n",
    "GROUP BY UniqueCarrier;\n",
    "\"\"\")"
   ]
  },
  {
   "cell_type": "markdown",
   "id": "f1f4c50c",
   "metadata": {},
   "source": [
    "<h1 style=\"color: green\">Flight Delays per Airline</h1>"
   ]
  },
  {
   "cell_type": "code",
   "execution_count": 74,
   "id": "3540ecb0",
   "metadata": {},
   "outputs": [
    {
     "data": {
      "text/plain": [
       "[Row(UniqueCarrier='AA', first(_c1)='American Airlines', count(1)=23461),\n",
       " Row(UniqueCarrier='AS', first(_c1)='Alaska Airlines', count(1)=4488),\n",
       " Row(UniqueCarrier='B6', first(_c1)='JetBlue Airways', count(1)=9396),\n",
       " Row(UniqueCarrier='DL', first(_c1)='Delta Air Lines', count(1)=24334),\n",
       " Row(UniqueCarrier='EV', first(_c1)='Atlantic Southeast Airlines', count(1)=11596),\n",
       " Row(UniqueCarrier='F9', first(_c1)='Frontier Airlines', count(1)=2988),\n",
       " Row(UniqueCarrier='HA', first(_c1)='Hawaiian Airlines', count(1)=1939),\n",
       " Row(UniqueCarrier='NK', first(_c1)='Spirit Airlines', count(1)=4151),\n",
       " Row(UniqueCarrier='OO', first(_c1)='SkyWest', count(1)=16751),\n",
       " Row(UniqueCarrier='UA', first(_c1)='United Airlines', count(1)=17701),\n",
       " Row(UniqueCarrier='VX', first(_c1)='Virgin America', count(1)=2648),\n",
       " Row(UniqueCarrier='WN', first(_c1)='Southwest Airlines', count(1)=47472)]"
      ]
     },
     "execution_count": 74,
     "metadata": {},
     "output_type": "execute_result"
    }
   ],
   "source": [
    "flight_delays_fullName.head(20)"
   ]
  },
  {
   "cell_type": "markdown",
   "id": "4e0123a8",
   "metadata": {},
   "source": [
    "### Q23\n",
    "\n",
    "Compute the number of delays per company per day. The day is encoded as an integer in the column `DayOfWeek` in `fight_info`. You can display the day as an integer or map it into a string name of the week.\n",
    "Sort the data by airline code (UniqueCarrier) and by increasing values of DayOfWeek\n",
    "\n",
    "\n",
    "You results should look like the following\n",
    "\n"
   ]
  },
  {
   "cell_type": "code",
   "execution_count": 75,
   "id": "f9971baa",
   "metadata": {},
   "outputs": [
    {
     "data": {
      "text/plain": [
       "[Row(UniqueCarrier='AA', DayOfWeek=1, count(1)=4639),\n",
       " Row(UniqueCarrier='AA', DayOfWeek=2, count(1)=3288),\n",
       " Row(UniqueCarrier='AA', DayOfWeek=3, count(1)=2570),\n",
       " Row(UniqueCarrier='AA', DayOfWeek=4, count(1)=3142),\n",
       " Row(UniqueCarrier='AA', DayOfWeek=5, count(1)=3108),\n",
       " Row(UniqueCarrier='AA', DayOfWeek=6, count(1)=2509),\n",
       " Row(UniqueCarrier='AA', DayOfWeek=7, count(1)=4205),\n",
       " Row(UniqueCarrier='AS', DayOfWeek=1, count(1)=786),\n",
       " Row(UniqueCarrier='AS', DayOfWeek=2, count(1)=580),\n",
       " Row(UniqueCarrier='AS', DayOfWeek=3, count(1)=573),\n",
       " Row(UniqueCarrier='AS', DayOfWeek=4, count(1)=656),\n",
       " Row(UniqueCarrier='AS', DayOfWeek=5, count(1)=554),\n",
       " Row(UniqueCarrier='AS', DayOfWeek=6, count(1)=470),\n",
       " Row(UniqueCarrier='AS', DayOfWeek=7, count(1)=869),\n",
       " Row(UniqueCarrier='B6', DayOfWeek=1, count(1)=1754),\n",
       " Row(UniqueCarrier='B6', DayOfWeek=2, count(1)=1628),\n",
       " Row(UniqueCarrier='B6', DayOfWeek=3, count(1)=1109),\n",
       " Row(UniqueCarrier='B6', DayOfWeek=4, count(1)=1101),\n",
       " Row(UniqueCarrier='B6', DayOfWeek=5, count(1)=1175),\n",
       " Row(UniqueCarrier='B6', DayOfWeek=6, count(1)=900),\n",
       " Row(UniqueCarrier='B6', DayOfWeek=7, count(1)=1729),\n",
       " Row(UniqueCarrier='DL', DayOfWeek=1, count(1)=5573),\n",
       " Row(UniqueCarrier='DL', DayOfWeek=2, count(1)=3231),\n",
       " Row(UniqueCarrier='DL', DayOfWeek=3, count(1)=2390),\n",
       " Row(UniqueCarrier='DL', DayOfWeek=4, count(1)=2964),\n",
       " Row(UniqueCarrier='DL', DayOfWeek=5, count(1)=3002),\n",
       " Row(UniqueCarrier='DL', DayOfWeek=6, count(1)=2674),\n",
       " Row(UniqueCarrier='DL', DayOfWeek=7, count(1)=4500),\n",
       " Row(UniqueCarrier='EV', DayOfWeek=1, count(1)=2520),\n",
       " Row(UniqueCarrier='EV', DayOfWeek=2, count(1)=1921)]"
      ]
     },
     "execution_count": 75,
     "metadata": {},
     "output_type": "execute_result"
    }
   ],
   "source": [
    "### Write your code here\n",
    "session.sql(\"\"\"\n",
    "SELECT UniqueCarrier, DayOfWeek, COUNT(*)\n",
    "FROM Flights\n",
    "WHERE DepTime > CRSDepTime\n",
    "GROUP BY UniqueCarrier, DayOfWeek\n",
    "ORDER BY UniqueCarrier, DayOfWeek ASC;\n",
    "\"\"\").head(30)"
   ]
  },
  {
   "cell_type": "markdown",
   "id": "4c955760",
   "metadata": {},
   "source": [
    "### Q24  \n",
    "\n",
    "Counting the number of delayed flights per airline is misleading, as airlines with more flights are more likley to have delays than companies with substantially fiewer flights. \n",
    "\n",
    "Repeat the same query above but, for each carrier, normalize the counts of delays by the total number of flights for that carrier. \n"
   ]
  },
  {
   "cell_type": "code",
   "execution_count": 76,
   "id": "13ae9b5e",
   "metadata": {},
   "outputs": [],
   "source": [
    "### Write your code here\n",
    "Counts = session.sql(\"\"\"\n",
    "SELECT UniqueCarrier, first(_c1), COUNT(*)\n",
    "FROM Flights\n",
    "INNER JOIN airlines\n",
    "on Flights.UniqueCarrier = airlines._c3\n",
    "WHERE DepTime > CRSDepTime\n",
    "GROUP BY UniqueCarrier;\n",
    "\"\"\")\n",
    "\n",
    "Totals = session.sql(\"\"\"\n",
    "SELECT UniqueCarrier, COUNT(*) \n",
    "FROM Flights\n",
    "GROUP BY UniqueCarrier;\n",
    "\"\"\")"
   ]
  },
  {
   "cell_type": "code",
   "execution_count": 77,
   "id": "607b369b",
   "metadata": {},
   "outputs": [
    {
     "data": {
      "text/plain": [
       "[Row(UniqueCarrier='AA', first(_c1)='American Airlines', count(1)=23461),\n",
       " Row(UniqueCarrier='AS', first(_c1)='Alaska Airlines', count(1)=4488),\n",
       " Row(UniqueCarrier='B6', first(_c1)='JetBlue Airways', count(1)=9396)]"
      ]
     },
     "execution_count": 77,
     "metadata": {},
     "output_type": "execute_result"
    }
   ],
   "source": [
    "Counts.take(3)"
   ]
  },
  {
   "cell_type": "code",
   "execution_count": 78,
   "id": "e3784125",
   "metadata": {},
   "outputs": [
    {
     "data": {
      "text/plain": [
       "[Row(UniqueCarrier='AA', count(1)=73132),\n",
       " Row(UniqueCarrier='EV', count(1)=35037),\n",
       " Row(UniqueCarrier='B6', count(1)=24602)]"
      ]
     },
     "execution_count": 78,
     "metadata": {},
     "output_type": "execute_result"
    }
   ],
   "source": [
    "Totals.take(3)"
   ]
  },
  {
   "cell_type": "code",
   "execution_count": 79,
   "id": "2740a874",
   "metadata": {},
   "outputs": [
    {
     "data": {
      "text/plain": [
       "[Row(UniqueCarrier='AA', first(_c1)='American Airlines', count(1)=23461)]"
      ]
     },
     "execution_count": 79,
     "metadata": {},
     "output_type": "execute_result"
    }
   ],
   "source": [
    "Counts.createOrReplaceTempView(\"counts\")\n",
    "Totals.createOrReplaceTempView(\"totals\")\n",
    "session.sql('select * from counts').head(1)"
   ]
  },
  {
   "cell_type": "code",
   "execution_count": 80,
   "id": "21882955",
   "metadata": {},
   "outputs": [
    {
     "data": {
      "text/plain": [
       "[Row(UniqueCarrier='AA', norm=0.32),\n",
       " Row(UniqueCarrier='EV', norm=0.33),\n",
       " Row(UniqueCarrier='B6', norm=0.38),\n",
       " Row(UniqueCarrier='DL', norm=0.35),\n",
       " Row(UniqueCarrier='UA', norm=0.42),\n",
       " Row(UniqueCarrier='NK', norm=0.33),\n",
       " Row(UniqueCarrier='OO', norm=0.33),\n",
       " Row(UniqueCarrier='F9', norm=0.39),\n",
       " Row(UniqueCarrier='HA', norm=0.31),\n",
       " Row(UniqueCarrier='WN', norm=0.44)]"
      ]
     },
     "execution_count": 80,
     "metadata": {},
     "output_type": "execute_result"
    }
   ],
   "source": [
    "norms = session.sql(\"\"\"\n",
    "SELECT c.UniqueCarrier, ROUND(c.`count(1)` / t.`count(1)`,2) AS norm\n",
    "FROM counts c\n",
    "INNER JOIN totals t\n",
    "on c.UniqueCarrier = t.UniqueCarrier;\n",
    "\"\"\")\n",
    "norms.head(10)"
   ]
  },
  {
   "cell_type": "code",
   "execution_count": 81,
   "id": "c028ed64",
   "metadata": {},
   "outputs": [
    {
     "data": {
      "text/plain": [
       "[Row(UniqueCarrier='AA', first(_c1)='American Airlines', count(1)=23461),\n",
       " Row(UniqueCarrier='AS', first(_c1)='Alaska Airlines', count(1)=4488),\n",
       " Row(UniqueCarrier='B6', first(_c1)='JetBlue Airways', count(1)=9396),\n",
       " Row(UniqueCarrier='DL', first(_c1)='Delta Air Lines', count(1)=24334),\n",
       " Row(UniqueCarrier='EV', first(_c1)='Atlantic Southeast Airlines', count(1)=11596),\n",
       " Row(UniqueCarrier='F9', first(_c1)='Frontier Airlines', count(1)=2988),\n",
       " Row(UniqueCarrier='HA', first(_c1)='Hawaiian Airlines', count(1)=1939),\n",
       " Row(UniqueCarrier='NK', first(_c1)='Spirit Airlines', count(1)=4151),\n",
       " Row(UniqueCarrier='OO', first(_c1)='SkyWest', count(1)=16751),\n",
       " Row(UniqueCarrier='UA', first(_c1)='United Airlines', count(1)=17701),\n",
       " Row(UniqueCarrier='VX', first(_c1)='Virgin America', count(1)=2648),\n",
       " Row(UniqueCarrier='WN', first(_c1)='Southwest Airlines', count(1)=47472)]"
      ]
     },
     "execution_count": 81,
     "metadata": {},
     "output_type": "execute_result"
    }
   ],
   "source": [
    "original = session.sql(\"\"\"\n",
    "SELECT UniqueCarrier, first(_c1), COUNT(*)\n",
    "FROM Flights FF\n",
    "INNER JOIN airlines AA\n",
    "on FF.UniqueCarrier = AA._c3\n",
    "WHERE DepTime > CRSDepTime\n",
    "GROUP BY UniqueCarrier;\n",
    "\"\"\")\n",
    "original.head(20)"
   ]
  },
  {
   "cell_type": "code",
   "execution_count": 82,
   "id": "f23af98b",
   "metadata": {},
   "outputs": [],
   "source": [
    "norms.createOrReplaceTempView(\"norms\")\n",
    "original.createOrReplaceTempView(\"original\")"
   ]
  },
  {
   "cell_type": "markdown",
   "id": "4ace5309",
   "metadata": {},
   "source": [
    "<h1 style=\"color: green\">Flight Delays per Airline normalized</h1>"
   ]
  },
  {
   "cell_type": "code",
   "execution_count": 83,
   "id": "e0bc3fcc",
   "metadata": {},
   "outputs": [
    {
     "data": {
      "text/plain": [
       "[Row(UniqueCarrier='AA', first(_c1)='American Airlines', norm=0.32),\n",
       " Row(UniqueCarrier='EV', first(_c1)='Atlantic Southeast Airlines', norm=0.33),\n",
       " Row(UniqueCarrier='B6', first(_c1)='JetBlue Airways', norm=0.38),\n",
       " Row(UniqueCarrier='DL', first(_c1)='Delta Air Lines', norm=0.35),\n",
       " Row(UniqueCarrier='UA', first(_c1)='United Airlines', norm=0.42),\n",
       " Row(UniqueCarrier='NK', first(_c1)='Spirit Airlines', norm=0.33),\n",
       " Row(UniqueCarrier='OO', first(_c1)='SkyWest', norm=0.33),\n",
       " Row(UniqueCarrier='F9', first(_c1)='Frontier Airlines', norm=0.39),\n",
       " Row(UniqueCarrier='HA', first(_c1)='Hawaiian Airlines', norm=0.31),\n",
       " Row(UniqueCarrier='WN', first(_c1)='Southwest Airlines', norm=0.44),\n",
       " Row(UniqueCarrier='AS', first(_c1)='Alaska Airlines', norm=0.31),\n",
       " Row(UniqueCarrier='VX', first(_c1)='Virgin America', norm=0.46)]"
      ]
     },
     "execution_count": 83,
     "metadata": {},
     "output_type": "execute_result"
    }
   ],
   "source": [
    "session.sql(\"\"\"\n",
    "SELECT o.UniqueCarrier, o.`first(_c1)`, n.norm \n",
    "FROM original o\n",
    "INNER JOIN norms n\n",
    "on o.UniqueCarrier = n.UniqueCarrier\n",
    "\"\"\").head(20)"
   ]
  },
  {
   "cell_type": "markdown",
   "id": "5b73b3e4",
   "metadata": {},
   "source": [
    "### Q25 \n",
    "\n",
    "Time the query above. How long did it take to run. \n",
    "  * Make sure you run the code a few times and compute the average run time.\n",
    "  * The above should be easy to implement if you use the correct Jupyter Notebook `magic` function\n",
    "  "
   ]
  },
  {
   "cell_type": "code",
   "execution_count": 84,
   "id": "7df43da8",
   "metadata": {},
   "outputs": [
    {
     "name": "stdout",
     "output_type": "stream",
     "text": [
      "11.3 ms ± 231 µs per loop (mean ± std. dev. of 10 runs, 10 loops each)\n"
     ]
    },
    {
     "data": {
      "text/plain": [
       "[Row(UniqueCarrier='AA', first(_c1)='American Airlines', norm=0.32),\n",
       " Row(UniqueCarrier='EV', first(_c1)='Atlantic Southeast Airlines', norm=0.33),\n",
       " Row(UniqueCarrier='B6', first(_c1)='JetBlue Airways', norm=0.38),\n",
       " Row(UniqueCarrier='DL', first(_c1)='Delta Air Lines', norm=0.35),\n",
       " Row(UniqueCarrier='UA', first(_c1)='United Airlines', norm=0.42),\n",
       " Row(UniqueCarrier='NK', first(_c1)='Spirit Airlines', norm=0.33),\n",
       " Row(UniqueCarrier='OO', first(_c1)='SkyWest', norm=0.33),\n",
       " Row(UniqueCarrier='F9', first(_c1)='Frontier Airlines', norm=0.39),\n",
       " Row(UniqueCarrier='HA', first(_c1)='Hawaiian Airlines', norm=0.31),\n",
       " Row(UniqueCarrier='WN', first(_c1)='Southwest Airlines', norm=0.44),\n",
       " Row(UniqueCarrier='AS', first(_c1)='Alaska Airlines', norm=0.31),\n",
       " Row(UniqueCarrier='VX', first(_c1)='Virgin America', norm=0.46)]"
      ]
     },
     "execution_count": 84,
     "metadata": {},
     "output_type": "execute_result"
    }
   ],
   "source": [
    "%timeit -n10 -r10 -o sum(range(1000000))\n",
    "### Write your code here\n",
    "session.sql(\"\"\"\n",
    "SELECT o.UniqueCarrier, o.`first(_c1)`, n.norm \n",
    "FROM original o\n",
    "INNER JOIN norms n\n",
    "on o.UniqueCarrier = n.UniqueCarrier\n",
    "\"\"\").head(20)"
   ]
  },
  {
   "cell_type": "markdown",
   "id": "604e85e0",
   "metadata": {},
   "source": [
    "### Q26 \n",
    "\n",
    "Use one of the techniques covered in class to accelerate this query. Time your query to see by how much the run time was improved"
   ]
  },
  {
   "cell_type": "markdown",
   "id": "d4953f56",
   "metadata": {},
   "source": [
    "# Caching the tables for SPEED"
   ]
  },
  {
   "cell_type": "code",
   "execution_count": 85,
   "id": "2e951d64",
   "metadata": {},
   "outputs": [
    {
     "data": {
      "text/plain": [
       "[]"
      ]
     },
     "execution_count": 85,
     "metadata": {},
     "output_type": "execute_result"
    }
   ],
   "source": [
    "### Write your code here\n",
    "session.sql(\"\"\"\n",
    "UNCACHE TABLE original\n",
    "\"\"\").collect()\n",
    "\n",
    "session.sql(\"\"\"\n",
    "UNCACHE TABLE Flights\n",
    "\"\"\").collect()\n",
    "\n",
    "session.sql(\"\"\"\n",
    "UNCACHE TABLE airlines\n",
    "\"\"\").collect()\n",
    "\n",
    "session.sql(\"\"\"\n",
    "UNCACHE TABLE norms\n",
    "\"\"\").collect()"
   ]
  },
  {
   "cell_type": "code",
   "execution_count": 86,
   "id": "612bff0a",
   "metadata": {},
   "outputs": [
    {
     "name": "stdout",
     "output_type": "stream",
     "text": [
      "12.5 ms ± 1.22 ms per loop (mean ± std. dev. of 10 runs, 10 loops each)\n"
     ]
    },
    {
     "data": {
      "text/plain": [
       "<bound method DataFrame.collect of DataFrame[UniqueCarrier: string, first(_c1): string, norm: double]>"
      ]
     },
     "execution_count": 86,
     "metadata": {},
     "output_type": "execute_result"
    }
   ],
   "source": [
    "%timeit -n10 -r10 -o sum(range(1000000))\n",
    "session.sql(\"\"\"\n",
    "SELECT o.UniqueCarrier, o.`first(_c1)`, n.norm \n",
    "FROM original o\n",
    "INNER JOIN norms n\n",
    "on o.UniqueCarrier = n.UniqueCarrier;\n",
    "\"\"\").collect"
   ]
  },
  {
   "cell_type": "code",
   "execution_count": 87,
   "id": "7d105508",
   "metadata": {},
   "outputs": [
    {
     "name": "stderr",
     "output_type": "stream",
     "text": [
      "\r",
      "[Stage 402:======================>                                 (4 + 6) / 10]\r",
      "\r",
      "                                                                                \r"
     ]
    },
    {
     "data": {
      "text/plain": [
       "[]"
      ]
     },
     "execution_count": 87,
     "metadata": {},
     "output_type": "execute_result"
    }
   ],
   "source": [
    "### Write your code here\n",
    "session.sql(\"\"\"\n",
    "CACHE TABLE original\n",
    "\"\"\").collect()\n",
    "\n",
    "session.sql(\"\"\"\n",
    "CACHE TABLE Flights\n",
    "\"\"\").collect()\n",
    "\n",
    "session.sql(\"\"\"\n",
    "CACHE TABLE airlines\n",
    "\"\"\").collect()\n",
    "\n",
    "session.sql(\"\"\"\n",
    "CACHE TABLE norms\n",
    "\"\"\").collect()"
   ]
  },
  {
   "cell_type": "code",
   "execution_count": 88,
   "id": "66e733f8",
   "metadata": {},
   "outputs": [
    {
     "name": "stdout",
     "output_type": "stream",
     "text": [
      "11.4 ms ± 268 µs per loop (mean ± std. dev. of 10 runs, 10 loops each)\n"
     ]
    },
    {
     "data": {
      "text/plain": [
       "<bound method DataFrame.collect of DataFrame[UniqueCarrier: string, first(_c1): string, norm: double]>"
      ]
     },
     "execution_count": 88,
     "metadata": {},
     "output_type": "execute_result"
    }
   ],
   "source": [
    "%timeit -n10 -r10 -o sum(range(1000000))\n",
    "session.sql(\"\"\"\n",
    "SELECT o.UniqueCarrier, o.`first(_c1)`, n.norm \n",
    "FROM original o\n",
    "INNER JOIN norms n\n",
    "on o.UniqueCarrier = n.UniqueCarrier;\n",
    "\"\"\").collect"
   ]
  },
  {
   "cell_type": "markdown",
   "id": "8a87a433",
   "metadata": {},
   "source": [
    "### Q27 \n",
    "\n",
    "Is the departure delay (i.e., DepTime - CRSDepTime) predictive of the arrival delay (ArrTime > CRSArrTime)?\n",
    "Use an approach of your choice (e.g. `skelearn` which we covered in class or `Spark`) to model as a linear regression the arrival delay as a function of the departure delay. \n",
    "\n"
   ]
  },
  {
   "cell_type": "code",
   "execution_count": 89,
   "id": "f8dbd52d",
   "metadata": {},
   "outputs": [
    {
     "data": {
      "text/plain": [
       "[Row((DepTime - CRSDepTime)=-3.0, (ArrTime > CRSArrTime)=False),\n",
       " Row((DepTime - CRSDepTime)=-5.0, (ArrTime > CRSArrTime)=False),\n",
       " Row((DepTime - CRSDepTime)=-8.0, (ArrTime > CRSArrTime)=False),\n",
       " Row((DepTime - CRSDepTime)=37.0, (ArrTime > CRSArrTime)=True),\n",
       " Row((DepTime - CRSDepTime)=13.0, (ArrTime > CRSArrTime)=True),\n",
       " Row((DepTime - CRSDepTime)=17.0, (ArrTime > CRSArrTime)=True),\n",
       " Row((DepTime - CRSDepTime)=-3.0, (ArrTime > CRSArrTime)=True),\n",
       " Row((DepTime - CRSDepTime)=0.0, (ArrTime > CRSArrTime)=True),\n",
       " Row((DepTime - CRSDepTime)=-3.0, (ArrTime > CRSArrTime)=True),\n",
       " Row((DepTime - CRSDepTime)=-1.0, (ArrTime > CRSArrTime)=True)]"
      ]
     },
     "execution_count": 89,
     "metadata": {},
     "output_type": "execute_result"
    }
   ],
   "source": [
    "### Write your code here\n",
    "df = session.sql(\"\"\"\n",
    "SELECT DepTime - CRSDepTime, ArrTime > CRSArrTime\n",
    "FROM Flights\n",
    "\"\"\")\n",
    "df.head(10)\n",
    "\n",
    "# WHERE DepTime > CRSDepTime;"
   ]
  },
  {
   "cell_type": "code",
   "execution_count": 90,
   "id": "87cc21df",
   "metadata": {},
   "outputs": [
    {
     "name": "stdout",
     "output_type": "stream",
     "text": [
      "root\n",
      " |-- (DepTime - CRSDepTime): double (nullable = true)\n",
      " |-- (ArrTime > CRSArrTime): boolean (nullable = true)\n",
      "\n"
     ]
    }
   ],
   "source": [
    "df.printSchema()"
   ]
  },
  {
   "cell_type": "code",
   "execution_count": 91,
   "id": "ef020afc",
   "metadata": {},
   "outputs": [],
   "source": [
    "df = df.toDF(\"depDelay\", \"arrDelay\")"
   ]
  },
  {
   "cell_type": "code",
   "execution_count": 92,
   "id": "a233a6d5",
   "metadata": {},
   "outputs": [
    {
     "data": {
      "text/plain": [
       "[Row(depDelay=-3.0, arrDelay=False),\n",
       " Row(depDelay=-5.0, arrDelay=False),\n",
       " Row(depDelay=-8.0, arrDelay=False),\n",
       " Row(depDelay=37.0, arrDelay=True),\n",
       " Row(depDelay=13.0, arrDelay=True)]"
      ]
     },
     "execution_count": 92,
     "metadata": {},
     "output_type": "execute_result"
    }
   ],
   "source": [
    "df.take(5)"
   ]
  },
  {
   "cell_type": "code",
   "execution_count": 93,
   "id": "faf96ec8",
   "metadata": {},
   "outputs": [],
   "source": [
    "df = df.toPandas()"
   ]
  },
  {
   "cell_type": "code",
   "execution_count": 94,
   "id": "27749f4d",
   "metadata": {},
   "outputs": [
    {
     "data": {
      "text/plain": [
       "pandas.core.frame.DataFrame"
      ]
     },
     "execution_count": 94,
     "metadata": {},
     "output_type": "execute_result"
    }
   ],
   "source": [
    "type(df)"
   ]
  },
  {
   "cell_type": "code",
   "execution_count": 95,
   "id": "33342df8",
   "metadata": {},
   "outputs": [
    {
     "data": {
      "text/html": [
       "<div>\n",
       "<style scoped>\n",
       "    .dataframe tbody tr th:only-of-type {\n",
       "        vertical-align: middle;\n",
       "    }\n",
       "\n",
       "    .dataframe tbody tr th {\n",
       "        vertical-align: top;\n",
       "    }\n",
       "\n",
       "    .dataframe thead th {\n",
       "        text-align: right;\n",
       "    }\n",
       "</style>\n",
       "<table border=\"1\" class=\"dataframe\">\n",
       "  <thead>\n",
       "    <tr style=\"text-align: right;\">\n",
       "      <th></th>\n",
       "      <th>depDelay</th>\n",
       "      <th>arrDelay</th>\n",
       "    </tr>\n",
       "  </thead>\n",
       "  <tbody>\n",
       "    <tr>\n",
       "      <th>0</th>\n",
       "      <td>-3.0</td>\n",
       "      <td>False</td>\n",
       "    </tr>\n",
       "    <tr>\n",
       "      <th>1</th>\n",
       "      <td>-5.0</td>\n",
       "      <td>False</td>\n",
       "    </tr>\n",
       "    <tr>\n",
       "      <th>2</th>\n",
       "      <td>-8.0</td>\n",
       "      <td>False</td>\n",
       "    </tr>\n",
       "    <tr>\n",
       "      <th>3</th>\n",
       "      <td>37.0</td>\n",
       "      <td>True</td>\n",
       "    </tr>\n",
       "    <tr>\n",
       "      <th>4</th>\n",
       "      <td>13.0</td>\n",
       "      <td>True</td>\n",
       "    </tr>\n",
       "    <tr>\n",
       "      <th>5</th>\n",
       "      <td>17.0</td>\n",
       "      <td>True</td>\n",
       "    </tr>\n",
       "    <tr>\n",
       "      <th>6</th>\n",
       "      <td>-3.0</td>\n",
       "      <td>True</td>\n",
       "    </tr>\n",
       "    <tr>\n",
       "      <th>7</th>\n",
       "      <td>0.0</td>\n",
       "      <td>True</td>\n",
       "    </tr>\n",
       "    <tr>\n",
       "      <th>8</th>\n",
       "      <td>-3.0</td>\n",
       "      <td>True</td>\n",
       "    </tr>\n",
       "    <tr>\n",
       "      <th>9</th>\n",
       "      <td>-1.0</td>\n",
       "      <td>True</td>\n",
       "    </tr>\n",
       "  </tbody>\n",
       "</table>\n",
       "</div>"
      ],
      "text/plain": [
       "   depDelay arrDelay\n",
       "0      -3.0    False\n",
       "1      -5.0    False\n",
       "2      -8.0    False\n",
       "3      37.0     True\n",
       "4      13.0     True\n",
       "5      17.0     True\n",
       "6      -3.0     True\n",
       "7       0.0     True\n",
       "8      -3.0     True\n",
       "9      -1.0     True"
      ]
     },
     "execution_count": 95,
     "metadata": {},
     "output_type": "execute_result"
    }
   ],
   "source": [
    "df.head(10)"
   ]
  },
  {
   "cell_type": "code",
   "execution_count": 96,
   "id": "b18b5361",
   "metadata": {},
   "outputs": [
    {
     "data": {
      "text/plain": [
       "450017"
      ]
     },
     "execution_count": 96,
     "metadata": {},
     "output_type": "execute_result"
    }
   ],
   "source": [
    "df.shape[0]"
   ]
  },
  {
   "cell_type": "code",
   "execution_count": 97,
   "id": "44110f4b",
   "metadata": {},
   "outputs": [],
   "source": [
    "df2 = df[df['depDelay'].notna()]"
   ]
  },
  {
   "cell_type": "code",
   "execution_count": 98,
   "id": "ffc48890",
   "metadata": {},
   "outputs": [
    {
     "data": {
      "text/plain": [
       "depDelay    -5.0\n",
       "arrDelay    True\n",
       "Name: 65, dtype: object"
      ]
     },
     "execution_count": 98,
     "metadata": {},
     "output_type": "execute_result"
    }
   ],
   "source": [
    "df2.iloc[63]"
   ]
  },
  {
   "cell_type": "code",
   "execution_count": 99,
   "id": "6c71b143",
   "metadata": {},
   "outputs": [],
   "source": [
    "df3 = df2[df2['arrDelay'].notna()]"
   ]
  },
  {
   "cell_type": "code",
   "execution_count": 100,
   "id": "6472a370",
   "metadata": {},
   "outputs": [
    {
     "data": {
      "text/plain": [
       "441476"
      ]
     },
     "execution_count": 100,
     "metadata": {},
     "output_type": "execute_result"
    }
   ],
   "source": [
    "df2.shape[0]"
   ]
  },
  {
   "cell_type": "code",
   "execution_count": 101,
   "id": "32e6f10b",
   "metadata": {},
   "outputs": [
    {
     "data": {
      "text/plain": [
       "440746"
      ]
     },
     "execution_count": 101,
     "metadata": {},
     "output_type": "execute_result"
    }
   ],
   "source": [
    "df3.shape[0]"
   ]
  },
  {
   "cell_type": "code",
   "execution_count": 102,
   "id": "5dc6f4a8",
   "metadata": {},
   "outputs": [],
   "source": [
    "X_train = df3['depDelay'].values.reshape(-1, 1)"
   ]
  },
  {
   "cell_type": "code",
   "execution_count": 103,
   "id": "389585cf",
   "metadata": {},
   "outputs": [],
   "source": [
    "Y_train = df3['arrDelay'].values.reshape(-1, 1)"
   ]
  },
  {
   "cell_type": "code",
   "execution_count": 104,
   "id": "2d5f41f7",
   "metadata": {},
   "outputs": [
    {
     "data": {
      "text/plain": [
       "440746"
      ]
     },
     "execution_count": 104,
     "metadata": {},
     "output_type": "execute_result"
    }
   ],
   "source": [
    "len(X_train)"
   ]
  },
  {
   "cell_type": "code",
   "execution_count": 105,
   "id": "4c553332",
   "metadata": {},
   "outputs": [],
   "source": [
    "from sklearn import preprocessing"
   ]
  },
  {
   "cell_type": "code",
   "execution_count": 106,
   "id": "c17b652c",
   "metadata": {},
   "outputs": [],
   "source": [
    "scaler = preprocessing.StandardScaler().fit(X_train)"
   ]
  },
  {
   "cell_type": "code",
   "execution_count": 107,
   "id": "64ac5c55",
   "metadata": {},
   "outputs": [],
   "source": [
    "X_train = scaler.transform(X_train)"
   ]
  },
  {
   "cell_type": "code",
   "execution_count": 108,
   "id": "14657f8c",
   "metadata": {},
   "outputs": [
    {
     "data": {
      "text/plain": [
       "array([[-0.06611764],\n",
       "       [-0.07928361],\n",
       "       [-0.09903257],\n",
       "       [ 0.19720173],\n",
       "       [ 0.0392101 ],\n",
       "       [ 0.06554204],\n",
       "       [-0.06611764],\n",
       "       [-0.04636869],\n",
       "       [-0.06611764],\n",
       "       [-0.05295168]])"
      ]
     },
     "execution_count": 108,
     "metadata": {},
     "output_type": "execute_result"
    }
   ],
   "source": [
    "X_train[:10]"
   ]
  },
  {
   "cell_type": "code",
   "execution_count": 109,
   "id": "5191e403",
   "metadata": {},
   "outputs": [],
   "source": [
    "from sklearn.linear_model import LinearRegression\n",
    "from sklearn.model_selection import train_test_split\n",
    "from matplotlib import pyplot as plt"
   ]
  },
  {
   "cell_type": "code",
   "execution_count": 110,
   "id": "41eedf74",
   "metadata": {},
   "outputs": [],
   "source": [
    "x_train, x_test, y_train, y_test = train_test_split(X_train, Y_train)"
   ]
  },
  {
   "cell_type": "code",
   "execution_count": 111,
   "id": "1066a98d",
   "metadata": {},
   "outputs": [
    {
     "data": {
      "text/plain": [
       "array([[True],\n",
       "       [True],\n",
       "       [False],\n",
       "       [False],\n",
       "       [False]], dtype=object)"
      ]
     },
     "execution_count": 111,
     "metadata": {},
     "output_type": "execute_result"
    }
   ],
   "source": [
    "y_train[:5]"
   ]
  },
  {
   "cell_type": "code",
   "execution_count": 112,
   "id": "6d5ab301",
   "metadata": {},
   "outputs": [],
   "source": [
    "%matplotlib notebook"
   ]
  },
  {
   "cell_type": "code",
   "execution_count": 113,
   "id": "77146f0a",
   "metadata": {},
   "outputs": [
    {
     "data": {
      "application/javascript": [
       "/* Put everything inside the global mpl namespace */\n",
       "/* global mpl */\n",
       "window.mpl = {};\n",
       "\n",
       "mpl.get_websocket_type = function () {\n",
       "    if (typeof WebSocket !== 'undefined') {\n",
       "        return WebSocket;\n",
       "    } else if (typeof MozWebSocket !== 'undefined') {\n",
       "        return MozWebSocket;\n",
       "    } else {\n",
       "        alert(\n",
       "            'Your browser does not have WebSocket support. ' +\n",
       "                'Please try Chrome, Safari or Firefox ≥ 6. ' +\n",
       "                'Firefox 4 and 5 are also supported but you ' +\n",
       "                'have to enable WebSockets in about:config.'\n",
       "        );\n",
       "    }\n",
       "};\n",
       "\n",
       "mpl.figure = function (figure_id, websocket, ondownload, parent_element) {\n",
       "    this.id = figure_id;\n",
       "\n",
       "    this.ws = websocket;\n",
       "\n",
       "    this.supports_binary = this.ws.binaryType !== undefined;\n",
       "\n",
       "    if (!this.supports_binary) {\n",
       "        var warnings = document.getElementById('mpl-warnings');\n",
       "        if (warnings) {\n",
       "            warnings.style.display = 'block';\n",
       "            warnings.textContent =\n",
       "                'This browser does not support binary websocket messages. ' +\n",
       "                'Performance may be slow.';\n",
       "        }\n",
       "    }\n",
       "\n",
       "    this.imageObj = new Image();\n",
       "\n",
       "    this.context = undefined;\n",
       "    this.message = undefined;\n",
       "    this.canvas = undefined;\n",
       "    this.rubberband_canvas = undefined;\n",
       "    this.rubberband_context = undefined;\n",
       "    this.format_dropdown = undefined;\n",
       "\n",
       "    this.image_mode = 'full';\n",
       "\n",
       "    this.root = document.createElement('div');\n",
       "    this.root.setAttribute('style', 'display: inline-block');\n",
       "    this._root_extra_style(this.root);\n",
       "\n",
       "    parent_element.appendChild(this.root);\n",
       "\n",
       "    this._init_header(this);\n",
       "    this._init_canvas(this);\n",
       "    this._init_toolbar(this);\n",
       "\n",
       "    var fig = this;\n",
       "\n",
       "    this.waiting = false;\n",
       "\n",
       "    this.ws.onopen = function () {\n",
       "        fig.send_message('supports_binary', { value: fig.supports_binary });\n",
       "        fig.send_message('send_image_mode', {});\n",
       "        if (fig.ratio !== 1) {\n",
       "            fig.send_message('set_dpi_ratio', { dpi_ratio: fig.ratio });\n",
       "        }\n",
       "        fig.send_message('refresh', {});\n",
       "    };\n",
       "\n",
       "    this.imageObj.onload = function () {\n",
       "        if (fig.image_mode === 'full') {\n",
       "            // Full images could contain transparency (where diff images\n",
       "            // almost always do), so we need to clear the canvas so that\n",
       "            // there is no ghosting.\n",
       "            fig.context.clearRect(0, 0, fig.canvas.width, fig.canvas.height);\n",
       "        }\n",
       "        fig.context.drawImage(fig.imageObj, 0, 0);\n",
       "    };\n",
       "\n",
       "    this.imageObj.onunload = function () {\n",
       "        fig.ws.close();\n",
       "    };\n",
       "\n",
       "    this.ws.onmessage = this._make_on_message_function(this);\n",
       "\n",
       "    this.ondownload = ondownload;\n",
       "};\n",
       "\n",
       "mpl.figure.prototype._init_header = function () {\n",
       "    var titlebar = document.createElement('div');\n",
       "    titlebar.classList =\n",
       "        'ui-dialog-titlebar ui-widget-header ui-corner-all ui-helper-clearfix';\n",
       "    var titletext = document.createElement('div');\n",
       "    titletext.classList = 'ui-dialog-title';\n",
       "    titletext.setAttribute(\n",
       "        'style',\n",
       "        'width: 100%; text-align: center; padding: 3px;'\n",
       "    );\n",
       "    titlebar.appendChild(titletext);\n",
       "    this.root.appendChild(titlebar);\n",
       "    this.header = titletext;\n",
       "};\n",
       "\n",
       "mpl.figure.prototype._canvas_extra_style = function (_canvas_div) {};\n",
       "\n",
       "mpl.figure.prototype._root_extra_style = function (_canvas_div) {};\n",
       "\n",
       "mpl.figure.prototype._init_canvas = function () {\n",
       "    var fig = this;\n",
       "\n",
       "    var canvas_div = (this.canvas_div = document.createElement('div'));\n",
       "    canvas_div.setAttribute(\n",
       "        'style',\n",
       "        'border: 1px solid #ddd;' +\n",
       "            'box-sizing: content-box;' +\n",
       "            'clear: both;' +\n",
       "            'min-height: 1px;' +\n",
       "            'min-width: 1px;' +\n",
       "            'outline: 0;' +\n",
       "            'overflow: hidden;' +\n",
       "            'position: relative;' +\n",
       "            'resize: both;'\n",
       "    );\n",
       "\n",
       "    function on_keyboard_event_closure(name) {\n",
       "        return function (event) {\n",
       "            return fig.key_event(event, name);\n",
       "        };\n",
       "    }\n",
       "\n",
       "    canvas_div.addEventListener(\n",
       "        'keydown',\n",
       "        on_keyboard_event_closure('key_press')\n",
       "    );\n",
       "    canvas_div.addEventListener(\n",
       "        'keyup',\n",
       "        on_keyboard_event_closure('key_release')\n",
       "    );\n",
       "\n",
       "    this._canvas_extra_style(canvas_div);\n",
       "    this.root.appendChild(canvas_div);\n",
       "\n",
       "    var canvas = (this.canvas = document.createElement('canvas'));\n",
       "    canvas.classList.add('mpl-canvas');\n",
       "    canvas.setAttribute('style', 'box-sizing: content-box;');\n",
       "\n",
       "    this.context = canvas.getContext('2d');\n",
       "\n",
       "    var backingStore =\n",
       "        this.context.backingStorePixelRatio ||\n",
       "        this.context.webkitBackingStorePixelRatio ||\n",
       "        this.context.mozBackingStorePixelRatio ||\n",
       "        this.context.msBackingStorePixelRatio ||\n",
       "        this.context.oBackingStorePixelRatio ||\n",
       "        this.context.backingStorePixelRatio ||\n",
       "        1;\n",
       "\n",
       "    this.ratio = (window.devicePixelRatio || 1) / backingStore;\n",
       "\n",
       "    var rubberband_canvas = (this.rubberband_canvas = document.createElement(\n",
       "        'canvas'\n",
       "    ));\n",
       "    rubberband_canvas.setAttribute(\n",
       "        'style',\n",
       "        'box-sizing: content-box; position: absolute; left: 0; top: 0; z-index: 1;'\n",
       "    );\n",
       "\n",
       "    // Apply a ponyfill if ResizeObserver is not implemented by browser.\n",
       "    if (this.ResizeObserver === undefined) {\n",
       "        if (window.ResizeObserver !== undefined) {\n",
       "            this.ResizeObserver = window.ResizeObserver;\n",
       "        } else {\n",
       "            var obs = _JSXTOOLS_RESIZE_OBSERVER({});\n",
       "            this.ResizeObserver = obs.ResizeObserver;\n",
       "        }\n",
       "    }\n",
       "\n",
       "    this.resizeObserverInstance = new this.ResizeObserver(function (entries) {\n",
       "        var nentries = entries.length;\n",
       "        for (var i = 0; i < nentries; i++) {\n",
       "            var entry = entries[i];\n",
       "            var width, height;\n",
       "            if (entry.contentBoxSize) {\n",
       "                if (entry.contentBoxSize instanceof Array) {\n",
       "                    // Chrome 84 implements new version of spec.\n",
       "                    width = entry.contentBoxSize[0].inlineSize;\n",
       "                    height = entry.contentBoxSize[0].blockSize;\n",
       "                } else {\n",
       "                    // Firefox implements old version of spec.\n",
       "                    width = entry.contentBoxSize.inlineSize;\n",
       "                    height = entry.contentBoxSize.blockSize;\n",
       "                }\n",
       "            } else {\n",
       "                // Chrome <84 implements even older version of spec.\n",
       "                width = entry.contentRect.width;\n",
       "                height = entry.contentRect.height;\n",
       "            }\n",
       "\n",
       "            // Keep the size of the canvas and rubber band canvas in sync with\n",
       "            // the canvas container.\n",
       "            if (entry.devicePixelContentBoxSize) {\n",
       "                // Chrome 84 implements new version of spec.\n",
       "                canvas.setAttribute(\n",
       "                    'width',\n",
       "                    entry.devicePixelContentBoxSize[0].inlineSize\n",
       "                );\n",
       "                canvas.setAttribute(\n",
       "                    'height',\n",
       "                    entry.devicePixelContentBoxSize[0].blockSize\n",
       "                );\n",
       "            } else {\n",
       "                canvas.setAttribute('width', width * fig.ratio);\n",
       "                canvas.setAttribute('height', height * fig.ratio);\n",
       "            }\n",
       "            canvas.setAttribute(\n",
       "                'style',\n",
       "                'width: ' + width + 'px; height: ' + height + 'px;'\n",
       "            );\n",
       "\n",
       "            rubberband_canvas.setAttribute('width', width);\n",
       "            rubberband_canvas.setAttribute('height', height);\n",
       "\n",
       "            // And update the size in Python. We ignore the initial 0/0 size\n",
       "            // that occurs as the element is placed into the DOM, which should\n",
       "            // otherwise not happen due to the minimum size styling.\n",
       "            if (fig.ws.readyState == 1 && width != 0 && height != 0) {\n",
       "                fig.request_resize(width, height);\n",
       "            }\n",
       "        }\n",
       "    });\n",
       "    this.resizeObserverInstance.observe(canvas_div);\n",
       "\n",
       "    function on_mouse_event_closure(name) {\n",
       "        return function (event) {\n",
       "            return fig.mouse_event(event, name);\n",
       "        };\n",
       "    }\n",
       "\n",
       "    rubberband_canvas.addEventListener(\n",
       "        'mousedown',\n",
       "        on_mouse_event_closure('button_press')\n",
       "    );\n",
       "    rubberband_canvas.addEventListener(\n",
       "        'mouseup',\n",
       "        on_mouse_event_closure('button_release')\n",
       "    );\n",
       "    rubberband_canvas.addEventListener(\n",
       "        'dblclick',\n",
       "        on_mouse_event_closure('dblclick')\n",
       "    );\n",
       "    // Throttle sequential mouse events to 1 every 20ms.\n",
       "    rubberband_canvas.addEventListener(\n",
       "        'mousemove',\n",
       "        on_mouse_event_closure('motion_notify')\n",
       "    );\n",
       "\n",
       "    rubberband_canvas.addEventListener(\n",
       "        'mouseenter',\n",
       "        on_mouse_event_closure('figure_enter')\n",
       "    );\n",
       "    rubberband_canvas.addEventListener(\n",
       "        'mouseleave',\n",
       "        on_mouse_event_closure('figure_leave')\n",
       "    );\n",
       "\n",
       "    canvas_div.addEventListener('wheel', function (event) {\n",
       "        if (event.deltaY < 0) {\n",
       "            event.step = 1;\n",
       "        } else {\n",
       "            event.step = -1;\n",
       "        }\n",
       "        on_mouse_event_closure('scroll')(event);\n",
       "    });\n",
       "\n",
       "    canvas_div.appendChild(canvas);\n",
       "    canvas_div.appendChild(rubberband_canvas);\n",
       "\n",
       "    this.rubberband_context = rubberband_canvas.getContext('2d');\n",
       "    this.rubberband_context.strokeStyle = '#000000';\n",
       "\n",
       "    this._resize_canvas = function (width, height, forward) {\n",
       "        if (forward) {\n",
       "            canvas_div.style.width = width + 'px';\n",
       "            canvas_div.style.height = height + 'px';\n",
       "        }\n",
       "    };\n",
       "\n",
       "    // Disable right mouse context menu.\n",
       "    this.rubberband_canvas.addEventListener('contextmenu', function (_e) {\n",
       "        event.preventDefault();\n",
       "        return false;\n",
       "    });\n",
       "\n",
       "    function set_focus() {\n",
       "        canvas.focus();\n",
       "        canvas_div.focus();\n",
       "    }\n",
       "\n",
       "    window.setTimeout(set_focus, 100);\n",
       "};\n",
       "\n",
       "mpl.figure.prototype._init_toolbar = function () {\n",
       "    var fig = this;\n",
       "\n",
       "    var toolbar = document.createElement('div');\n",
       "    toolbar.classList = 'mpl-toolbar';\n",
       "    this.root.appendChild(toolbar);\n",
       "\n",
       "    function on_click_closure(name) {\n",
       "        return function (_event) {\n",
       "            return fig.toolbar_button_onclick(name);\n",
       "        };\n",
       "    }\n",
       "\n",
       "    function on_mouseover_closure(tooltip) {\n",
       "        return function (event) {\n",
       "            if (!event.currentTarget.disabled) {\n",
       "                return fig.toolbar_button_onmouseover(tooltip);\n",
       "            }\n",
       "        };\n",
       "    }\n",
       "\n",
       "    fig.buttons = {};\n",
       "    var buttonGroup = document.createElement('div');\n",
       "    buttonGroup.classList = 'mpl-button-group';\n",
       "    for (var toolbar_ind in mpl.toolbar_items) {\n",
       "        var name = mpl.toolbar_items[toolbar_ind][0];\n",
       "        var tooltip = mpl.toolbar_items[toolbar_ind][1];\n",
       "        var image = mpl.toolbar_items[toolbar_ind][2];\n",
       "        var method_name = mpl.toolbar_items[toolbar_ind][3];\n",
       "\n",
       "        if (!name) {\n",
       "            /* Instead of a spacer, we start a new button group. */\n",
       "            if (buttonGroup.hasChildNodes()) {\n",
       "                toolbar.appendChild(buttonGroup);\n",
       "            }\n",
       "            buttonGroup = document.createElement('div');\n",
       "            buttonGroup.classList = 'mpl-button-group';\n",
       "            continue;\n",
       "        }\n",
       "\n",
       "        var button = (fig.buttons[name] = document.createElement('button'));\n",
       "        button.classList = 'mpl-widget';\n",
       "        button.setAttribute('role', 'button');\n",
       "        button.setAttribute('aria-disabled', 'false');\n",
       "        button.addEventListener('click', on_click_closure(method_name));\n",
       "        button.addEventListener('mouseover', on_mouseover_closure(tooltip));\n",
       "\n",
       "        var icon_img = document.createElement('img');\n",
       "        icon_img.src = '_images/' + image + '.png';\n",
       "        icon_img.srcset = '_images/' + image + '_large.png 2x';\n",
       "        icon_img.alt = tooltip;\n",
       "        button.appendChild(icon_img);\n",
       "\n",
       "        buttonGroup.appendChild(button);\n",
       "    }\n",
       "\n",
       "    if (buttonGroup.hasChildNodes()) {\n",
       "        toolbar.appendChild(buttonGroup);\n",
       "    }\n",
       "\n",
       "    var fmt_picker = document.createElement('select');\n",
       "    fmt_picker.classList = 'mpl-widget';\n",
       "    toolbar.appendChild(fmt_picker);\n",
       "    this.format_dropdown = fmt_picker;\n",
       "\n",
       "    for (var ind in mpl.extensions) {\n",
       "        var fmt = mpl.extensions[ind];\n",
       "        var option = document.createElement('option');\n",
       "        option.selected = fmt === mpl.default_extension;\n",
       "        option.innerHTML = fmt;\n",
       "        fmt_picker.appendChild(option);\n",
       "    }\n",
       "\n",
       "    var status_bar = document.createElement('span');\n",
       "    status_bar.classList = 'mpl-message';\n",
       "    toolbar.appendChild(status_bar);\n",
       "    this.message = status_bar;\n",
       "};\n",
       "\n",
       "mpl.figure.prototype.request_resize = function (x_pixels, y_pixels) {\n",
       "    // Request matplotlib to resize the figure. Matplotlib will then trigger a resize in the client,\n",
       "    // which will in turn request a refresh of the image.\n",
       "    this.send_message('resize', { width: x_pixels, height: y_pixels });\n",
       "};\n",
       "\n",
       "mpl.figure.prototype.send_message = function (type, properties) {\n",
       "    properties['type'] = type;\n",
       "    properties['figure_id'] = this.id;\n",
       "    this.ws.send(JSON.stringify(properties));\n",
       "};\n",
       "\n",
       "mpl.figure.prototype.send_draw_message = function () {\n",
       "    if (!this.waiting) {\n",
       "        this.waiting = true;\n",
       "        this.ws.send(JSON.stringify({ type: 'draw', figure_id: this.id }));\n",
       "    }\n",
       "};\n",
       "\n",
       "mpl.figure.prototype.handle_save = function (fig, _msg) {\n",
       "    var format_dropdown = fig.format_dropdown;\n",
       "    var format = format_dropdown.options[format_dropdown.selectedIndex].value;\n",
       "    fig.ondownload(fig, format);\n",
       "};\n",
       "\n",
       "mpl.figure.prototype.handle_resize = function (fig, msg) {\n",
       "    var size = msg['size'];\n",
       "    if (size[0] !== fig.canvas.width || size[1] !== fig.canvas.height) {\n",
       "        fig._resize_canvas(size[0], size[1], msg['forward']);\n",
       "        fig.send_message('refresh', {});\n",
       "    }\n",
       "};\n",
       "\n",
       "mpl.figure.prototype.handle_rubberband = function (fig, msg) {\n",
       "    var x0 = msg['x0'] / fig.ratio;\n",
       "    var y0 = (fig.canvas.height - msg['y0']) / fig.ratio;\n",
       "    var x1 = msg['x1'] / fig.ratio;\n",
       "    var y1 = (fig.canvas.height - msg['y1']) / fig.ratio;\n",
       "    x0 = Math.floor(x0) + 0.5;\n",
       "    y0 = Math.floor(y0) + 0.5;\n",
       "    x1 = Math.floor(x1) + 0.5;\n",
       "    y1 = Math.floor(y1) + 0.5;\n",
       "    var min_x = Math.min(x0, x1);\n",
       "    var min_y = Math.min(y0, y1);\n",
       "    var width = Math.abs(x1 - x0);\n",
       "    var height = Math.abs(y1 - y0);\n",
       "\n",
       "    fig.rubberband_context.clearRect(\n",
       "        0,\n",
       "        0,\n",
       "        fig.canvas.width / fig.ratio,\n",
       "        fig.canvas.height / fig.ratio\n",
       "    );\n",
       "\n",
       "    fig.rubberband_context.strokeRect(min_x, min_y, width, height);\n",
       "};\n",
       "\n",
       "mpl.figure.prototype.handle_figure_label = function (fig, msg) {\n",
       "    // Updates the figure title.\n",
       "    fig.header.textContent = msg['label'];\n",
       "};\n",
       "\n",
       "mpl.figure.prototype.handle_cursor = function (fig, msg) {\n",
       "    var cursor = msg['cursor'];\n",
       "    switch (cursor) {\n",
       "        case 0:\n",
       "            cursor = 'pointer';\n",
       "            break;\n",
       "        case 1:\n",
       "            cursor = 'default';\n",
       "            break;\n",
       "        case 2:\n",
       "            cursor = 'crosshair';\n",
       "            break;\n",
       "        case 3:\n",
       "            cursor = 'move';\n",
       "            break;\n",
       "    }\n",
       "    fig.rubberband_canvas.style.cursor = cursor;\n",
       "};\n",
       "\n",
       "mpl.figure.prototype.handle_message = function (fig, msg) {\n",
       "    fig.message.textContent = msg['message'];\n",
       "};\n",
       "\n",
       "mpl.figure.prototype.handle_draw = function (fig, _msg) {\n",
       "    // Request the server to send over a new figure.\n",
       "    fig.send_draw_message();\n",
       "};\n",
       "\n",
       "mpl.figure.prototype.handle_image_mode = function (fig, msg) {\n",
       "    fig.image_mode = msg['mode'];\n",
       "};\n",
       "\n",
       "mpl.figure.prototype.handle_history_buttons = function (fig, msg) {\n",
       "    for (var key in msg) {\n",
       "        if (!(key in fig.buttons)) {\n",
       "            continue;\n",
       "        }\n",
       "        fig.buttons[key].disabled = !msg[key];\n",
       "        fig.buttons[key].setAttribute('aria-disabled', !msg[key]);\n",
       "    }\n",
       "};\n",
       "\n",
       "mpl.figure.prototype.handle_navigate_mode = function (fig, msg) {\n",
       "    if (msg['mode'] === 'PAN') {\n",
       "        fig.buttons['Pan'].classList.add('active');\n",
       "        fig.buttons['Zoom'].classList.remove('active');\n",
       "    } else if (msg['mode'] === 'ZOOM') {\n",
       "        fig.buttons['Pan'].classList.remove('active');\n",
       "        fig.buttons['Zoom'].classList.add('active');\n",
       "    } else {\n",
       "        fig.buttons['Pan'].classList.remove('active');\n",
       "        fig.buttons['Zoom'].classList.remove('active');\n",
       "    }\n",
       "};\n",
       "\n",
       "mpl.figure.prototype.updated_canvas_event = function () {\n",
       "    // Called whenever the canvas gets updated.\n",
       "    this.send_message('ack', {});\n",
       "};\n",
       "\n",
       "// A function to construct a web socket function for onmessage handling.\n",
       "// Called in the figure constructor.\n",
       "mpl.figure.prototype._make_on_message_function = function (fig) {\n",
       "    return function socket_on_message(evt) {\n",
       "        if (evt.data instanceof Blob) {\n",
       "            var img = evt.data;\n",
       "            if (img.type !== 'image/png') {\n",
       "                /* FIXME: We get \"Resource interpreted as Image but\n",
       "                 * transferred with MIME type text/plain:\" errors on\n",
       "                 * Chrome.  But how to set the MIME type?  It doesn't seem\n",
       "                 * to be part of the websocket stream */\n",
       "                img.type = 'image/png';\n",
       "            }\n",
       "\n",
       "            /* Free the memory for the previous frames */\n",
       "            if (fig.imageObj.src) {\n",
       "                (window.URL || window.webkitURL).revokeObjectURL(\n",
       "                    fig.imageObj.src\n",
       "                );\n",
       "            }\n",
       "\n",
       "            fig.imageObj.src = (window.URL || window.webkitURL).createObjectURL(\n",
       "                img\n",
       "            );\n",
       "            fig.updated_canvas_event();\n",
       "            fig.waiting = false;\n",
       "            return;\n",
       "        } else if (\n",
       "            typeof evt.data === 'string' &&\n",
       "            evt.data.slice(0, 21) === 'data:image/png;base64'\n",
       "        ) {\n",
       "            fig.imageObj.src = evt.data;\n",
       "            fig.updated_canvas_event();\n",
       "            fig.waiting = false;\n",
       "            return;\n",
       "        }\n",
       "\n",
       "        var msg = JSON.parse(evt.data);\n",
       "        var msg_type = msg['type'];\n",
       "\n",
       "        // Call the  \"handle_{type}\" callback, which takes\n",
       "        // the figure and JSON message as its only arguments.\n",
       "        try {\n",
       "            var callback = fig['handle_' + msg_type];\n",
       "        } catch (e) {\n",
       "            console.log(\n",
       "                \"No handler for the '\" + msg_type + \"' message type: \",\n",
       "                msg\n",
       "            );\n",
       "            return;\n",
       "        }\n",
       "\n",
       "        if (callback) {\n",
       "            try {\n",
       "                // console.log(\"Handling '\" + msg_type + \"' message: \", msg);\n",
       "                callback(fig, msg);\n",
       "            } catch (e) {\n",
       "                console.log(\n",
       "                    \"Exception inside the 'handler_\" + msg_type + \"' callback:\",\n",
       "                    e,\n",
       "                    e.stack,\n",
       "                    msg\n",
       "                );\n",
       "            }\n",
       "        }\n",
       "    };\n",
       "};\n",
       "\n",
       "// from http://stackoverflow.com/questions/1114465/getting-mouse-location-in-canvas\n",
       "mpl.findpos = function (e) {\n",
       "    //this section is from http://www.quirksmode.org/js/events_properties.html\n",
       "    var targ;\n",
       "    if (!e) {\n",
       "        e = window.event;\n",
       "    }\n",
       "    if (e.target) {\n",
       "        targ = e.target;\n",
       "    } else if (e.srcElement) {\n",
       "        targ = e.srcElement;\n",
       "    }\n",
       "    if (targ.nodeType === 3) {\n",
       "        // defeat Safari bug\n",
       "        targ = targ.parentNode;\n",
       "    }\n",
       "\n",
       "    // pageX,Y are the mouse positions relative to the document\n",
       "    var boundingRect = targ.getBoundingClientRect();\n",
       "    var x = e.pageX - (boundingRect.left + document.body.scrollLeft);\n",
       "    var y = e.pageY - (boundingRect.top + document.body.scrollTop);\n",
       "\n",
       "    return { x: x, y: y };\n",
       "};\n",
       "\n",
       "/*\n",
       " * return a copy of an object with only non-object keys\n",
       " * we need this to avoid circular references\n",
       " * http://stackoverflow.com/a/24161582/3208463\n",
       " */\n",
       "function simpleKeys(original) {\n",
       "    return Object.keys(original).reduce(function (obj, key) {\n",
       "        if (typeof original[key] !== 'object') {\n",
       "            obj[key] = original[key];\n",
       "        }\n",
       "        return obj;\n",
       "    }, {});\n",
       "}\n",
       "\n",
       "mpl.figure.prototype.mouse_event = function (event, name) {\n",
       "    var canvas_pos = mpl.findpos(event);\n",
       "\n",
       "    if (name === 'button_press') {\n",
       "        this.canvas.focus();\n",
       "        this.canvas_div.focus();\n",
       "    }\n",
       "\n",
       "    var x = canvas_pos.x * this.ratio;\n",
       "    var y = canvas_pos.y * this.ratio;\n",
       "\n",
       "    this.send_message(name, {\n",
       "        x: x,\n",
       "        y: y,\n",
       "        button: event.button,\n",
       "        step: event.step,\n",
       "        guiEvent: simpleKeys(event),\n",
       "    });\n",
       "\n",
       "    /* This prevents the web browser from automatically changing to\n",
       "     * the text insertion cursor when the button is pressed.  We want\n",
       "     * to control all of the cursor setting manually through the\n",
       "     * 'cursor' event from matplotlib */\n",
       "    event.preventDefault();\n",
       "    return false;\n",
       "};\n",
       "\n",
       "mpl.figure.prototype._key_event_extra = function (_event, _name) {\n",
       "    // Handle any extra behaviour associated with a key event\n",
       "};\n",
       "\n",
       "mpl.figure.prototype.key_event = function (event, name) {\n",
       "    // Prevent repeat events\n",
       "    if (name === 'key_press') {\n",
       "        if (event.key === this._key) {\n",
       "            return;\n",
       "        } else {\n",
       "            this._key = event.key;\n",
       "        }\n",
       "    }\n",
       "    if (name === 'key_release') {\n",
       "        this._key = null;\n",
       "    }\n",
       "\n",
       "    var value = '';\n",
       "    if (event.ctrlKey && event.key !== 'Control') {\n",
       "        value += 'ctrl+';\n",
       "    }\n",
       "    else if (event.altKey && event.key !== 'Alt') {\n",
       "        value += 'alt+';\n",
       "    }\n",
       "    else if (event.shiftKey && event.key !== 'Shift') {\n",
       "        value += 'shift+';\n",
       "    }\n",
       "\n",
       "    value += 'k' + event.key;\n",
       "\n",
       "    this._key_event_extra(event, name);\n",
       "\n",
       "    this.send_message(name, { key: value, guiEvent: simpleKeys(event) });\n",
       "    return false;\n",
       "};\n",
       "\n",
       "mpl.figure.prototype.toolbar_button_onclick = function (name) {\n",
       "    if (name === 'download') {\n",
       "        this.handle_save(this, null);\n",
       "    } else {\n",
       "        this.send_message('toolbar_button', { name: name });\n",
       "    }\n",
       "};\n",
       "\n",
       "mpl.figure.prototype.toolbar_button_onmouseover = function (tooltip) {\n",
       "    this.message.textContent = tooltip;\n",
       "};\n",
       "\n",
       "///////////////// REMAINING CONTENT GENERATED BY embed_js.py /////////////////\n",
       "// prettier-ignore\n",
       "var _JSXTOOLS_RESIZE_OBSERVER=function(A){var t,i=new WeakMap,n=new WeakMap,a=new WeakMap,r=new WeakMap,o=new Set;function s(e){if(!(this instanceof s))throw new TypeError(\"Constructor requires 'new' operator\");i.set(this,e)}function h(){throw new TypeError(\"Function is not a constructor\")}function c(e,t,i,n){e=0 in arguments?Number(arguments[0]):0,t=1 in arguments?Number(arguments[1]):0,i=2 in arguments?Number(arguments[2]):0,n=3 in arguments?Number(arguments[3]):0,this.right=(this.x=this.left=e)+(this.width=i),this.bottom=(this.y=this.top=t)+(this.height=n),Object.freeze(this)}function d(){t=requestAnimationFrame(d);var s=new WeakMap,p=new Set;o.forEach((function(t){r.get(t).forEach((function(i){var r=t instanceof window.SVGElement,o=a.get(t),d=r?0:parseFloat(o.paddingTop),f=r?0:parseFloat(o.paddingRight),l=r?0:parseFloat(o.paddingBottom),u=r?0:parseFloat(o.paddingLeft),g=r?0:parseFloat(o.borderTopWidth),m=r?0:parseFloat(o.borderRightWidth),w=r?0:parseFloat(o.borderBottomWidth),b=u+f,F=d+l,v=(r?0:parseFloat(o.borderLeftWidth))+m,W=g+w,y=r?0:t.offsetHeight-W-t.clientHeight,E=r?0:t.offsetWidth-v-t.clientWidth,R=b+v,z=F+W,M=r?t.width:parseFloat(o.width)-R-E,O=r?t.height:parseFloat(o.height)-z-y;if(n.has(t)){var k=n.get(t);if(k[0]===M&&k[1]===O)return}n.set(t,[M,O]);var S=Object.create(h.prototype);S.target=t,S.contentRect=new c(u,d,M,O),s.has(i)||(s.set(i,[]),p.add(i)),s.get(i).push(S)}))})),p.forEach((function(e){i.get(e).call(e,s.get(e),e)}))}return s.prototype.observe=function(i){if(i instanceof window.Element){r.has(i)||(r.set(i,new Set),o.add(i),a.set(i,window.getComputedStyle(i)));var n=r.get(i);n.has(this)||n.add(this),cancelAnimationFrame(t),t=requestAnimationFrame(d)}},s.prototype.unobserve=function(i){if(i instanceof window.Element&&r.has(i)){var n=r.get(i);n.has(this)&&(n.delete(this),n.size||(r.delete(i),o.delete(i))),n.size||r.delete(i),o.size||cancelAnimationFrame(t)}},A.DOMRectReadOnly=c,A.ResizeObserver=s,A.ResizeObserverEntry=h,A}; // eslint-disable-line\n",
       "mpl.toolbar_items = [[\"Home\", \"Reset original view\", \"fa fa-home icon-home\", \"home\"], [\"Back\", \"Back to previous view\", \"fa fa-arrow-left icon-arrow-left\", \"back\"], [\"Forward\", \"Forward to next view\", \"fa fa-arrow-right icon-arrow-right\", \"forward\"], [\"\", \"\", \"\", \"\"], [\"Pan\", \"Left button pans, Right button zooms\\nx/y fixes axis, CTRL fixes aspect\", \"fa fa-arrows icon-move\", \"pan\"], [\"Zoom\", \"Zoom to rectangle\\nx/y fixes axis, CTRL fixes aspect\", \"fa fa-square-o icon-check-empty\", \"zoom\"], [\"\", \"\", \"\", \"\"], [\"Download\", \"Download plot\", \"fa fa-floppy-o icon-save\", \"download\"]];\n",
       "\n",
       "mpl.extensions = [\"eps\", \"jpeg\", \"pgf\", \"pdf\", \"png\", \"ps\", \"raw\", \"svg\", \"tif\"];\n",
       "\n",
       "mpl.default_extension = \"png\";/* global mpl */\n",
       "\n",
       "var comm_websocket_adapter = function (comm) {\n",
       "    // Create a \"websocket\"-like object which calls the given IPython comm\n",
       "    // object with the appropriate methods. Currently this is a non binary\n",
       "    // socket, so there is still some room for performance tuning.\n",
       "    var ws = {};\n",
       "\n",
       "    ws.binaryType = comm.kernel.ws.binaryType;\n",
       "    ws.readyState = comm.kernel.ws.readyState;\n",
       "    function updateReadyState(_event) {\n",
       "        if (comm.kernel.ws) {\n",
       "            ws.readyState = comm.kernel.ws.readyState;\n",
       "        } else {\n",
       "            ws.readyState = 3; // Closed state.\n",
       "        }\n",
       "    }\n",
       "    comm.kernel.ws.addEventListener('open', updateReadyState);\n",
       "    comm.kernel.ws.addEventListener('close', updateReadyState);\n",
       "    comm.kernel.ws.addEventListener('error', updateReadyState);\n",
       "\n",
       "    ws.close = function () {\n",
       "        comm.close();\n",
       "    };\n",
       "    ws.send = function (m) {\n",
       "        //console.log('sending', m);\n",
       "        comm.send(m);\n",
       "    };\n",
       "    // Register the callback with on_msg.\n",
       "    comm.on_msg(function (msg) {\n",
       "        //console.log('receiving', msg['content']['data'], msg);\n",
       "        var data = msg['content']['data'];\n",
       "        if (data['blob'] !== undefined) {\n",
       "            data = {\n",
       "                data: new Blob(msg['buffers'], { type: data['blob'] }),\n",
       "            };\n",
       "        }\n",
       "        // Pass the mpl event to the overridden (by mpl) onmessage function.\n",
       "        ws.onmessage(data);\n",
       "    });\n",
       "    return ws;\n",
       "};\n",
       "\n",
       "mpl.mpl_figure_comm = function (comm, msg) {\n",
       "    // This is the function which gets called when the mpl process\n",
       "    // starts-up an IPython Comm through the \"matplotlib\" channel.\n",
       "\n",
       "    var id = msg.content.data.id;\n",
       "    // Get hold of the div created by the display call when the Comm\n",
       "    // socket was opened in Python.\n",
       "    var element = document.getElementById(id);\n",
       "    var ws_proxy = comm_websocket_adapter(comm);\n",
       "\n",
       "    function ondownload(figure, _format) {\n",
       "        window.open(figure.canvas.toDataURL());\n",
       "    }\n",
       "\n",
       "    var fig = new mpl.figure(id, ws_proxy, ondownload, element);\n",
       "\n",
       "    // Call onopen now - mpl needs it, as it is assuming we've passed it a real\n",
       "    // web socket which is closed, not our websocket->open comm proxy.\n",
       "    ws_proxy.onopen();\n",
       "\n",
       "    fig.parent_element = element;\n",
       "    fig.cell_info = mpl.find_output_cell(\"<div id='\" + id + \"'></div>\");\n",
       "    if (!fig.cell_info) {\n",
       "        console.error('Failed to find cell for figure', id, fig);\n",
       "        return;\n",
       "    }\n",
       "    fig.cell_info[0].output_area.element.on(\n",
       "        'cleared',\n",
       "        { fig: fig },\n",
       "        fig._remove_fig_handler\n",
       "    );\n",
       "};\n",
       "\n",
       "mpl.figure.prototype.handle_close = function (fig, msg) {\n",
       "    var width = fig.canvas.width / fig.ratio;\n",
       "    fig.cell_info[0].output_area.element.off(\n",
       "        'cleared',\n",
       "        fig._remove_fig_handler\n",
       "    );\n",
       "    fig.resizeObserverInstance.unobserve(fig.canvas_div);\n",
       "\n",
       "    // Update the output cell to use the data from the current canvas.\n",
       "    fig.push_to_output();\n",
       "    var dataURL = fig.canvas.toDataURL();\n",
       "    // Re-enable the keyboard manager in IPython - without this line, in FF,\n",
       "    // the notebook keyboard shortcuts fail.\n",
       "    IPython.keyboard_manager.enable();\n",
       "    fig.parent_element.innerHTML =\n",
       "        '<img src=\"' + dataURL + '\" width=\"' + width + '\">';\n",
       "    fig.close_ws(fig, msg);\n",
       "};\n",
       "\n",
       "mpl.figure.prototype.close_ws = function (fig, msg) {\n",
       "    fig.send_message('closing', msg);\n",
       "    // fig.ws.close()\n",
       "};\n",
       "\n",
       "mpl.figure.prototype.push_to_output = function (_remove_interactive) {\n",
       "    // Turn the data on the canvas into data in the output cell.\n",
       "    var width = this.canvas.width / this.ratio;\n",
       "    var dataURL = this.canvas.toDataURL();\n",
       "    this.cell_info[1]['text/html'] =\n",
       "        '<img src=\"' + dataURL + '\" width=\"' + width + '\">';\n",
       "};\n",
       "\n",
       "mpl.figure.prototype.updated_canvas_event = function () {\n",
       "    // Tell IPython that the notebook contents must change.\n",
       "    IPython.notebook.set_dirty(true);\n",
       "    this.send_message('ack', {});\n",
       "    var fig = this;\n",
       "    // Wait a second, then push the new image to the DOM so\n",
       "    // that it is saved nicely (might be nice to debounce this).\n",
       "    setTimeout(function () {\n",
       "        fig.push_to_output();\n",
       "    }, 1000);\n",
       "};\n",
       "\n",
       "mpl.figure.prototype._init_toolbar = function () {\n",
       "    var fig = this;\n",
       "\n",
       "    var toolbar = document.createElement('div');\n",
       "    toolbar.classList = 'btn-toolbar';\n",
       "    this.root.appendChild(toolbar);\n",
       "\n",
       "    function on_click_closure(name) {\n",
       "        return function (_event) {\n",
       "            return fig.toolbar_button_onclick(name);\n",
       "        };\n",
       "    }\n",
       "\n",
       "    function on_mouseover_closure(tooltip) {\n",
       "        return function (event) {\n",
       "            if (!event.currentTarget.disabled) {\n",
       "                return fig.toolbar_button_onmouseover(tooltip);\n",
       "            }\n",
       "        };\n",
       "    }\n",
       "\n",
       "    fig.buttons = {};\n",
       "    var buttonGroup = document.createElement('div');\n",
       "    buttonGroup.classList = 'btn-group';\n",
       "    var button;\n",
       "    for (var toolbar_ind in mpl.toolbar_items) {\n",
       "        var name = mpl.toolbar_items[toolbar_ind][0];\n",
       "        var tooltip = mpl.toolbar_items[toolbar_ind][1];\n",
       "        var image = mpl.toolbar_items[toolbar_ind][2];\n",
       "        var method_name = mpl.toolbar_items[toolbar_ind][3];\n",
       "\n",
       "        if (!name) {\n",
       "            /* Instead of a spacer, we start a new button group. */\n",
       "            if (buttonGroup.hasChildNodes()) {\n",
       "                toolbar.appendChild(buttonGroup);\n",
       "            }\n",
       "            buttonGroup = document.createElement('div');\n",
       "            buttonGroup.classList = 'btn-group';\n",
       "            continue;\n",
       "        }\n",
       "\n",
       "        button = fig.buttons[name] = document.createElement('button');\n",
       "        button.classList = 'btn btn-default';\n",
       "        button.href = '#';\n",
       "        button.title = name;\n",
       "        button.innerHTML = '<i class=\"fa ' + image + ' fa-lg\"></i>';\n",
       "        button.addEventListener('click', on_click_closure(method_name));\n",
       "        button.addEventListener('mouseover', on_mouseover_closure(tooltip));\n",
       "        buttonGroup.appendChild(button);\n",
       "    }\n",
       "\n",
       "    if (buttonGroup.hasChildNodes()) {\n",
       "        toolbar.appendChild(buttonGroup);\n",
       "    }\n",
       "\n",
       "    // Add the status bar.\n",
       "    var status_bar = document.createElement('span');\n",
       "    status_bar.classList = 'mpl-message pull-right';\n",
       "    toolbar.appendChild(status_bar);\n",
       "    this.message = status_bar;\n",
       "\n",
       "    // Add the close button to the window.\n",
       "    var buttongrp = document.createElement('div');\n",
       "    buttongrp.classList = 'btn-group inline pull-right';\n",
       "    button = document.createElement('button');\n",
       "    button.classList = 'btn btn-mini btn-primary';\n",
       "    button.href = '#';\n",
       "    button.title = 'Stop Interaction';\n",
       "    button.innerHTML = '<i class=\"fa fa-power-off icon-remove icon-large\"></i>';\n",
       "    button.addEventListener('click', function (_evt) {\n",
       "        fig.handle_close(fig, {});\n",
       "    });\n",
       "    button.addEventListener(\n",
       "        'mouseover',\n",
       "        on_mouseover_closure('Stop Interaction')\n",
       "    );\n",
       "    buttongrp.appendChild(button);\n",
       "    var titlebar = this.root.querySelector('.ui-dialog-titlebar');\n",
       "    titlebar.insertBefore(buttongrp, titlebar.firstChild);\n",
       "};\n",
       "\n",
       "mpl.figure.prototype._remove_fig_handler = function (event) {\n",
       "    var fig = event.data.fig;\n",
       "    if (event.target !== this) {\n",
       "        // Ignore bubbled events from children.\n",
       "        return;\n",
       "    }\n",
       "    fig.close_ws(fig, {});\n",
       "};\n",
       "\n",
       "mpl.figure.prototype._root_extra_style = function (el) {\n",
       "    el.style.boxSizing = 'content-box'; // override notebook setting of border-box.\n",
       "};\n",
       "\n",
       "mpl.figure.prototype._canvas_extra_style = function (el) {\n",
       "    // this is important to make the div 'focusable\n",
       "    el.setAttribute('tabindex', 0);\n",
       "    // reach out to IPython and tell the keyboard manager to turn it's self\n",
       "    // off when our div gets focus\n",
       "\n",
       "    // location in version 3\n",
       "    if (IPython.notebook.keyboard_manager) {\n",
       "        IPython.notebook.keyboard_manager.register_events(el);\n",
       "    } else {\n",
       "        // location in version 2\n",
       "        IPython.keyboard_manager.register_events(el);\n",
       "    }\n",
       "};\n",
       "\n",
       "mpl.figure.prototype._key_event_extra = function (event, _name) {\n",
       "    var manager = IPython.notebook.keyboard_manager;\n",
       "    if (!manager) {\n",
       "        manager = IPython.keyboard_manager;\n",
       "    }\n",
       "\n",
       "    // Check for shift+enter\n",
       "    if (event.shiftKey && event.which === 13) {\n",
       "        this.canvas_div.blur();\n",
       "        // select the cell after this one\n",
       "        var index = IPython.notebook.find_cell_index(this.cell_info[0]);\n",
       "        IPython.notebook.select(index + 1);\n",
       "    }\n",
       "};\n",
       "\n",
       "mpl.figure.prototype.handle_save = function (fig, _msg) {\n",
       "    fig.ondownload(fig, null);\n",
       "};\n",
       "\n",
       "mpl.find_output_cell = function (html_output) {\n",
       "    // Return the cell and output element which can be found *uniquely* in the notebook.\n",
       "    // Note - this is a bit hacky, but it is done because the \"notebook_saving.Notebook\"\n",
       "    // IPython event is triggered only after the cells have been serialised, which for\n",
       "    // our purposes (turning an active figure into a static one), is too late.\n",
       "    var cells = IPython.notebook.get_cells();\n",
       "    var ncells = cells.length;\n",
       "    for (var i = 0; i < ncells; i++) {\n",
       "        var cell = cells[i];\n",
       "        if (cell.cell_type === 'code') {\n",
       "            for (var j = 0; j < cell.output_area.outputs.length; j++) {\n",
       "                var data = cell.output_area.outputs[j];\n",
       "                if (data.data) {\n",
       "                    // IPython >= 3 moved mimebundle to data attribute of output\n",
       "                    data = data.data;\n",
       "                }\n",
       "                if (data['text/html'] === html_output) {\n",
       "                    return [cell, data, j];\n",
       "                }\n",
       "            }\n",
       "        }\n",
       "    }\n",
       "};\n",
       "\n",
       "// Register the function which deals with the matplotlib target/channel.\n",
       "// The kernel may be null if the page has been refreshed.\n",
       "if (IPython.notebook.kernel !== null) {\n",
       "    IPython.notebook.kernel.comm_manager.register_target(\n",
       "        'matplotlib',\n",
       "        mpl.mpl_figure_comm\n",
       "    );\n",
       "}\n"
      ],
      "text/plain": [
       "<IPython.core.display.Javascript object>"
      ]
     },
     "metadata": {},
     "output_type": "display_data"
    },
    {
     "data": {
      "text/html": [
       "<img src=\"data:image/png;base64,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\" width=\"640\">"
      ],
      "text/plain": [
       "<IPython.core.display.HTML object>"
      ]
     },
     "metadata": {},
     "output_type": "display_data"
    }
   ],
   "source": [
    "num = len(x_train)\n",
    "regressor = LinearRegression()\n",
    "regressor.fit(x_train[:num],y_train[:num])\n",
    "#visualising the training set results\n",
    "plt.scatter(x_train[:num],y_train[:num],color='red')\n",
    "plt.plot(x_train[:num],regressor.predict(x_train[:num]),color='blue')\n",
    "plt.title('Departure Time vs Arrival Delay')\n",
    "plt.xlabel('Years of Experience')\n",
    "plt.ylabel('True - False')\n",
    "plt.show()"
   ]
  },
  {
   "cell_type": "code",
   "execution_count": 114,
   "id": "944853f3",
   "metadata": {},
   "outputs": [],
   "source": [
    "y_pred = regressor.predict(x_train[:num])"
   ]
  },
  {
   "cell_type": "code",
   "execution_count": 115,
   "id": "ae275c5e",
   "metadata": {},
   "outputs": [
    {
     "data": {
      "text/plain": [
       "array([[0.37616323],\n",
       "       [0.3865344 ],\n",
       "       [0.37286331],\n",
       "       [0.37616323],\n",
       "       [0.37616323],\n",
       "       [0.50627433],\n",
       "       [0.3808774 ],\n",
       "       [0.37474898],\n",
       "       [0.37616323],\n",
       "       [0.37286331]])"
      ]
     },
     "execution_count": 115,
     "metadata": {},
     "output_type": "execute_result"
    }
   ],
   "source": [
    "y_pred[:10]"
   ]
  }
 ],
 "metadata": {
  "kernelspec": {
   "display_name": "Python 3 (ipykernel)",
   "language": "python",
   "name": "python3"
  },
  "language_info": {
   "codemirror_mode": {
    "name": "ipython",
    "version": 3
   },
   "file_extension": ".py",
   "mimetype": "text/x-python",
   "name": "python",
   "nbconvert_exporter": "python",
   "pygments_lexer": "ipython3",
   "version": "3.9.7"
  }
 },
 "nbformat": 4,
 "nbformat_minor": 5
}
