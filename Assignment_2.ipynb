{
 "cells": [
  {
   "cell_type": "markdown",
   "id": "dc66f056",
   "metadata": {},
   "source": [
    "# Clark Whitehead\n",
    "# ICS-438 Mahdi\n",
    "# Fall 2021\n",
    "# Assignment 2"
   ]
  },
  {
   "cell_type": "code",
   "execution_count": 1,
   "id": "1443cdff",
   "metadata": {},
   "outputs": [],
   "source": [
    "import re\n"
   ]
  },
  {
   "cell_type": "markdown",
   "id": "9aa8d15e",
   "metadata": {},
   "source": [
    "# Assignment 2: Analyzing large datasets with Spark.\n",
    "\n",
    "\n",
    "For this assignment, you will need to make sure you're running from a PySpark docker environment I introduced in class. You can start the docker pySpark docker environment using the following command:\n",
    "\n",
    "```\n",
    "docker run --rm -p 4040:4040 -p 8888:8888 -v $(pwd):/home/jovyan/work jupyter/all-spark-notebook\n",
    "```\n",
    "\n",
    "Make sure you run the command from the directory containing this jupyter notebook and your data folder.\n",
    "\n",
    "\n",
    "</b>\n",
    "# WARNING: For some reason, ipynbb document didn't always sync properly when I was pushing to github. As such, please push often and make sure your incremental changes appear on GitHub.\n",
    "</b>"
   ]
  },
  {
   "cell_type": "markdown",
   "id": "66b0d3e6",
   "metadata": {},
   "source": [
    "### Part 1\n",
    "\n",
    "The first part will use Spark to analyze the following books, which I have downloaded for you to use from Project Gutenberg. The files are saved to the data folder.\n",
    "\n",
    "| File name | Book Title|\n",
    "|:---------:|:----------|\n",
    "|43.txt | The Strange Case of Dr. Jekyll and Mr. Hyde by Robert Louis Stevenson|\n",
    "|84.txt | Frankenstein; Or, The Modern Prometheus by Mary Wollstonecraft Shelley |\n",
    "|398.txt  | The First Book of Adam and Eve by Rutherford Hayes Platt|\n",
    "|3296.txt | The Confessions of St. Augustine by Bishop of Hippo Saint Augustine|\n",
    "\n",
    "The objective is to explore whether we can detect similarity between books within the same topic using word-based similarity. \n",
    "\n",
    "The task of identifying similar texts in Natural Language Processing is crucial. A naive method for determining whether two documents are similar is to treat them as collections of words (bag of words) and use the number of words they share as a proxy for their similarity. It makes sense that two books with religion as the topic (e.g.  `398.txt` and `3296.txt`) would have more words in common than a book that discusses religion and a book that discusses science fiction (e.g. books `84.txt` and `398.txt`). \n",
    "\n",
    "As mentioned above, we will be using Spark to analyze the data. Although Spark is not needed for such a small example, the platform would be ideal for analyzing very large collections of documents, like those often analyzed by large corporations\n",
    "\n",
    "This part of the assignment will rely exclusively on RDDs."
   ]
  },
  {
   "cell_type": "markdown",
   "id": "87a15530",
   "metadata": {},
   "source": [
    "### Q1. \n",
    "Start by importing Spark and making sure your environment is set up properly for the assignment.\n",
    "\n",
    "Import the spark context necessary to load a document as an RDD; ignore any error messages"
   ]
  },
  {
   "cell_type": "code",
   "execution_count": 2,
   "id": "e80df4d4",
   "metadata": {},
   "outputs": [],
   "source": [
    "### Write your code here\n",
    "import pyspark"
   ]
  },
  {
   "cell_type": "code",
   "execution_count": 3,
   "id": "88813d54",
   "metadata": {},
   "outputs": [],
   "source": [
    "from pyspark.sql import SparkSession\n",
    "from pyspark.context import SparkContext"
   ]
  },
  {
   "cell_type": "code",
   "execution_count": 4,
   "id": "55c677ed",
   "metadata": {},
   "outputs": [
    {
     "name": "stderr",
     "output_type": "stream",
     "text": [
      "WARNING: An illegal reflective access operation has occurred\n",
      "WARNING: Illegal reflective access by org.apache.spark.unsafe.Platform (file:/usr/local/spark-3.2.0-bin-hadoop3.2/jars/spark-unsafe_2.12-3.2.0.jar) to constructor java.nio.DirectByteBuffer(long,int)\n",
      "WARNING: Please consider reporting this to the maintainers of org.apache.spark.unsafe.Platform\n",
      "WARNING: Use --illegal-access=warn to enable warnings of further illegal reflective access operations\n",
      "WARNING: All illegal access operations will be denied in a future release\n",
      "Using Spark's default log4j profile: org/apache/spark/log4j-defaults.properties\n",
      "Setting default log level to \"WARN\".\n",
      "To adjust logging level use sc.setLogLevel(newLevel). For SparkR, use setLogLevel(newLevel).\n",
      "21/11/07 10:04:21 WARN NativeCodeLoader: Unable to load native-hadoop library for your platform... using builtin-java classes where applicable\n"
     ]
    }
   ],
   "source": [
    "# spark = SparkSession.builder.appName('assn2test').getOrCreate()\n",
    "# spark.stop()\n",
    "sc = SparkContext()"
   ]
  },
  {
   "cell_type": "code",
   "execution_count": 5,
   "id": "e1201ce5",
   "metadata": {},
   "outputs": [
    {
     "data": {
      "text/plain": [
       "pyspark.context.SparkContext"
      ]
     },
     "execution_count": 5,
     "metadata": {},
     "output_type": "execute_result"
    }
   ],
   "source": [
    "type(sc)"
   ]
  },
  {
   "cell_type": "markdown",
   "id": "336d5c9d",
   "metadata": {},
   "source": [
    "### Q2 \n",
    "\n",
    "Read in the file `43.txt` as a spark RDD and save it to a variable called `book_43`\n",
    " * make sure `book_43` is of type MapPartitionsRDD, i.e.,\n",
    "   * str(type(book_43)) == \"<class 'pyspark.rdd.RDD'>\" should return True "
   ]
  },
  {
   "cell_type": "code",
   "execution_count": 6,
   "id": "3d4164f5",
   "metadata": {},
   "outputs": [],
   "source": [
    "### Write your code here\n",
    "book_43 = sc.textFile(\"./data/43.txt\", minPartitions=96)"
   ]
  },
  {
   "cell_type": "code",
   "execution_count": 7,
   "id": "e44786b4",
   "metadata": {},
   "outputs": [
    {
     "data": {
      "text/plain": [
       "pyspark.rdd.RDD"
      ]
     },
     "execution_count": 7,
     "metadata": {},
     "output_type": "execute_result"
    }
   ],
   "source": [
    "type(book_43)"
   ]
  },
  {
   "cell_type": "code",
   "execution_count": 8,
   "id": "3aac0cf6",
   "metadata": {},
   "outputs": [
    {
     "name": "stderr",
     "output_type": "stream",
     "text": [
      "\r",
      "[Stage 0:>                                                          (0 + 1) / 1]\r",
      "\r",
      "                                                                                \r"
     ]
    },
    {
     "data": {
      "text/plain": [
       "['The Project Gutenberg eBook of The Strange Case Of Dr. Jekyll And Mr. Hyde, by Robert Louis Stevenson',\n",
       " '',\n",
       " 'This eBook is for the use of anyone anywhere in the United States and',\n",
       " 'most other parts of the world at no cost and with almost no restrictions',\n",
       " 'whatsoever. You may copy it, give it away or re-use it under the terms']"
      ]
     },
     "execution_count": 8,
     "metadata": {},
     "output_type": "execute_result"
    }
   ],
   "source": [
    "book_43.take(5)"
   ]
  },
  {
   "cell_type": "code",
   "execution_count": 9,
   "id": "524bfb76",
   "metadata": {},
   "outputs": [
    {
     "data": {
      "text/plain": [
       "True"
      ]
     },
     "execution_count": 9,
     "metadata": {},
     "output_type": "execute_result"
    }
   ],
   "source": [
    "str(type(book_43)) == \"<class 'pyspark.rdd.RDD'>\""
   ]
  },
  {
   "cell_type": "markdown",
   "id": "0b8c051e",
   "metadata": {},
   "source": [
    "### Q3\n",
    "\n",
    "How many lines does `book_43` contain?\n",
    "* You can only use operations or actions on RDDs to answer the question. \n",
    "  * Code that uses methods such as `some_rdd.X().Y().Z()...` is allowed\n",
    "  * Code that uses functions such as `some_func(...)` is not allowed"
   ]
  },
  {
   "cell_type": "code",
   "execution_count": 10,
   "id": "b3c5a06e",
   "metadata": {
    "scrolled": true
   },
   "outputs": [
    {
     "name": "stdout",
     "output_type": "stream",
     "text": [
      "# of lines = 2935\n",
      "numbe of lines in the text file is 2935\n"
     ]
    }
   ],
   "source": [
    "### Write your code here\n",
    "print(\"# of lines = {}\".format(book_43.count()))\n",
    "\n",
    "num_lines = len(open(\"./data/43.txt\").readlines())\n",
    "print(\"numbe of lines in the text file is {}\".format(num_lines))"
   ]
  },
  {
   "cell_type": "markdown",
   "id": "bca2bc6d",
   "metadata": {},
   "source": [
    "### Q4 \n",
    "\n",
    "Prior to analyzing the words contained in this book, we need to first remove the occurrences of non-alphabetical characters and numbers from the text. You can use the following function, which takes a line as input, removes digits and non-word characters, and splits it into a collection of words. \n",
    "\n",
    "```python\n",
    "def clean_split_line(line):\n",
    "    a = re.sub('\\d+', '', line)\n",
    "    b = re.sub('[\\W]+', ' ', a)\n",
    "    return b.upper().split()\n",
    "```\n",
    "\n",
    "Use the fucntion above on the variable (test_line) to see what it returns.\n",
    "```python\n",
    "test_line = \"This is an example of that contains 234 and a dash-containing number\"\n",
    "```"
   ]
  },
  {
   "cell_type": "code",
   "execution_count": 11,
   "id": "55ce2754",
   "metadata": {},
   "outputs": [],
   "source": [
    "### Write your code here\n",
    "def clean_split_line(line):\n",
    "    a = re.sub('\\d+', '', line)\n",
    "    b = re.sub('[\\W]+', ' ', a)\n",
    "    return b.lower().split()\n",
    "#     return b.upper().split()\n"
   ]
  },
  {
   "cell_type": "code",
   "execution_count": 12,
   "id": "97545707",
   "metadata": {},
   "outputs": [
    {
     "data": {
      "text/plain": [
       "['this',\n",
       " 'is',\n",
       " 'an',\n",
       " 'example',\n",
       " 'of',\n",
       " 'that',\n",
       " 'contains',\n",
       " 'and',\n",
       " 'a',\n",
       " 'dash',\n",
       " 'containing',\n",
       " 'number']"
      ]
     },
     "execution_count": 12,
     "metadata": {},
     "output_type": "execute_result"
    }
   ],
   "source": [
    "test_line = \"This is an example of that contains 234 and a dash-containing number\"\n",
    "clean_split_line(test_line)"
   ]
  },
  {
   "cell_type": "markdown",
   "id": "b5e951e5",
   "metadata": {},
   "source": [
    "### Q5\n",
    "\n",
    "How many words does `book_43` contain? To answer this question, you may find it useful to apply the function in a spark-fashion. \n",
    "* You can only use operations or actions on RDDs to answer the question. \n",
    "  * Code that uses methods such as `some_rdd.X().Y().Z()...` is allowed\n",
    "  * Code that uses functions such as `some_func(...)` is not allowed\n"
   ]
  },
  {
   "cell_type": "code",
   "execution_count": 13,
   "id": "99c1b93f",
   "metadata": {},
   "outputs": [
    {
     "data": {
      "text/plain": [
       "29116"
      ]
     },
     "execution_count": 13,
     "metadata": {},
     "output_type": "execute_result"
    }
   ],
   "source": [
    "### Write your code here\n",
    "words = book_43.flatMap(clean_split_line)\n",
    "words.count()"
   ]
  },
  {
   "cell_type": "markdown",
   "id": "30d62952",
   "metadata": {},
   "source": [
    "### Q6\n",
    "\n",
    "How many of the words in book_43 are unique? Given that words can appear in lower, upper or mixed case (ex. The, THE, the), make sure you convert the words into lower case before counting them.\n"
   ]
  },
  {
   "cell_type": "code",
   "execution_count": 14,
   "id": "07785c77",
   "metadata": {},
   "outputs": [
    {
     "name": "stderr",
     "output_type": "stream",
     "text": [
      "[Stage 3:============================================>           (76 + 20) / 96]\r"
     ]
    },
    {
     "name": "stdout",
     "output_type": "stream",
     "text": [
      "4296 distinct words\n"
     ]
    },
    {
     "name": "stderr",
     "output_type": "stream",
     "text": [
      "\r",
      "                                                                                \r"
     ]
    }
   ],
   "source": [
    "### Write your code here\n",
    "distinctWords = words.distinct()\n",
    "count = distinctWords.count()\n",
    "print(\"{} distinct words\".format(count)) #number of distinct words!"
   ]
  },
  {
   "cell_type": "markdown",
   "id": "91b13b79",
   "metadata": {},
   "source": [
    "### Q7\n",
    "\n",
    "* Generate an `RDD` that contains the frequency of each word in `book_43`. Call the variable `book_43_counts`. Each item in the `RDD` should be a tuple with the word as the first element of the tuple and the count as the second item of the tuple. The collection should look like the following:\n",
    "\n",
    "[('project', 88), (\"the\", 1807), ... ]\n",
    "\n",
    "* Such a collection may contain a large number of words and it would be imprudent to transfer all the words onto the same machine to display it. Instead, to explore the content of such a collection, display only the first element in your list. \n",
    "\n",
    "* Given the random nature of this operation, the first element element displayed may be different. The first entry for me was:\n",
    "```\n",
    "[('project', 88)]\n",
    "```\n",
    "\n",
    "* You can only use operations or actions to answer the question. \n",
    "* Code that uses methods such as `some_rdd.X().Y().Z()...` is allowed\n",
    "* Code that uses functions such as `some_func(...)` is not allowed\n"
   ]
  },
  {
   "cell_type": "code",
   "execution_count": 15,
   "id": "42729b95",
   "metadata": {},
   "outputs": [
    {
     "data": {
      "text/plain": [
       "[('the', 1),\n",
       " ('project', 1),\n",
       " ('gutenberg', 1),\n",
       " ('ebook', 1),\n",
       " ('of', 1),\n",
       " ('the', 1),\n",
       " ('strange', 1),\n",
       " ('case', 1),\n",
       " ('of', 1),\n",
       " ('dr', 1)]"
      ]
     },
     "execution_count": 15,
     "metadata": {},
     "output_type": "execute_result"
    }
   ],
   "source": [
    "### Write your code here\n",
    "words_with_ones = words.map(lambda x: (x, 1))\n",
    "words_with_ones.take(10)"
   ]
  },
  {
   "cell_type": "code",
   "execution_count": 16,
   "id": "118217f5",
   "metadata": {},
   "outputs": [
    {
     "name": "stderr",
     "output_type": "stream",
     "text": [
      "                                                                                \r"
     ]
    },
    {
     "data": {
      "text/plain": [
       "[('_dines_', 1),\n",
       " ('_is_', 1),\n",
       " ('_pede', 1),\n",
       " ('_protégé_', 1),\n",
       " ('_th', 1),\n",
       " ('_to', 1),\n",
       " ('_who', 1),\n",
       " ('_why_', 1),\n",
       " ('_with', 1),\n",
       " ('_à', 1)]"
      ]
     },
     "execution_count": 16,
     "metadata": {},
     "output_type": "execute_result"
    }
   ],
   "source": [
    "sorted_words_with_ones = words_with_ones.sortByKey()\n",
    "sorted_words_with_ones.take(10)"
   ]
  },
  {
   "cell_type": "code",
   "execution_count": 17,
   "id": "19334514",
   "metadata": {},
   "outputs": [],
   "source": [
    "book_43_counts = sorted_words_with_ones.reduceByKey(lambda x,y: x+y)"
   ]
  },
  {
   "cell_type": "code",
   "execution_count": 18,
   "id": "268204ac",
   "metadata": {},
   "outputs": [],
   "source": [
    "project = book_43_counts.filter(lambda x: \"project\" in x)"
   ]
  },
  {
   "cell_type": "code",
   "execution_count": 19,
   "id": "2700ea2f",
   "metadata": {},
   "outputs": [
    {
     "name": "stderr",
     "output_type": "stream",
     "text": [
      "\r",
      "[Stage 11:==============================>                        (53 + 24) / 96]\r",
      "\r",
      "                                                                                \r"
     ]
    },
    {
     "data": {
      "text/plain": [
       "[('project', 88)]"
      ]
     },
     "execution_count": 19,
     "metadata": {},
     "output_type": "execute_result"
    }
   ],
   "source": [
    "project.take(5)"
   ]
  },
  {
   "cell_type": "markdown",
   "id": "1ee4534c",
   "metadata": {},
   "source": [
    "### Q8\n",
    "\n",
    "Sort `book_43_counts` and print the 20 most frequent words in book_43. \n",
    "  * Hint: function `sortByKey` sorts a collection of tuples on the first element element of the list. You can easily change the order of the items in each element and use `sortByKey` to sort on the second item of each element in `book_43_counts`\n",
    "  * You can only use operations or actions to answer the question. \n",
    "  * Code that uses methods such as `some_rdd.X().Y().Z()...` is allowed\n",
    "  * Code that uses functions such as `some_func(...)` is not allowed"
   ]
  },
  {
   "cell_type": "code",
   "execution_count": 20,
   "id": "d51b8ea9",
   "metadata": {},
   "outputs": [],
   "source": [
    "### Write your code here\n",
    "book_43_counts2 = book_43_counts.map(lambda x: (x[1], x[0]))"
   ]
  },
  {
   "cell_type": "code",
   "execution_count": 21,
   "id": "d3bd2f47",
   "metadata": {},
   "outputs": [
    {
     "data": {
      "text/plain": [
       "[(3, 'ape'),\n",
       " (1, 'approaches'),\n",
       " (1, 'assaults'),\n",
       " (2, 'belief'),\n",
       " (1, 'bird'),\n",
       " (1, 'civilly'),\n",
       " (7, 'common'),\n",
       " (1, 'connived'),\n",
       " (1, 'destruction'),\n",
       " (1, 'disliked')]"
      ]
     },
     "execution_count": 21,
     "metadata": {},
     "output_type": "execute_result"
    }
   ],
   "source": [
    "book_43_counts2.take(10)"
   ]
  },
  {
   "cell_type": "code",
   "execution_count": 22,
   "id": "7154de6e",
   "metadata": {},
   "outputs": [],
   "source": [
    "book_43_counts_sorted = book_43_counts2.sortByKey(False)"
   ]
  },
  {
   "cell_type": "code",
   "execution_count": 23,
   "id": "b2fa9d73",
   "metadata": {},
   "outputs": [
    {
     "data": {
      "text/plain": [
       "[(1807, 'the'),\n",
       " (1068, 'of'),\n",
       " (1043, 'and'),\n",
       " (726, 'to'),\n",
       " (686, 'a'),\n",
       " (646, 'i'),\n",
       " (485, 'in'),\n",
       " (471, 'was'),\n",
       " (392, 'that'),\n",
       " (384, 'he'),\n",
       " (378, 'it'),\n",
       " (312, 'you'),\n",
       " (308, 'my'),\n",
       " (301, 'with'),\n",
       " (285, 'his'),\n",
       " (244, 'had'),\n",
       " (203, 'as'),\n",
       " (202, 'for'),\n",
       " (195, 'this'),\n",
       " (193, 'but')]"
      ]
     },
     "execution_count": 23,
     "metadata": {},
     "output_type": "execute_result"
    }
   ],
   "source": [
    "book_43_counts_sorted.take(20)"
   ]
  },
  {
   "cell_type": "markdown",
   "id": "13420b09",
   "metadata": {},
   "source": [
    "### Q9\n",
    "\n",
    "You must have noted that the most frequent words in `book_43_counts` include stop words such as `of`, `the`, `and`, etc.\n",
    "\n",
    "It would be inefficient to compare documents based on whether or not they contain stop words; those are common to all documents. As such, it's common to remove such stop words. The librarary `sklearn.feature_extraction` provides access to a collection of English stop words, which can be loaded using the following snippet:\n",
    "\n",
    "```\n",
    "from sklearn.feature_extraction import stop_words\n",
    "stop_words.ENGLISH_STOP_WORDS\n",
    "```\n",
    "\n",
    "* Explore ENGLISH_STOP_WORDS (it's a frozen set data structure, i.e., a set that you cannot modify) by printing any 10 words from it. \n",
    " * Hint: convert the frozen set to something you can subscript\n"
   ]
  },
  {
   "cell_type": "code",
   "execution_count": 24,
   "id": "0e0ad996",
   "metadata": {},
   "outputs": [],
   "source": [
    "### Write your code here\n",
    "from sklearn.feature_extraction import _stop_words\n",
    "stopWords = _stop_words.ENGLISH_STOP_WORDS"
   ]
  },
  {
   "cell_type": "code",
   "execution_count": 25,
   "id": "a9ed61ac",
   "metadata": {},
   "outputs": [
    {
     "data": {
      "text/plain": [
       "frozenset"
      ]
     },
     "execution_count": 25,
     "metadata": {},
     "output_type": "execute_result"
    }
   ],
   "source": [
    "type(stopWords)"
   ]
  },
  {
   "cell_type": "code",
   "execution_count": 26,
   "id": "cdc5c900",
   "metadata": {},
   "outputs": [],
   "source": [
    "stop_words = list(stopWords)"
   ]
  },
  {
   "cell_type": "code",
   "execution_count": 27,
   "id": "3bf70e3b",
   "metadata": {},
   "outputs": [],
   "source": [
    "# A way to find words containing another word, such as \"the\" in this case\n",
    "# items = []\n",
    "# for id, item in enumerate(list1):\n",
    "#     if \"the\" in item:\n",
    "#         items.append(id)\n",
    "\n",
    "# T = [list1[i] for i in items]\n",
    "# T"
   ]
  },
  {
   "cell_type": "code",
   "execution_count": 28,
   "id": "6649256a",
   "metadata": {},
   "outputs": [
    {
     "data": {
      "text/plain": [
       "['which',\n",
       " 'twelve',\n",
       " 'via',\n",
       " 'almost',\n",
       " 'thereby',\n",
       " 'bill',\n",
       " 'inc',\n",
       " 'several',\n",
       " 'fifteen',\n",
       " 'whereafter']"
      ]
     },
     "execution_count": 28,
     "metadata": {},
     "output_type": "execute_result"
    }
   ],
   "source": [
    "stop_words[:10]"
   ]
  },
  {
   "cell_type": "markdown",
   "id": "625eb521",
   "metadata": {},
   "source": [
    "### Q10\n",
    "\n",
    "Filter out the words in `book_43_counts` by removing those that appear in the ENGLISH_STOP_WORDS.\n",
    "Save the results to a new variable called `book_43_counts_filtered`\n",
    "  * You can only use operarations or actions on RDDs to answer the question. \n",
    "  * Code that uses methods such as `some_rdd.X().Y().Z()...` is allowed\n",
    "  * Code that uses function such as `some_func(...)` is not allowed\n"
   ]
  },
  {
   "cell_type": "code",
   "execution_count": 29,
   "id": "5602b4ff",
   "metadata": {},
   "outputs": [
    {
     "data": {
      "text/plain": [
       "[(1807, 'the'),\n",
       " (1068, 'of'),\n",
       " (1043, 'and'),\n",
       " (726, 'to'),\n",
       " (686, 'a'),\n",
       " (646, 'i'),\n",
       " (485, 'in'),\n",
       " (471, 'was'),\n",
       " (392, 'that'),\n",
       " (384, 'he')]"
      ]
     },
     "execution_count": 29,
     "metadata": {},
     "output_type": "execute_result"
    }
   ],
   "source": [
    "### Write your code here\n",
    "book_43_counts_sorted.take(10)"
   ]
  },
  {
   "cell_type": "code",
   "execution_count": 30,
   "id": "5306ce05",
   "metadata": {},
   "outputs": [],
   "source": [
    "# book_43_counts_filtered = book_43_counts_sorted.filter(lambda x:  in x)\n",
    "book_43_counts_filtered = book_43_counts_sorted.filter(lambda x: x[1] not in stop_words)"
   ]
  },
  {
   "cell_type": "code",
   "execution_count": 31,
   "id": "5248bdba",
   "metadata": {},
   "outputs": [
    {
     "data": {
      "text/plain": [
       "[(156, 's'),\n",
       " (131, 'utterson'),\n",
       " (130, 'said'),\n",
       " (128, 'mr'),\n",
       " (105, 'hyde'),\n",
       " (105, 'jekyll'),\n",
       " (98, 'gutenberg'),\n",
       " (88, 'project'),\n",
       " (85, 'man'),\n",
       " (72, 'lawyer')]"
      ]
     },
     "execution_count": 31,
     "metadata": {},
     "output_type": "execute_result"
    }
   ],
   "source": [
    "book_43_counts_filtered.take(10)"
   ]
  },
  {
   "cell_type": "markdown",
   "id": "3d0b3a80",
   "metadata": {},
   "source": [
    "### Q11\n",
    "\n",
    "* How many words are left in `book_43_counts_filtered` after removing the stop words"
   ]
  },
  {
   "cell_type": "code",
   "execution_count": 32,
   "id": "a5bdf083",
   "metadata": {},
   "outputs": [
    {
     "data": {
      "text/plain": [
       "4034"
      ]
     },
     "execution_count": 32,
     "metadata": {},
     "output_type": "execute_result"
    }
   ],
   "source": [
    "### Write your code here\n",
    "book_43_counts_filtered.count()"
   ]
  },
  {
   "cell_type": "markdown",
   "id": "23ffd755",
   "metadata": {},
   "source": [
    "### Q12 \n",
    "\n",
    "* Create a function called *process_RDD* that combines the relevant steps you proposed above to make it convenient to apply them to the remaining four books. Your function should accept an input text file path and:\n",
    " * Reads in the file as a textRDD\n",
    " * Cleans and splits the line using `clean_split_line`\n",
    " * Filters out the stop words\n",
    " * Returns a word count RDD where each item is a tuple of words and its count.\n",
    " \n"
   ]
  },
  {
   "cell_type": "code",
   "execution_count": 33,
   "id": "eff5d5e8",
   "metadata": {},
   "outputs": [],
   "source": [
    "### Write your code here\n",
    "\n",
    "def process_RDD(book_path):\n",
    "    book = sc.textFile(book_path, minPartitions=96)\n",
    "    words = book.flatMap(clean_split_line)\n",
    "    words_with_ones = words.map(lambda x: (x, 1))\n",
    "    sorted_words_with_ones = words_with_ones.sortByKey()\n",
    "    book_counts = sorted_words_with_ones.reduceByKey(lambda x,y: x+y)\n",
    "    book_counts2 = book_counts.map(lambda x: (x[1], x[0]))\n",
    "#     book_43_counts_sorted = book_43_counts2.sortByKey(False) In case it stops working, maybe this is reason\n",
    "    stopWords = _stop_words.ENGLISH_STOP_WORDS\n",
    "    stop_words = list(stopWords)\n",
    "    book_wout_stops = book_counts2.filter(lambda x: x[1] not in stop_words)\n",
    "    book = book_wout_stops.sortByKey(False) #False means descending I think\n",
    "\n",
    "    return book\n",
    "\n"
   ]
  },
  {
   "cell_type": "code",
   "execution_count": 34,
   "id": "971e75d7",
   "metadata": {},
   "outputs": [
    {
     "name": "stderr",
     "output_type": "stream",
     "text": [
      "                                                                                \r"
     ]
    }
   ],
   "source": [
    "booky = process_RDD(\"./data/43.txt\")"
   ]
  },
  {
   "cell_type": "code",
   "execution_count": 35,
   "id": "7c4196c0",
   "metadata": {},
   "outputs": [
    {
     "data": {
      "text/plain": [
       "pyspark.rdd.PipelinedRDD"
      ]
     },
     "execution_count": 35,
     "metadata": {},
     "output_type": "execute_result"
    }
   ],
   "source": [
    "type(booky)"
   ]
  },
  {
   "cell_type": "code",
   "execution_count": 36,
   "id": "0dc15333",
   "metadata": {},
   "outputs": [
    {
     "data": {
      "text/plain": [
       "[(156, 's'),\n",
       " (131, 'utterson'),\n",
       " (130, 'said'),\n",
       " (128, 'mr'),\n",
       " (105, 'hyde'),\n",
       " (105, 'jekyll'),\n",
       " (98, 'gutenberg'),\n",
       " (88, 'project'),\n",
       " (85, 'man'),\n",
       " (72, 'lawyer')]"
      ]
     },
     "execution_count": 36,
     "metadata": {},
     "output_type": "execute_result"
    }
   ],
   "source": [
    "booky.take(10)"
   ]
  },
  {
   "cell_type": "code",
   "execution_count": 37,
   "id": "de8f6be1",
   "metadata": {},
   "outputs": [
    {
     "name": "stdout",
     "output_type": "stream",
     "text": [
      "[]\n"
     ]
    },
    {
     "data": {
      "text/plain": [
       "4034"
      ]
     },
     "execution_count": 37,
     "metadata": {},
     "output_type": "execute_result"
    }
   ],
   "source": [
    "#How to create a new RDD from only the word \"a\"\n",
    "stuff = booky.filter(lambda x: \"the\" in x)\n",
    "print(stuff.take(1))\n",
    "booky.count()"
   ]
  },
  {
   "cell_type": "markdown",
   "id": "ba59c9c5",
   "metadata": {},
   "source": [
    "### Q13 \n",
    "\n",
    "Apply the function `process_RDD` to `book_84`, `book_398` and `book_3296` and save the results to variables `book_84_counts_filtered`, `book_398_counts_filtered` and `book_3296_counts_filtered` respectively. How many distinct words does each book contain after filtering the stop words.\n"
   ]
  },
  {
   "cell_type": "code",
   "execution_count": 38,
   "id": "08a24f66",
   "metadata": {},
   "outputs": [
    {
     "name": "stderr",
     "output_type": "stream",
     "text": [
      "                                                                                \r"
     ]
    }
   ],
   "source": [
    "### Write your code here\n",
    "book_84_counts_filtered = process_RDD(\"./data/84.txt\")\n",
    "book_398_counts_filtered = process_RDD(\"./data/398.txt\")\n",
    "book_3296_counts_filtered = process_RDD(\"./data/3296.txt\")"
   ]
  },
  {
   "cell_type": "code",
   "execution_count": 39,
   "id": "4be07657",
   "metadata": {},
   "outputs": [
    {
     "name": "stdout",
     "output_type": "stream",
     "text": [
      "Book 84 distinct words # = 7016\n",
      "Book 398 distinct words # = 2421\n",
      "Book 3296 distinct words # = 7293\n"
     ]
    }
   ],
   "source": [
    "print(\"Book 84 distinct words # = {}\".format(book_84_counts_filtered.count()))\n",
    "print(\"Book 398 distinct words # = {}\".format(book_398_counts_filtered.count()))\n",
    "print(\"Book 3296 distinct words # = {}\".format(book_3296_counts_filtered.count()))"
   ]
  },
  {
   "cell_type": "markdown",
   "id": "7fb9680f",
   "metadata": {},
   "source": [
    "### Q14 \n",
    "\n",
    "We discussed how to evaluate similarity between two texts using the number of words they share. We hypothesized that books that are similar should have more words in common than books that are dissimilar. If that holds, `book_398` and `book_3296`, which both pertain to religion, will have more words in common than, say, `book_84` and `book_398`. Test this hypothesis by writing code that compares and prints the number of words shared between `book_398` and `book_3296` and then between `book_84` and `book_398`.\n"
   ]
  },
  {
   "cell_type": "code",
   "execution_count": 40,
   "id": "ac6b73e0",
   "metadata": {},
   "outputs": [
    {
     "name": "stderr",
     "output_type": "stream",
     "text": [
      "                                                                                \r"
     ]
    },
    {
     "name": "stdout",
     "output_type": "stream",
     "text": [
      "(intersect_398_3296 count) = 1790\n"
     ]
    },
    {
     "name": "stderr",
     "output_type": "stream",
     "text": [
      "\r",
      "[Stage 133:===================>                                 (71 + 24) / 192]\r",
      "\r",
      "[Stage 133:====================================>               (136 + 24) / 192]\r"
     ]
    },
    {
     "name": "stdout",
     "output_type": "stream",
     "text": [
      "(intersect_84_398 count) = 1691\n"
     ]
    },
    {
     "name": "stderr",
     "output_type": "stream",
     "text": [
      "\r",
      "                                                                                \r"
     ]
    }
   ],
   "source": [
    "### Write your code here\n",
    "intersect_398_3296 = book_398_counts_filtered.map(lambda x: x[1]).intersection(book_3296_counts_filtered.map(lambda x: x[1]))\n",
    "\n",
    "intersect_84_398 = book_84_counts_filtered.map(lambda x: x[1]).intersection(book_398_counts_filtered.map(lambda x: x[1]))\n",
    "\n",
    "print(\"(intersect_398_3296 count) = {}\".format(intersect_398_3296.count()))\n",
    "print(\"(intersect_84_398 count) = {}\".format(intersect_84_398.count()))"
   ]
  },
  {
   "cell_type": "markdown",
   "id": "cef9f326",
   "metadata": {},
   "source": [
    "### Q15\n",
    "\n",
    "* Based on the above, do you think counting the number of shared words is a good idea as a distance metric for evaluating topic similarity? Justify your answer?\n",
    "* Hint: What do *book_84* and *book_3296* have in common? "
   ]
  },
  {
   "cell_type": "markdown",
   "id": "6587ae14",
   "metadata": {},
   "source": [
    "#### Write your answer here\n",
    "\n",
    "* <p style=\"color: Green\">the two tests differ by only 5%.</p>\n",
    "* <p style=\"color: Green\">We can justify the answer by looking at word count per book. If two books (A and B) have 100 times as many words as the third (book C), [A: 5000wds, B: 5000wds, C: 50wds], books A and B will have more words in common just based on statistics, even if books A and C have much more in common.</p>\n",
    "* <p style=\"color: Green\">If we are comparing multiple books with roughly the same number of words, then this technique should work ok.</p>"
   ]
  },
  {
   "cell_type": "markdown",
   "id": "a6f8f857",
   "metadata": {},
   "source": [
    "## Part II \n",
    "\n",
    "Another approach to estimating similarity consists of computing the Euclidean distance across a set of words. For example, suppose we have 3 documents A, B and C with the following counts for the words `evolution`, `DNA`, `biology` and `finance`. \n",
    "\n",
    "```python \n",
    "A = [4, 9, 6, 8]\n",
    "B = [3, 7, 7, 10]\n",
    "C = [15, 10, 1, 1]\n",
    "```\n",
    "Although all documents contain exactly the four words, the number of times these words appear in each book may be indicative of thier topic. For example, documents `A` and `B` are more likely to be business related since they contain the word `finance` more frequently (8 and 10 times respectively). Document `C` may be a technical document since it focuses on more technical words (`evolution` and `DNA`) and less on the words `finance`.\n",
    "\n",
    "The Euclidean distance, which can be computed using the `scikit` snippet below, is more indicative of topic-relatedness between the two documents.\n",
    "\n",
    "```python\n",
    "from scipy.spatial.distance import euclidean \n",
    "print(f\"The Euclidean distance between A and B is: {euclidean(A, B)}\")\n",
    "\n",
    "print(f\"The Euclidean distance between A and C is: {euclidean(A, C)}\")\n",
    "\n",
    "print(f\"The Euclidean distance between B and C is: {euclidean(B, C)}\")\n",
    "```\n"
   ]
  },
  {
   "cell_type": "markdown",
   "id": "9abdc35e",
   "metadata": {},
   "source": [
    "### Q16\n",
    "\n",
    "To calculate the Euclidean distance, we must first identify the set of words by which we will compare the documents. Here, we will explore the words that are common to all 4 documents. We will store the data in a matrix called `counts_matrix`.\n",
    "\n",
    "Start by finding the words that are common to all four documents after stop-word filtering and store the counts for each word in a column of `counts_matrix`. \n",
    "\n",
    "To take the previous example, you can generate an emtpy matrix with 3 lines (documents `A`, `B` and `C`) and 4 columns (words `evolution`, `DNA`, `biology` and `finance`) using the following code.\n",
    "\n",
    "```python\n",
    "import numpy as np\n",
    "counts_matrix = np.zeros([3,4])\n",
    "```\n",
    "\n",
    "After generting the counts, you can fill the counts for a document, say `A`, using the following code:\n",
    "\n",
    "```python\n",
    "counts_matrix[0, :] = [4, 9, 6, 8] \n",
    "```\n",
    "* Other than for building `counts_matrix` you should exclusively use operations or actions on the `RDD` to answer this question. \n",
    "  * Code that uses methods such as `some_rdd.X().Y().Z()...` is allowed\n",
    "  * Code that uses functions such as `some_func(...)` is not allowed\n"
   ]
  },
  {
   "cell_type": "code",
   "execution_count": 41,
   "id": "c3cae946",
   "metadata": {},
   "outputs": [
    {
     "name": "stderr",
     "output_type": "stream",
     "text": [
      "                                                                                \r"
     ]
    },
    {
     "data": {
      "text/plain": [
       "1162"
      ]
     },
     "execution_count": 41,
     "metadata": {},
     "output_type": "execute_result"
    }
   ],
   "source": [
    "### Write your code here\n",
    "import numpy as np\n",
    "\n",
    "book_43_counts_filtered = process_RDD(\"./data/43.txt\")\n",
    "\n",
    "intersect_43_84_398_3296 = book_398_counts_filtered.map(lambda x: x[1]).intersection(book_3296_counts_filtered.map(lambda x: x[1])).intersection(book_84_counts_filtered.map(lambda x: x[1])).intersection(book_43_counts_filtered.map(lambda x: x[1]))\n",
    "\n",
    "colCount = intersect_43_84_398_3296.count() #about 1500\n",
    "colCount"
   ]
  },
  {
   "cell_type": "code",
   "execution_count": 42,
   "id": "ce01de65",
   "metadata": {},
   "outputs": [
    {
     "data": {
      "text/plain": [
       "list"
      ]
     },
     "execution_count": 42,
     "metadata": {},
     "output_type": "execute_result"
    }
   ],
   "source": [
    "type(intersect_43_84_398_3296.take(10))"
   ]
  },
  {
   "cell_type": "code",
   "execution_count": 43,
   "id": "e3543a55",
   "metadata": {},
   "outputs": [
    {
     "data": {
      "text/plain": [
       "pyspark.rdd.PipelinedRDD"
      ]
     },
     "execution_count": 43,
     "metadata": {},
     "output_type": "execute_result"
    }
   ],
   "source": [
    "type(book_43_counts_filtered)"
   ]
  },
  {
   "cell_type": "code",
   "execution_count": 44,
   "id": "f9454bd9",
   "metadata": {},
   "outputs": [
    {
     "data": {
      "text/plain": [
       "[(156, 's'),\n",
       " (131, 'utterson'),\n",
       " (130, 'said'),\n",
       " (128, 'mr'),\n",
       " (105, 'hyde'),\n",
       " (105, 'jekyll'),\n",
       " (98, 'gutenberg'),\n",
       " (88, 'project'),\n",
       " (85, 'man'),\n",
       " (72, 'lawyer')]"
      ]
     },
     "execution_count": 44,
     "metadata": {},
     "output_type": "execute_result"
    }
   ],
   "source": [
    "book_43_counts_filtered.take(10)"
   ]
  },
  {
   "cell_type": "code",
   "execution_count": 45,
   "id": "050f22b4",
   "metadata": {},
   "outputs": [
    {
     "data": {
      "text/plain": [
       "['belief',\n",
       " 'indirectly',\n",
       " 'returns',\n",
       " 'seek',\n",
       " 'dust',\n",
       " 'iron',\n",
       " 'employee',\n",
       " 'calculate',\n",
       " 'volunteer',\n",
       " 'important']"
      ]
     },
     "execution_count": 45,
     "metadata": {},
     "output_type": "execute_result"
    }
   ],
   "source": [
    "intersect_43_84_398_3296.take(10)"
   ]
  },
  {
   "cell_type": "code",
   "execution_count": 46,
   "id": "a33fb162",
   "metadata": {},
   "outputs": [],
   "source": [
    "# book_43_counts_filtered = book_43_counts_sorted.filter(lambda x:  in x)\n",
    "book_43_counts_filtered = book_43_counts_sorted.filter(lambda x: x[1] not in stop_words)"
   ]
  },
  {
   "cell_type": "code",
   "execution_count": 47,
   "id": "a43b6865",
   "metadata": {},
   "outputs": [
    {
     "data": {
      "text/plain": [
       "[(1807, 'the'),\n",
       " (1068, 'of'),\n",
       " (1043, 'and'),\n",
       " (726, 'to'),\n",
       " (686, 'a'),\n",
       " (646, 'i'),\n",
       " (485, 'in'),\n",
       " (471, 'was'),\n",
       " (392, 'that'),\n",
       " (384, 'he')]"
      ]
     },
     "execution_count": 47,
     "metadata": {},
     "output_type": "execute_result"
    }
   ],
   "source": [
    "type(book_43_counts_sorted)\n",
    "book_43_counts_sorted.take(10)"
   ]
  },
  {
   "cell_type": "code",
   "execution_count": 48,
   "id": "a1ea3b91",
   "metadata": {},
   "outputs": [
    {
     "name": "stderr",
     "output_type": "stream",
     "text": [
      "\r",
      "[Stage 246:============================================>       (325 + 24) / 384]\r",
      "\r",
      "                                                                                \r"
     ]
    }
   ],
   "source": [
    "intersection_list = list(intersect_43_84_398_3296.collect())"
   ]
  },
  {
   "cell_type": "code",
   "execution_count": 49,
   "id": "3f5863bf",
   "metadata": {},
   "outputs": [],
   "source": [
    "words_counts_43 = book_43_counts_filtered.filter(lambda x: x[1] in intersection_list)\n",
    "words_counts_84 = book_84_counts_filtered.filter(lambda x: x[1] in intersection_list)\n",
    "words_counts_398 = book_398_counts_filtered.filter(lambda x: x[1] in intersection_list)\n",
    "words_counts_3296 = book_3296_counts_filtered.filter(lambda x: x[1] in intersection_list)\n",
    "\n"
   ]
  },
  {
   "cell_type": "code",
   "execution_count": 50,
   "id": "dafb2bfb",
   "metadata": {},
   "outputs": [],
   "source": [
    "words_counts_43 = words_counts_43.map(lambda x: (x[1], x[0]))"
   ]
  },
  {
   "cell_type": "code",
   "execution_count": 51,
   "id": "dfbf4d7c",
   "metadata": {},
   "outputs": [],
   "source": [
    "words_counts_84 = words_counts_84.map(lambda x: (x[1], x[0]))"
   ]
  },
  {
   "cell_type": "code",
   "execution_count": 52,
   "id": "e091ea84",
   "metadata": {},
   "outputs": [],
   "source": [
    "words_counts_398 = words_counts_398.map(lambda x: (x[1], x[0]))"
   ]
  },
  {
   "cell_type": "code",
   "execution_count": 53,
   "id": "b18cedd4",
   "metadata": {},
   "outputs": [],
   "source": [
    "words_counts_3296 = words_counts_3296.map(lambda x: (x[1], x[0]))"
   ]
  },
  {
   "cell_type": "code",
   "execution_count": 54,
   "id": "cc6e5571",
   "metadata": {},
   "outputs": [
    {
     "name": "stdout",
     "output_type": "stream",
     "text": [
      "[('zip', 1), ('younger', 3), ('young', 5), ('years', 11), ('www', 10), ('wrote', 2), ('wrong', 6), ('written', 8), ('writing', 6), ('write', 5)]\n",
      "\n",
      "[('zip', 1), ('younger', 9), ('young', 30), ('years', 45), ('www', 10), ('wrote', 4), ('wrong', 1), ('written', 7), ('writing', 6), ('write', 11)]\n",
      "\n",
      "[('zip', 1), ('younger', 2), ('young', 1), ('years', 19), ('www', 6), ('wrote', 1), ('wrong', 3), ('written', 6), ('writing', 4), ('write', 1)]\n",
      "\n",
      "[('zip', 1), ('younger', 4), ('young', 15), ('years', 51), ('www', 10), ('wrote', 12), ('wrong', 2), ('written', 25), ('writing', 13), ('write', 8)]\n"
     ]
    }
   ],
   "source": [
    "words_counts_43 = words_counts_43.sortByKey(False)\n",
    "words_counts_84 = words_counts_84.sortByKey(False)\n",
    "words_counts_398 = words_counts_398.sortByKey(False)\n",
    "words_counts_3296 = words_counts_3296.sortByKey(False)\n",
    "\n",
    "print(words_counts_43.take(10))\n",
    "print()\n",
    "print(words_counts_84.take(10))\n",
    "print()\n",
    "print(words_counts_398.take(10))\n",
    "print()\n",
    "print(words_counts_3296.take(10))"
   ]
  },
  {
   "cell_type": "code",
   "execution_count": 55,
   "id": "dae08d89",
   "metadata": {},
   "outputs": [
    {
     "name": "stdout",
     "output_type": "stream",
     "text": [
      "[[0. 0. 0. ... 0. 0. 0.]\n",
      " [0. 0. 0. ... 0. 0. 0.]\n",
      " [0. 0. 0. ... 0. 0. 0.]\n",
      " [0. 0. 0. ... 0. 0. 0.]]\n"
     ]
    }
   ],
   "source": [
    "counts_matrix = np.zeros([4, colCount])\n",
    "print(counts_matrix)"
   ]
  },
  {
   "cell_type": "code",
   "execution_count": 56,
   "id": "2f3422f1",
   "metadata": {},
   "outputs": [],
   "source": [
    "counts_matrix[0, :] = list(words_counts_43.map(lambda x: x[1]).collect())\n",
    "counts_matrix[1, :] = list(words_counts_84.map(lambda x: x[1]).collect())\n",
    "counts_matrix[2, :] = list(words_counts_398.map(lambda x: x[1]).collect())\n",
    "counts_matrix[3, :] = list(words_counts_3296.map(lambda x: x[1]).collect())"
   ]
  },
  {
   "cell_type": "markdown",
   "id": "0c00dc24",
   "metadata": {},
   "source": [
    "<h1 style=\"color: green\">Counts Matrix</h1>"
   ]
  },
  {
   "cell_type": "code",
   "execution_count": 57,
   "id": "dc489ba6",
   "metadata": {},
   "outputs": [
    {
     "name": "stdout",
     "output_type": "stream",
     "text": [
      "[[ 1.  3.  5. ...  2.  3.  1.]\n",
      " [ 1.  9. 30. ...  4.  9.  1.]\n",
      " [ 1.  2.  1. ... 16.  5.  1.]\n",
      " [ 1.  4. 15. ...  3. 36. 16.]]\n"
     ]
    }
   ],
   "source": [
    "print(counts_matrix)"
   ]
  },
  {
   "cell_type": "markdown",
   "id": "124bcdd8",
   "metadata": {},
   "source": [
    "### Q17\n",
    "\n",
    "Compute the Euclidean distance between `book_398` and `book_3296`, which both talk about religion and `book_84` and `book_398`. What do you conclude about using the Euclidean distance for evaluating topic relatedness across documents?\n"
   ]
  },
  {
   "cell_type": "code",
   "execution_count": 58,
   "id": "7b6a81dd",
   "metadata": {},
   "outputs": [],
   "source": [
    "### Write your code here\n",
    "from scipy.spatial.distance import euclidean "
   ]
  },
  {
   "cell_type": "markdown",
   "id": "aa67e226",
   "metadata": {},
   "source": [
    "<h1 style=\"color: green\">Euclidean Distances</h1>"
   ]
  },
  {
   "cell_type": "code",
   "execution_count": 59,
   "id": "970721ed",
   "metadata": {},
   "outputs": [
    {
     "name": "stdout",
     "output_type": "stream",
     "text": [
      "The Euclidean distance between book_398 and book_3296 is: 1156.6628722320086\n",
      "The Euclidean distance between book_84 and book_398 is: 751.6688100486809\n"
     ]
    }
   ],
   "source": [
    "print(f\"The Euclidean distance between book_398 and book_3296 is: {euclidean(counts_matrix[2], counts_matrix[3])}\")\n",
    "print(f\"The Euclidean distance between book_84 and book_398 is: {euclidean(counts_matrix[1], counts_matrix[2])}\")"
   ]
  },
  {
   "cell_type": "markdown",
   "id": "89981b46",
   "metadata": {},
   "source": [
    "#### Write your justification here\n",
    "* Euclidean distance seems much better than just counting the words based on the larger difference when comparing the three books."
   ]
  },
  {
   "cell_type": "markdown",
   "id": "3f4e54e6",
   "metadata": {},
   "source": [
    "### Q18\n",
    "\n",
    "Bonus question (5 points): Can you think of a few things we could do to improve similarity between documents that pertain to the same topic. Justify your answer without giving code"
   ]
  },
  {
   "cell_type": "markdown",
   "id": "5c8c6de1",
   "metadata": {},
   "source": [
    "#### Write your answer here\n"
   ]
  },
  {
   "cell_type": "markdown",
   "id": "aedf1d74",
   "metadata": {},
   "source": [
    "## Part III\n",
    "\n",
    "In this part we will build some basic analytics for a dataset consisting of flight arrival and departure details for all commercial flights within the USA in one month. While this dataset can be managed using Pandas (<1M records), scaling to a yearly or longer timeframe will greatly benefit from using a distributed computing framework such as `Spark`.\n",
    "\n",
    "Here, you should use exclusively `SparkDatFrames. \n",
    "\n",
    "We want to analyze this dataset to better schedule trips.  For example:\n",
    " * Avoid airlines carriers that are most often associated with delays.\n",
    " * Avoid departure days where delays are most frequent.\n",
    " * Avoid airports which are associated with delays or long taxxying time.\n",
    "* etc.\n",
    " \n",
    "\n",
    "The information about the fields contained in the data file can be found [here](https://dataverse.harvard.edu/dataset.xhtml;jsessionid=0414e25969eccd0e88ae4d64fa0b?persistentId=doi%3A10.7910%2FDVN%2FHG7NV7&version=&q=&fileTypeGroupFacet=&fileTag=%221.+Documentation%22&fileSortField=date&fileSortOrder=desc)\n"
   ]
  },
  {
   "cell_type": "markdown",
   "id": "149805af",
   "metadata": {},
   "source": [
    "### Q19\n",
    "\n",
    "Load the file `flight_info.csv` into a spark `DataFrame` called `fight_info`.\n",
    "\n",
    "  * Note that you will need to create a sparkSession prior to loading the data\n",
    "  \n",
    "* How many entries does the file contain?\n",
    "\n"
   ]
  },
  {
   "cell_type": "code",
   "execution_count": 60,
   "id": "3ad5e6ad",
   "metadata": {},
   "outputs": [],
   "source": [
    "### Write your code here\n",
    "from pyspark.sql import SparkSession\n",
    "session = SparkSession(sc)"
   ]
  },
  {
   "cell_type": "markdown",
   "id": "f9d9aeb1",
   "metadata": {},
   "source": [
    "<h1 style=\"color: green\">Number of entries in file</h1>"
   ]
  },
  {
   "cell_type": "code",
   "execution_count": 61,
   "id": "e28dd641",
   "metadata": {},
   "outputs": [
    {
     "name": "stdout",
     "output_type": "stream",
     "text": [
      "450017\n",
      "CPU times: user 2.24 ms, sys: 2.68 ms, total: 4.92 ms\n",
      "Wall time: 3.86 s\n"
     ]
    }
   ],
   "source": [
    "%%time\n",
    "\n",
    "flight_info = session.read.csv(\"./data/flight_info.csv\", header=True, inferSchema=True)\n",
    "print(flight_info.count())\n",
    "# flight_info.head(1)"
   ]
  },
  {
   "cell_type": "markdown",
   "id": "4fad81f1",
   "metadata": {},
   "source": [
    "### Q20\n",
    "\n",
    "Use `pySpark-SQL` or `pandas-like syntax to compute the airlines represented in this dataset\n",
    "The airline information is stored in a field called UniqueCarrier\n",
    "* UniqueCarrier: Represents the unique carrier code (ex.AA = American Airlines) \n"
   ]
  },
  {
   "cell_type": "code",
   "execution_count": 62,
   "id": "73fd7b0b",
   "metadata": {},
   "outputs": [
    {
     "name": "stdout",
     "output_type": "stream",
     "text": [
      "root\n",
      " |-- ID: integer (nullable = true)\n",
      " |-- DayOfWeek: integer (nullable = true)\n",
      " |-- UniqueCarrier: string (nullable = true)\n",
      " |-- FlightNum: integer (nullable = true)\n",
      " |-- Origin: string (nullable = true)\n",
      " |-- Dest: string (nullable = true)\n",
      " |-- CRSDepTime: integer (nullable = true)\n",
      " |-- DepTime: double (nullable = true)\n",
      " |-- TaxiOut: double (nullable = true)\n",
      " |-- WheelsOff: double (nullable = true)\n",
      " |-- WheelsOn: double (nullable = true)\n",
      " |-- TaxiIn: double (nullable = true)\n",
      " |-- CRSArrTime: integer (nullable = true)\n",
      " |-- ArrTime: double (nullable = true)\n",
      " |-- Cancelled: double (nullable = true)\n",
      " |-- CancellationCode: string (nullable = true)\n",
      " |-- Distance: double (nullable = true)\n",
      " |-- CarrierDelay: double (nullable = true)\n",
      " |-- WeatherDelay: double (nullable = true)\n",
      " |-- NASDelay: double (nullable = true)\n",
      " |-- SecurityDelay: double (nullable = true)\n",
      " |-- LateAircraftDelay: double (nullable = true)\n",
      "\n"
     ]
    }
   ],
   "source": [
    "### Write your code here\n",
    "flight_info.printSchema()"
   ]
  },
  {
   "cell_type": "code",
   "execution_count": 63,
   "id": "62f7cb19",
   "metadata": {},
   "outputs": [],
   "source": [
    "uniqueCarrier = flight_info.select('UniqueCarrier').distinct()\n"
   ]
  },
  {
   "cell_type": "markdown",
   "id": "33b101b2",
   "metadata": {},
   "source": [
    "<h1 style=\"color: green\">Number of unique airlines</h1>"
   ]
  },
  {
   "cell_type": "code",
   "execution_count": 64,
   "id": "fb6d4607",
   "metadata": {},
   "outputs": [
    {
     "data": {
      "text/plain": [
       "12"
      ]
     },
     "execution_count": 64,
     "metadata": {},
     "output_type": "execute_result"
    }
   ],
   "source": [
    "uniqueCarrier.count()"
   ]
  },
  {
   "cell_type": "code",
   "execution_count": 65,
   "id": "3b3ff2b8",
   "metadata": {},
   "outputs": [
    {
     "data": {
      "text/plain": [
       "[Row(UniqueCarrier='AA'),\n",
       " Row(UniqueCarrier='EV'),\n",
       " Row(UniqueCarrier='B6'),\n",
       " Row(UniqueCarrier='DL'),\n",
       " Row(UniqueCarrier='UA'),\n",
       " Row(UniqueCarrier='NK'),\n",
       " Row(UniqueCarrier='OO'),\n",
       " Row(UniqueCarrier='F9'),\n",
       " Row(UniqueCarrier='HA'),\n",
       " Row(UniqueCarrier='WN'),\n",
       " Row(UniqueCarrier='AS'),\n",
       " Row(UniqueCarrier='VX')]"
      ]
     },
     "execution_count": 65,
     "metadata": {},
     "output_type": "execute_result"
    }
   ],
   "source": [
    "uniqueCarrier.head(20)"
   ]
  },
  {
   "cell_type": "markdown",
   "id": "1349b2f5",
   "metadata": {},
   "source": [
    "### Q21\n",
    "\n",
    "The data file contains various other fields, two of which are useful for answering the next question.\n",
    "\n",
    "* CRSDepTime: Represents the scheduled departure time\n",
    "* DepTime: Represents the actual departure time\n",
    "\n",
    "Compute the number of flights delayed per each carried code represented in this dataset. Sort the data by decreasing order of delays.\n",
    "  * A delay is observed when `DepTime` > `CRSDepTime`\n"
   ]
  },
  {
   "cell_type": "code",
   "execution_count": 66,
   "id": "c72cff25",
   "metadata": {},
   "outputs": [
    {
     "data": {
      "text/plain": [
       "[Row(ID=0, DayOfWeek=2, UniqueCarrier='AA', FlightNum=494, Origin='CLT', Dest='PHX', CRSDepTime=1619, DepTime=1616.0, TaxiOut=17.0, WheelsOff=1633.0, WheelsOn=1837.0, TaxiIn=5.0, CRSArrTime=1856, ArrTime=1842.0, Cancelled=0.0, CancellationCode=None, Distance=1773.0, CarrierDelay=None, WeatherDelay=None, NASDelay=None, SecurityDelay=None, LateAircraftDelay=None)]"
      ]
     },
     "execution_count": 66,
     "metadata": {},
     "output_type": "execute_result"
    }
   ],
   "source": [
    "### Write your code here\n",
    "flight_info.createOrReplaceTempView(\"Flights\")\n",
    "session.sql('select * from Flights').head(1)"
   ]
  },
  {
   "cell_type": "code",
   "execution_count": 67,
   "id": "1f60cfb8",
   "metadata": {},
   "outputs": [
    {
     "name": "stdout",
     "output_type": "stream",
     "text": [
      "root\n",
      " |-- ID: integer (nullable = true)\n",
      " |-- DayOfWeek: integer (nullable = true)\n",
      " |-- UniqueCarrier: string (nullable = true)\n",
      " |-- FlightNum: integer (nullable = true)\n",
      " |-- Origin: string (nullable = true)\n",
      " |-- Dest: string (nullable = true)\n",
      " |-- CRSDepTime: integer (nullable = true)\n",
      " |-- DepTime: double (nullable = true)\n",
      " |-- TaxiOut: double (nullable = true)\n",
      " |-- WheelsOff: double (nullable = true)\n",
      " |-- WheelsOn: double (nullable = true)\n",
      " |-- TaxiIn: double (nullable = true)\n",
      " |-- CRSArrTime: integer (nullable = true)\n",
      " |-- ArrTime: double (nullable = true)\n",
      " |-- Cancelled: double (nullable = true)\n",
      " |-- CancellationCode: string (nullable = true)\n",
      " |-- Distance: double (nullable = true)\n",
      " |-- CarrierDelay: double (nullable = true)\n",
      " |-- WeatherDelay: double (nullable = true)\n",
      " |-- NASDelay: double (nullable = true)\n",
      " |-- SecurityDelay: double (nullable = true)\n",
      " |-- LateAircraftDelay: double (nullable = true)\n",
      "\n"
     ]
    }
   ],
   "source": [
    "flight_info.printSchema()"
   ]
  },
  {
   "cell_type": "code",
   "execution_count": 68,
   "id": "b78edee5",
   "metadata": {},
   "outputs": [],
   "source": [
    "flight_delays = session.sql(\"\"\"\n",
    "SELECT UniqueCarrier, COUNT(*) \n",
    "FROM Flights\n",
    "WHERE DepTime > CRSDepTime\n",
    "GROUP BY UniqueCarrier;\n",
    "\"\"\")"
   ]
  },
  {
   "cell_type": "markdown",
   "id": "d20c2f5b",
   "metadata": {},
   "source": [
    "<h1 style=\"color: green\">Flight Delays per Airline</h1>"
   ]
  },
  {
   "cell_type": "code",
   "execution_count": 69,
   "id": "9aa28128",
   "metadata": {},
   "outputs": [
    {
     "data": {
      "text/plain": [
       "[Row(UniqueCarrier='AA', count(1)=23461),\n",
       " Row(UniqueCarrier='EV', count(1)=11596),\n",
       " Row(UniqueCarrier='B6', count(1)=9396),\n",
       " Row(UniqueCarrier='DL', count(1)=24334),\n",
       " Row(UniqueCarrier='UA', count(1)=17701),\n",
       " Row(UniqueCarrier='NK', count(1)=4151),\n",
       " Row(UniqueCarrier='OO', count(1)=16751),\n",
       " Row(UniqueCarrier='F9', count(1)=2988),\n",
       " Row(UniqueCarrier='HA', count(1)=1939),\n",
       " Row(UniqueCarrier='WN', count(1)=47472),\n",
       " Row(UniqueCarrier='AS', count(1)=4488),\n",
       " Row(UniqueCarrier='VX', count(1)=2648)]"
      ]
     },
     "execution_count": 69,
     "metadata": {},
     "output_type": "execute_result"
    }
   ],
   "source": [
    "flight_delays.head(20)"
   ]
  },
  {
   "cell_type": "markdown",
   "id": "1645593b",
   "metadata": {},
   "source": [
    "### Q22\n",
    "\n",
    " Use the file `airlines.csv` to find the the complete name of the airline. Here, you are required to load the file as a pyspark DataFrame; call it `airlines_info`, and repeat the query above while including the `flights.csv `file in your query ( requires doing a `join`) so that you can also display the full name of the carrier (second column). \n",
    "\n",
    "The result will look (approximately) like:\n",
    "\n",
    "```\n",
    "[Row(UniqueCarrier='WN', first(_c1)='Southwest Airlines', count=SOME_count),\n",
    " Row(UniqueCarrier='DL', first(_c1)='Delta Air Lines', count=SOME_count),\n",
    " Row(UniqueCarrier='AA', first(_c1)='American Airlines', count=SOME_count),\n",
    " ...\n",
    " ]\n",
    "```\n",
    "\n",
    "The carrier code in the `airlines.csv` file is provided in the 4th (1-based) column\n",
    "\n",
    "Note that the file `airlines.csv` does not have column header. Hence, you need to print one line of your dataset to see what names Spark gave to the columns. Use the name provided by Spark in your query."
   ]
  },
  {
   "cell_type": "code",
   "execution_count": 70,
   "id": "30cea22b",
   "metadata": {},
   "outputs": [
    {
     "name": "stdout",
     "output_type": "stream",
     "text": [
      "6161\n",
      "[Row(_c0=1, _c1='Private flight', _c2='\\\\N', _c3='-', _c4='N/A', _c5=None, _c6=None, _c7='Y'), Row(_c0=2, _c1='135 Airways', _c2='\\\\N', _c3=None, _c4='GNL', _c5='GENERAL', _c6='United States', _c7='N')]\n"
     ]
    }
   ],
   "source": [
    "### Write your code here\n",
    "airlines_info = session.read.csv(\"./data/airlines.csv\", header=False, inferSchema=True)\n",
    "print(airlines_info.count())\n",
    "print(airlines_info.head(2))\n",
    "airlines_info.createOrReplaceTempView(\"airlines\")"
   ]
  },
  {
   "cell_type": "code",
   "execution_count": 71,
   "id": "22e3f2ee",
   "metadata": {},
   "outputs": [
    {
     "data": {
      "text/plain": [
       "[Row(_c1='Private flight')]"
      ]
     },
     "execution_count": 71,
     "metadata": {},
     "output_type": "execute_result"
    }
   ],
   "source": [
    "session.sql('select _c1 from airlines').head(1)"
   ]
  },
  {
   "cell_type": "code",
   "execution_count": 72,
   "id": "87babc30",
   "metadata": {},
   "outputs": [
    {
     "data": {
      "text/plain": [
       "[Row(_c3='-'), Row(_c3=None), Row(_c3='1T'), Row(_c3=None), Row(_c3=None)]"
      ]
     },
     "execution_count": 72,
     "metadata": {},
     "output_type": "execute_result"
    }
   ],
   "source": [
    "session.sql(\"\"\"\n",
    "SELECT _c3\n",
    "FROM airlines;\n",
    "\"\"\").head(5)"
   ]
  },
  {
   "cell_type": "code",
   "execution_count": 73,
   "id": "06102415",
   "metadata": {},
   "outputs": [],
   "source": [
    "flight_delays_fullName = session.sql(\"\"\"\n",
    "SELECT UniqueCarrier, first(_c1), COUNT(*)\n",
    "FROM Flights FF\n",
    "INNER JOIN airlines AA\n",
    "on FF.UniqueCarrier = AA._c3\n",
    "WHERE DepTime > CRSDepTime\n",
    "GROUP BY UniqueCarrier;\n",
    "\"\"\")"
   ]
  },
  {
   "cell_type": "markdown",
   "id": "f1f4c50c",
   "metadata": {},
   "source": [
    "<h1 style=\"color: green\">Flight Delays per Airline</h1>"
   ]
  },
  {
   "cell_type": "code",
   "execution_count": 74,
   "id": "3540ecb0",
   "metadata": {},
   "outputs": [
    {
     "data": {
      "text/plain": [
       "[Row(UniqueCarrier='AA', first(_c1)='American Airlines', count(1)=23461),\n",
       " Row(UniqueCarrier='AS', first(_c1)='Alaska Airlines', count(1)=4488),\n",
       " Row(UniqueCarrier='B6', first(_c1)='JetBlue Airways', count(1)=9396),\n",
       " Row(UniqueCarrier='DL', first(_c1)='Delta Air Lines', count(1)=24334),\n",
       " Row(UniqueCarrier='EV', first(_c1)='Atlantic Southeast Airlines', count(1)=11596),\n",
       " Row(UniqueCarrier='F9', first(_c1)='Frontier Airlines', count(1)=2988),\n",
       " Row(UniqueCarrier='HA', first(_c1)='Hawaiian Airlines', count(1)=1939),\n",
       " Row(UniqueCarrier='NK', first(_c1)='Spirit Airlines', count(1)=4151),\n",
       " Row(UniqueCarrier='OO', first(_c1)='SkyWest', count(1)=16751),\n",
       " Row(UniqueCarrier='UA', first(_c1)='United Airlines', count(1)=17701),\n",
       " Row(UniqueCarrier='VX', first(_c1)='Virgin America', count(1)=2648),\n",
       " Row(UniqueCarrier='WN', first(_c1)='Southwest Airlines', count(1)=47472)]"
      ]
     },
     "execution_count": 74,
     "metadata": {},
     "output_type": "execute_result"
    }
   ],
   "source": [
    "flight_delays_fullName.head(20)"
   ]
  },
  {
   "cell_type": "markdown",
   "id": "4e0123a8",
   "metadata": {},
   "source": [
    "### Q23\n",
    "\n",
    "Compute the number of delays per company per day. The day is encoded as an integer in the column `DayOfWeek` in `fight_info`. You can display the day as an integer or map it into a string name of the week.\n",
    "Sort the data by airline code (UniqueCarrier) and by increasing values of DayOfWeek\n",
    "\n",
    "\n",
    "You results should look like the following\n",
    "\n"
   ]
  },
  {
   "cell_type": "code",
   "execution_count": 75,
   "id": "f9971baa",
   "metadata": {},
   "outputs": [
    {
     "data": {
      "text/plain": [
       "[Row(UniqueCarrier='AA', DayOfWeek=1, count(1)=4639),\n",
       " Row(UniqueCarrier='AA', DayOfWeek=2, count(1)=3288),\n",
       " Row(UniqueCarrier='AA', DayOfWeek=3, count(1)=2570),\n",
       " Row(UniqueCarrier='AA', DayOfWeek=4, count(1)=3142),\n",
       " Row(UniqueCarrier='AA', DayOfWeek=5, count(1)=3108),\n",
       " Row(UniqueCarrier='AA', DayOfWeek=6, count(1)=2509),\n",
       " Row(UniqueCarrier='AA', DayOfWeek=7, count(1)=4205),\n",
       " Row(UniqueCarrier='AS', DayOfWeek=1, count(1)=786),\n",
       " Row(UniqueCarrier='AS', DayOfWeek=2, count(1)=580),\n",
       " Row(UniqueCarrier='AS', DayOfWeek=3, count(1)=573),\n",
       " Row(UniqueCarrier='AS', DayOfWeek=4, count(1)=656),\n",
       " Row(UniqueCarrier='AS', DayOfWeek=5, count(1)=554),\n",
       " Row(UniqueCarrier='AS', DayOfWeek=6, count(1)=470),\n",
       " Row(UniqueCarrier='AS', DayOfWeek=7, count(1)=869),\n",
       " Row(UniqueCarrier='B6', DayOfWeek=1, count(1)=1754),\n",
       " Row(UniqueCarrier='B6', DayOfWeek=2, count(1)=1628),\n",
       " Row(UniqueCarrier='B6', DayOfWeek=3, count(1)=1109),\n",
       " Row(UniqueCarrier='B6', DayOfWeek=4, count(1)=1101),\n",
       " Row(UniqueCarrier='B6', DayOfWeek=5, count(1)=1175),\n",
       " Row(UniqueCarrier='B6', DayOfWeek=6, count(1)=900),\n",
       " Row(UniqueCarrier='B6', DayOfWeek=7, count(1)=1729),\n",
       " Row(UniqueCarrier='DL', DayOfWeek=1, count(1)=5573),\n",
       " Row(UniqueCarrier='DL', DayOfWeek=2, count(1)=3231),\n",
       " Row(UniqueCarrier='DL', DayOfWeek=3, count(1)=2390),\n",
       " Row(UniqueCarrier='DL', DayOfWeek=4, count(1)=2964),\n",
       " Row(UniqueCarrier='DL', DayOfWeek=5, count(1)=3002),\n",
       " Row(UniqueCarrier='DL', DayOfWeek=6, count(1)=2674),\n",
       " Row(UniqueCarrier='DL', DayOfWeek=7, count(1)=4500),\n",
       " Row(UniqueCarrier='EV', DayOfWeek=1, count(1)=2520),\n",
       " Row(UniqueCarrier='EV', DayOfWeek=2, count(1)=1921)]"
      ]
     },
     "execution_count": 75,
     "metadata": {},
     "output_type": "execute_result"
    }
   ],
   "source": [
    "### Write your code here\n",
    "session.sql(\"\"\"\n",
    "SELECT UniqueCarrier, DayOfWeek, COUNT(*)\n",
    "FROM Flights\n",
    "WHERE DepTime > CRSDepTime\n",
    "GROUP BY UniqueCarrier, DayOfWeek\n",
    "ORDER BY UniqueCarrier, DayOfWeek ASC;\n",
    "\"\"\").head(30)"
   ]
  },
  {
   "cell_type": "markdown",
   "id": "4c955760",
   "metadata": {},
   "source": [
    "### Q24  \n",
    "\n",
    "Counting the number of delayed flights per airline is misleading, as airlines with more flights are more likley to have delays than companies with substantially fiewer flights. \n",
    "\n",
    "Repeat the same query above but, for each carrier, normalize the counts of delays by the total number of flights for that carrier. \n"
   ]
  },
  {
   "cell_type": "code",
   "execution_count": 76,
   "id": "13ae9b5e",
   "metadata": {},
   "outputs": [],
   "source": [
    "### Write your code here\n",
    "Counts = session.sql(\"\"\"\n",
    "SELECT UniqueCarrier, first(_c1), COUNT(*)\n",
    "FROM Flights\n",
    "INNER JOIN airlines\n",
    "on Flights.UniqueCarrier = airlines._c3\n",
    "WHERE DepTime > CRSDepTime\n",
    "GROUP BY UniqueCarrier;\n",
    "\"\"\")\n",
    "\n",
    "Totals = session.sql(\"\"\"\n",
    "SELECT UniqueCarrier, COUNT(*) \n",
    "FROM Flights\n",
    "GROUP BY UniqueCarrier;\n",
    "\"\"\")"
   ]
  },
  {
   "cell_type": "code",
   "execution_count": 77,
   "id": "607b369b",
   "metadata": {},
   "outputs": [
    {
     "data": {
      "text/plain": [
       "[Row(UniqueCarrier='AA', first(_c1)='American Airlines', count(1)=23461),\n",
       " Row(UniqueCarrier='AS', first(_c1)='Alaska Airlines', count(1)=4488),\n",
       " Row(UniqueCarrier='B6', first(_c1)='JetBlue Airways', count(1)=9396)]"
      ]
     },
     "execution_count": 77,
     "metadata": {},
     "output_type": "execute_result"
    }
   ],
   "source": [
    "Counts.take(3)"
   ]
  },
  {
   "cell_type": "code",
   "execution_count": 78,
   "id": "e3784125",
   "metadata": {},
   "outputs": [
    {
     "data": {
      "text/plain": [
       "[Row(UniqueCarrier='AA', count(1)=73132),\n",
       " Row(UniqueCarrier='EV', count(1)=35037),\n",
       " Row(UniqueCarrier='B6', count(1)=24602)]"
      ]
     },
     "execution_count": 78,
     "metadata": {},
     "output_type": "execute_result"
    }
   ],
   "source": [
    "Totals.take(3)"
   ]
  },
  {
   "cell_type": "code",
   "execution_count": 79,
   "id": "2740a874",
   "metadata": {},
   "outputs": [
    {
     "data": {
      "text/plain": [
       "[Row(UniqueCarrier='AA', first(_c1)='American Airlines', count(1)=23461)]"
      ]
     },
     "execution_count": 79,
     "metadata": {},
     "output_type": "execute_result"
    }
   ],
   "source": [
    "Counts.createOrReplaceTempView(\"counts\")\n",
    "Totals.createOrReplaceTempView(\"totals\")\n",
    "session.sql('select * from counts').head(1)"
   ]
  },
  {
   "cell_type": "code",
   "execution_count": 80,
   "id": "21882955",
   "metadata": {},
   "outputs": [
    {
     "data": {
      "text/plain": [
       "[Row(UniqueCarrier='AA', norm=0.32),\n",
       " Row(UniqueCarrier='EV', norm=0.33),\n",
       " Row(UniqueCarrier='B6', norm=0.38),\n",
       " Row(UniqueCarrier='DL', norm=0.35),\n",
       " Row(UniqueCarrier='UA', norm=0.42),\n",
       " Row(UniqueCarrier='NK', norm=0.33),\n",
       " Row(UniqueCarrier='OO', norm=0.33),\n",
       " Row(UniqueCarrier='F9', norm=0.39),\n",
       " Row(UniqueCarrier='HA', norm=0.31),\n",
       " Row(UniqueCarrier='WN', norm=0.44)]"
      ]
     },
     "execution_count": 80,
     "metadata": {},
     "output_type": "execute_result"
    }
   ],
   "source": [
    "norms = session.sql(\"\"\"\n",
    "SELECT c.UniqueCarrier, ROUND(c.`count(1)` / t.`count(1)`,2) AS norm\n",
    "FROM counts c\n",
    "INNER JOIN totals t\n",
    "on c.UniqueCarrier = t.UniqueCarrier;\n",
    "\"\"\")\n",
    "norms.head(10)"
   ]
  },
  {
   "cell_type": "code",
   "execution_count": 81,
   "id": "c028ed64",
   "metadata": {},
   "outputs": [
    {
     "data": {
      "text/plain": [
       "[Row(UniqueCarrier='AA', first(_c1)='American Airlines', count(1)=23461),\n",
       " Row(UniqueCarrier='AS', first(_c1)='Alaska Airlines', count(1)=4488),\n",
       " Row(UniqueCarrier='B6', first(_c1)='JetBlue Airways', count(1)=9396),\n",
       " Row(UniqueCarrier='DL', first(_c1)='Delta Air Lines', count(1)=24334),\n",
       " Row(UniqueCarrier='EV', first(_c1)='Atlantic Southeast Airlines', count(1)=11596),\n",
       " Row(UniqueCarrier='F9', first(_c1)='Frontier Airlines', count(1)=2988),\n",
       " Row(UniqueCarrier='HA', first(_c1)='Hawaiian Airlines', count(1)=1939),\n",
       " Row(UniqueCarrier='NK', first(_c1)='Spirit Airlines', count(1)=4151),\n",
       " Row(UniqueCarrier='OO', first(_c1)='SkyWest', count(1)=16751),\n",
       " Row(UniqueCarrier='UA', first(_c1)='United Airlines', count(1)=17701),\n",
       " Row(UniqueCarrier='VX', first(_c1)='Virgin America', count(1)=2648),\n",
       " Row(UniqueCarrier='WN', first(_c1)='Southwest Airlines', count(1)=47472)]"
      ]
     },
     "execution_count": 81,
     "metadata": {},
     "output_type": "execute_result"
    }
   ],
   "source": [
    "original = session.sql(\"\"\"\n",
    "SELECT UniqueCarrier, first(_c1), COUNT(*)\n",
    "FROM Flights FF\n",
    "INNER JOIN airlines AA\n",
    "on FF.UniqueCarrier = AA._c3\n",
    "WHERE DepTime > CRSDepTime\n",
    "GROUP BY UniqueCarrier;\n",
    "\"\"\")\n",
    "original.head(20)"
   ]
  },
  {
   "cell_type": "code",
   "execution_count": 82,
   "id": "f23af98b",
   "metadata": {},
   "outputs": [],
   "source": [
    "norms.createOrReplaceTempView(\"norms\")\n",
    "original.createOrReplaceTempView(\"original\")"
   ]
  },
  {
   "cell_type": "markdown",
   "id": "4ace5309",
   "metadata": {},
   "source": [
    "<h1 style=\"color: green\">Flight Delays per Airline normalized</h1>"
   ]
  },
  {
   "cell_type": "code",
   "execution_count": 83,
   "id": "e0bc3fcc",
   "metadata": {},
   "outputs": [
    {
     "data": {
      "text/plain": [
       "[Row(UniqueCarrier='AA', first(_c1)='American Airlines', norm=0.32),\n",
       " Row(UniqueCarrier='EV', first(_c1)='Atlantic Southeast Airlines', norm=0.33),\n",
       " Row(UniqueCarrier='B6', first(_c1)='JetBlue Airways', norm=0.38),\n",
       " Row(UniqueCarrier='DL', first(_c1)='Delta Air Lines', norm=0.35),\n",
       " Row(UniqueCarrier='UA', first(_c1)='United Airlines', norm=0.42),\n",
       " Row(UniqueCarrier='NK', first(_c1)='Spirit Airlines', norm=0.33),\n",
       " Row(UniqueCarrier='OO', first(_c1)='SkyWest', norm=0.33),\n",
       " Row(UniqueCarrier='F9', first(_c1)='Frontier Airlines', norm=0.39),\n",
       " Row(UniqueCarrier='HA', first(_c1)='Hawaiian Airlines', norm=0.31),\n",
       " Row(UniqueCarrier='WN', first(_c1)='Southwest Airlines', norm=0.44),\n",
       " Row(UniqueCarrier='AS', first(_c1)='Alaska Airlines', norm=0.31),\n",
       " Row(UniqueCarrier='VX', first(_c1)='Virgin America', norm=0.46)]"
      ]
     },
     "execution_count": 83,
     "metadata": {},
     "output_type": "execute_result"
    }
   ],
   "source": [
    "session.sql(\"\"\"\n",
    "SELECT o.UniqueCarrier, o.`first(_c1)`, n.norm \n",
    "FROM original o\n",
    "INNER JOIN norms n\n",
    "on o.UniqueCarrier = n.UniqueCarrier\n",
    "\"\"\").head(20)"
   ]
  },
  {
   "cell_type": "markdown",
   "id": "5b73b3e4",
   "metadata": {},
   "source": [
    "### Q25 \n",
    "\n",
    "Time the query above. How long did it take to run. \n",
    "  * Make sure you run the code a few times and compute the average run time.\n",
    "  * The above should be easy to implement if you use the correct Jupyter Notebook `magic` function\n",
    "  "
   ]
  },
  {
   "cell_type": "code",
   "execution_count": 84,
   "id": "7df43da8",
   "metadata": {},
   "outputs": [
    {
     "name": "stdout",
     "output_type": "stream",
     "text": [
      "11.4 ms ± 286 µs per loop (mean ± std. dev. of 10 runs, 10 loops each)\n"
     ]
    },
    {
     "data": {
      "text/plain": [
       "[Row(UniqueCarrier='AA', first(_c1)='American Airlines', norm=0.32),\n",
       " Row(UniqueCarrier='EV', first(_c1)='Atlantic Southeast Airlines', norm=0.33),\n",
       " Row(UniqueCarrier='B6', first(_c1)='JetBlue Airways', norm=0.38),\n",
       " Row(UniqueCarrier='DL', first(_c1)='Delta Air Lines', norm=0.35),\n",
       " Row(UniqueCarrier='UA', first(_c1)='United Airlines', norm=0.42),\n",
       " Row(UniqueCarrier='NK', first(_c1)='Spirit Airlines', norm=0.33),\n",
       " Row(UniqueCarrier='OO', first(_c1)='SkyWest', norm=0.33),\n",
       " Row(UniqueCarrier='F9', first(_c1)='Frontier Airlines', norm=0.39),\n",
       " Row(UniqueCarrier='HA', first(_c1)='Hawaiian Airlines', norm=0.31),\n",
       " Row(UniqueCarrier='WN', first(_c1)='Southwest Airlines', norm=0.44),\n",
       " Row(UniqueCarrier='AS', first(_c1)='Alaska Airlines', norm=0.31),\n",
       " Row(UniqueCarrier='VX', first(_c1)='Virgin America', norm=0.46)]"
      ]
     },
     "execution_count": 84,
     "metadata": {},
     "output_type": "execute_result"
    }
   ],
   "source": [
    "%timeit -n10 -r10 -o sum(range(1000000))\n",
    "### Write your code here\n",
    "session.sql(\"\"\"\n",
    "SELECT o.UniqueCarrier, o.`first(_c1)`, n.norm \n",
    "FROM original o\n",
    "INNER JOIN norms n\n",
    "on o.UniqueCarrier = n.UniqueCarrier\n",
    "\"\"\").head(20)"
   ]
  },
  {
   "cell_type": "markdown",
   "id": "604e85e0",
   "metadata": {},
   "source": [
    "### Q26 \n",
    "\n",
    "Use one of the techniques covered in class to accelerate this query. Time your query to see by how much the run time was improved"
   ]
  },
  {
   "cell_type": "markdown",
   "id": "d4953f56",
   "metadata": {},
   "source": [
    "# Caching the tables for SPEED"
   ]
  },
  {
   "cell_type": "code",
   "execution_count": 85,
   "id": "2e951d64",
   "metadata": {},
   "outputs": [
    {
     "data": {
      "text/plain": [
       "[]"
      ]
     },
     "execution_count": 85,
     "metadata": {},
     "output_type": "execute_result"
    }
   ],
   "source": [
    "### Write your code here\n",
    "session.sql(\"\"\"\n",
    "UNCACHE TABLE original\n",
    "\"\"\").collect()\n",
    "\n",
    "session.sql(\"\"\"\n",
    "UNCACHE TABLE Flights\n",
    "\"\"\").collect()\n",
    "\n",
    "session.sql(\"\"\"\n",
    "UNCACHE TABLE airlines\n",
    "\"\"\").collect()\n",
    "\n",
    "session.sql(\"\"\"\n",
    "UNCACHE TABLE norms\n",
    "\"\"\").collect()"
   ]
  },
  {
   "cell_type": "code",
   "execution_count": 86,
   "id": "612bff0a",
   "metadata": {},
   "outputs": [
    {
     "name": "stdout",
     "output_type": "stream",
     "text": [
      "13.8 ms ± 284 µs per loop (mean ± std. dev. of 10 runs, 10 loops each)\n"
     ]
    },
    {
     "data": {
      "text/plain": [
       "<bound method DataFrame.collect of DataFrame[UniqueCarrier: string, first(_c1): string, norm: double]>"
      ]
     },
     "execution_count": 86,
     "metadata": {},
     "output_type": "execute_result"
    }
   ],
   "source": [
    "%timeit -n10 -r10 -o sum(range(1000000))\n",
    "session.sql(\"\"\"\n",
    "SELECT o.UniqueCarrier, o.`first(_c1)`, n.norm \n",
    "FROM original o\n",
    "INNER JOIN norms n\n",
    "on o.UniqueCarrier = n.UniqueCarrier;\n",
    "\"\"\").collect"
   ]
  },
  {
   "cell_type": "code",
   "execution_count": 87,
   "id": "7d105508",
   "metadata": {},
   "outputs": [
    {
     "name": "stderr",
     "output_type": "stream",
     "text": [
      "\r",
      "[Stage 402:=====>                                                  (1 + 9) / 10]\r",
      "\r",
      "                                                                                \r"
     ]
    },
    {
     "data": {
      "text/plain": [
       "[]"
      ]
     },
     "execution_count": 87,
     "metadata": {},
     "output_type": "execute_result"
    }
   ],
   "source": [
    "### Write your code here\n",
    "session.sql(\"\"\"\n",
    "CACHE TABLE original\n",
    "\"\"\").collect()\n",
    "\n",
    "session.sql(\"\"\"\n",
    "CACHE TABLE Flights\n",
    "\"\"\").collect()\n",
    "\n",
    "session.sql(\"\"\"\n",
    "CACHE TABLE airlines\n",
    "\"\"\").collect()\n",
    "\n",
    "session.sql(\"\"\"\n",
    "CACHE TABLE norms\n",
    "\"\"\").collect()"
   ]
  },
  {
   "cell_type": "code",
   "execution_count": 88,
   "id": "66e733f8",
   "metadata": {},
   "outputs": [
    {
     "name": "stdout",
     "output_type": "stream",
     "text": [
      "11.1 ms ± 216 µs per loop (mean ± std. dev. of 10 runs, 10 loops each)\n"
     ]
    },
    {
     "data": {
      "text/plain": [
       "<bound method DataFrame.collect of DataFrame[UniqueCarrier: string, first(_c1): string, norm: double]>"
      ]
     },
     "execution_count": 88,
     "metadata": {},
     "output_type": "execute_result"
    }
   ],
   "source": [
    "%timeit -n10 -r10 -o sum(range(1000000))\n",
    "session.sql(\"\"\"\n",
    "SELECT o.UniqueCarrier, o.`first(_c1)`, n.norm \n",
    "FROM original o\n",
    "INNER JOIN norms n\n",
    "on o.UniqueCarrier = n.UniqueCarrier;\n",
    "\"\"\").collect"
   ]
  },
  {
   "cell_type": "markdown",
   "id": "8a87a433",
   "metadata": {},
   "source": [
    "### Q27 \n",
    "\n",
    "Is the departure delay (i.e., DepTime - CRSDepTime) predictive of the arrival delay (ArrTime > CRSArrTime)?\n",
    "Use an approach of your choice (e.g. `skelearn` which we covered in class or `Spark`) to model as a linear regression the arrival delay as a function of the departure delay. \n",
    "\n"
   ]
  },
  {
   "cell_type": "code",
   "execution_count": 89,
   "id": "f8dbd52d",
   "metadata": {},
   "outputs": [
    {
     "data": {
      "text/plain": [
       "[Row((DepTime - CRSDepTime)=-3.0),\n",
       " Row((DepTime - CRSDepTime)=-5.0),\n",
       " Row((DepTime - CRSDepTime)=-8.0),\n",
       " Row((DepTime - CRSDepTime)=37.0),\n",
       " Row((DepTime - CRSDepTime)=13.0),\n",
       " Row((DepTime - CRSDepTime)=17.0),\n",
       " Row((DepTime - CRSDepTime)=-3.0),\n",
       " Row((DepTime - CRSDepTime)=0.0),\n",
       " Row((DepTime - CRSDepTime)=-3.0),\n",
       " Row((DepTime - CRSDepTime)=-1.0)]"
      ]
     },
     "execution_count": 89,
     "metadata": {},
     "output_type": "execute_result"
    }
   ],
   "source": [
    "### Write your code here\n",
    "difference = session.sql(\"\"\"\n",
    "SELECT DepTime - CRSDepTime\n",
    "FROM Flights\n",
    "\"\"\")\n",
    "difference.head(10)\n",
    "\n",
    "# WHERE DepTime > CRSDepTime;"
   ]
  },
  {
   "cell_type": "code",
   "execution_count": 90,
   "id": "e3751fba",
   "metadata": {},
   "outputs": [
    {
     "data": {
      "text/plain": [
       "450017"
      ]
     },
     "execution_count": 90,
     "metadata": {},
     "output_type": "execute_result"
    }
   ],
   "source": [
    "difference.count()"
   ]
  },
  {
   "cell_type": "code",
   "execution_count": 91,
   "id": "f54ea554",
   "metadata": {},
   "outputs": [
    {
     "data": {
      "text/plain": [
       "[Row((ArrTime > CRSArrTime)=False),\n",
       " Row((ArrTime > CRSArrTime)=False),\n",
       " Row((ArrTime > CRSArrTime)=False),\n",
       " Row((ArrTime > CRSArrTime)=True),\n",
       " Row((ArrTime > CRSArrTime)=True),\n",
       " Row((ArrTime > CRSArrTime)=True),\n",
       " Row((ArrTime > CRSArrTime)=True),\n",
       " Row((ArrTime > CRSArrTime)=True),\n",
       " Row((ArrTime > CRSArrTime)=True),\n",
       " Row((ArrTime > CRSArrTime)=True)]"
      ]
     },
     "execution_count": 91,
     "metadata": {},
     "output_type": "execute_result"
    }
   ],
   "source": [
    "arrDelay = session.sql(\"\"\"\n",
    "SELECT ArrTime > CRSArrTime\n",
    "FROM Flights\n",
    "\"\"\")\n",
    "arrDelay.head(10)"
   ]
  },
  {
   "cell_type": "code",
   "execution_count": 92,
   "id": "e0e986c4",
   "metadata": {},
   "outputs": [],
   "source": [
    "X_train = difference.collect()\n",
    "Y_train = arrDelay.collect()"
   ]
  },
  {
   "cell_type": "code",
   "execution_count": 93,
   "id": "a4e42fc1",
   "metadata": {},
   "outputs": [
    {
     "data": {
      "text/plain": [
       "list"
      ]
     },
     "execution_count": 93,
     "metadata": {},
     "output_type": "execute_result"
    }
   ],
   "source": [
    "type(X_train)"
   ]
  },
  {
   "cell_type": "code",
   "execution_count": 94,
   "id": "03119a96",
   "metadata": {},
   "outputs": [],
   "source": [
    "z_train = []"
   ]
  },
  {
   "cell_type": "code",
   "execution_count": 95,
   "id": "71fad02d",
   "metadata": {},
   "outputs": [],
   "source": [
    "for item in X_train:\n",
    "    z_train.append(item[0])"
   ]
  },
  {
   "cell_type": "code",
   "execution_count": 96,
   "id": "a3188643",
   "metadata": {},
   "outputs": [
    {
     "data": {
      "text/plain": [
       "450017"
      ]
     },
     "execution_count": 96,
     "metadata": {},
     "output_type": "execute_result"
    }
   ],
   "source": [
    "len(z_train)"
   ]
  },
  {
   "cell_type": "code",
   "execution_count": 97,
   "id": "8f17b116",
   "metadata": {},
   "outputs": [],
   "source": [
    "x_train = [x for x in z_train if x != None]"
   ]
  },
  {
   "cell_type": "code",
   "execution_count": 98,
   "id": "9a56d3da",
   "metadata": {},
   "outputs": [],
   "source": [
    "p_train = [x for x in z_train if x == \"NaN\"]"
   ]
  },
  {
   "cell_type": "code",
   "execution_count": 99,
   "id": "e492ea12",
   "metadata": {},
   "outputs": [
    {
     "data": {
      "text/plain": [
       "[]"
      ]
     },
     "execution_count": 99,
     "metadata": {},
     "output_type": "execute_result"
    }
   ],
   "source": [
    "p_train"
   ]
  },
  {
   "cell_type": "code",
   "execution_count": 100,
   "id": "6c3f8486",
   "metadata": {},
   "outputs": [],
   "source": [
    "toKeep = [x for x, y in enumerate(z_train) if y != None]"
   ]
  },
  {
   "cell_type": "code",
   "execution_count": 101,
   "id": "ab9d3a39",
   "metadata": {},
   "outputs": [
    {
     "data": {
      "text/plain": [
       "441476"
      ]
     },
     "execution_count": 101,
     "metadata": {},
     "output_type": "execute_result"
    }
   ],
   "source": [
    "len(x_train)"
   ]
  },
  {
   "cell_type": "code",
   "execution_count": 102,
   "id": "4bf166b3",
   "metadata": {},
   "outputs": [
    {
     "data": {
      "text/plain": [
       "441476"
      ]
     },
     "execution_count": 102,
     "metadata": {},
     "output_type": "execute_result"
    }
   ],
   "source": [
    "len(toKeep)"
   ]
  },
  {
   "cell_type": "code",
   "execution_count": 103,
   "id": "d14480eb",
   "metadata": {},
   "outputs": [],
   "source": [
    "x_train = np.array(x_train)"
   ]
  },
  {
   "cell_type": "code",
   "execution_count": 104,
   "id": "cb3a86e0",
   "metadata": {},
   "outputs": [],
   "source": [
    "x_train = x_train.reshape(-1, 1)"
   ]
  },
  {
   "cell_type": "code",
   "execution_count": 105,
   "id": "58b557a0",
   "metadata": {},
   "outputs": [
    {
     "data": {
      "text/plain": [
       "array([[-3.],\n",
       "       [-5.],\n",
       "       [-8.],\n",
       "       [37.],\n",
       "       [13.],\n",
       "       [17.],\n",
       "       [-3.],\n",
       "       [ 0.],\n",
       "       [-3.],\n",
       "       [-1.]])"
      ]
     },
     "execution_count": 105,
     "metadata": {},
     "output_type": "execute_result"
    }
   ],
   "source": [
    "x_train[:10]"
   ]
  },
  {
   "cell_type": "code",
   "execution_count": 106,
   "id": "2f8689a0",
   "metadata": {},
   "outputs": [
    {
     "data": {
      "text/plain": [
       "441476"
      ]
     },
     "execution_count": 106,
     "metadata": {},
     "output_type": "execute_result"
    }
   ],
   "source": [
    "len(x_train)"
   ]
  },
  {
   "cell_type": "code",
   "execution_count": 107,
   "id": "1a0c3551",
   "metadata": {},
   "outputs": [],
   "source": [
    "all_labels = []"
   ]
  },
  {
   "cell_type": "code",
   "execution_count": 108,
   "id": "6c277364",
   "metadata": {},
   "outputs": [],
   "source": [
    "for item in Y_train:\n",
    "    all_labels.append(item[0])"
   ]
  },
  {
   "cell_type": "code",
   "execution_count": 109,
   "id": "64bf0a3c",
   "metadata": {},
   "outputs": [
    {
     "data": {
      "text/plain": [
       "450017"
      ]
     },
     "execution_count": 109,
     "metadata": {},
     "output_type": "execute_result"
    }
   ],
   "source": [
    "len(all_labels)"
   ]
  },
  {
   "cell_type": "code",
   "execution_count": 110,
   "id": "7f7e41e1",
   "metadata": {},
   "outputs": [],
   "source": [
    "y_train = []"
   ]
  },
  {
   "cell_type": "code",
   "execution_count": 111,
   "id": "96387620",
   "metadata": {},
   "outputs": [],
   "source": [
    "for item in toKeep:\n",
    "    y_train.append(all_labels[item])"
   ]
  },
  {
   "cell_type": "code",
   "execution_count": 112,
   "id": "12fb2048",
   "metadata": {},
   "outputs": [
    {
     "data": {
      "text/plain": [
       "441476"
      ]
     },
     "execution_count": 112,
     "metadata": {},
     "output_type": "execute_result"
    }
   ],
   "source": [
    "len(y_train)"
   ]
  },
  {
   "cell_type": "code",
   "execution_count": 113,
   "id": "5191e403",
   "metadata": {},
   "outputs": [],
   "source": [
    "from sklearn.linear_model import LinearRegression\n",
    "from sklearn.model_selection import train_test_split\n",
    "from matplotlib import pyplot as plt"
   ]
  },
  {
   "cell_type": "code",
   "execution_count": 114,
   "id": "41eedf74",
   "metadata": {},
   "outputs": [],
   "source": [
    "# x_train, x_test, y_train, y_test = train_test_split(x_train, y_train)"
   ]
  },
  {
   "cell_type": "code",
   "execution_count": 115,
   "id": "34328f8e",
   "metadata": {},
   "outputs": [],
   "source": [
    "y_train = np.array(y_train)"
   ]
  },
  {
   "cell_type": "code",
   "execution_count": 116,
   "id": "2f100bdc",
   "metadata": {},
   "outputs": [
    {
     "data": {
      "text/plain": [
       "numpy.ndarray"
      ]
     },
     "execution_count": 116,
     "metadata": {},
     "output_type": "execute_result"
    }
   ],
   "source": [
    "type(x_train)"
   ]
  },
  {
   "cell_type": "code",
   "execution_count": 117,
   "id": "ef8c679b",
   "metadata": {},
   "outputs": [
    {
     "data": {
      "text/plain": [
       "numpy.ndarray"
      ]
     },
     "execution_count": 117,
     "metadata": {},
     "output_type": "execute_result"
    }
   ],
   "source": [
    "type(y_train)"
   ]
  },
  {
   "cell_type": "code",
   "execution_count": 118,
   "id": "127e1343",
   "metadata": {},
   "outputs": [],
   "source": [
    "%matplotlib notebook"
   ]
  },
  {
   "cell_type": "code",
   "execution_count": 119,
   "id": "1e413c87",
   "metadata": {},
   "outputs": [
    {
     "data": {
      "application/javascript": [
       "/* Put everything inside the global mpl namespace */\n",
       "/* global mpl */\n",
       "window.mpl = {};\n",
       "\n",
       "mpl.get_websocket_type = function () {\n",
       "    if (typeof WebSocket !== 'undefined') {\n",
       "        return WebSocket;\n",
       "    } else if (typeof MozWebSocket !== 'undefined') {\n",
       "        return MozWebSocket;\n",
       "    } else {\n",
       "        alert(\n",
       "            'Your browser does not have WebSocket support. ' +\n",
       "                'Please try Chrome, Safari or Firefox ≥ 6. ' +\n",
       "                'Firefox 4 and 5 are also supported but you ' +\n",
       "                'have to enable WebSockets in about:config.'\n",
       "        );\n",
       "    }\n",
       "};\n",
       "\n",
       "mpl.figure = function (figure_id, websocket, ondownload, parent_element) {\n",
       "    this.id = figure_id;\n",
       "\n",
       "    this.ws = websocket;\n",
       "\n",
       "    this.supports_binary = this.ws.binaryType !== undefined;\n",
       "\n",
       "    if (!this.supports_binary) {\n",
       "        var warnings = document.getElementById('mpl-warnings');\n",
       "        if (warnings) {\n",
       "            warnings.style.display = 'block';\n",
       "            warnings.textContent =\n",
       "                'This browser does not support binary websocket messages. ' +\n",
       "                'Performance may be slow.';\n",
       "        }\n",
       "    }\n",
       "\n",
       "    this.imageObj = new Image();\n",
       "\n",
       "    this.context = undefined;\n",
       "    this.message = undefined;\n",
       "    this.canvas = undefined;\n",
       "    this.rubberband_canvas = undefined;\n",
       "    this.rubberband_context = undefined;\n",
       "    this.format_dropdown = undefined;\n",
       "\n",
       "    this.image_mode = 'full';\n",
       "\n",
       "    this.root = document.createElement('div');\n",
       "    this.root.setAttribute('style', 'display: inline-block');\n",
       "    this._root_extra_style(this.root);\n",
       "\n",
       "    parent_element.appendChild(this.root);\n",
       "\n",
       "    this._init_header(this);\n",
       "    this._init_canvas(this);\n",
       "    this._init_toolbar(this);\n",
       "\n",
       "    var fig = this;\n",
       "\n",
       "    this.waiting = false;\n",
       "\n",
       "    this.ws.onopen = function () {\n",
       "        fig.send_message('supports_binary', { value: fig.supports_binary });\n",
       "        fig.send_message('send_image_mode', {});\n",
       "        if (fig.ratio !== 1) {\n",
       "            fig.send_message('set_dpi_ratio', { dpi_ratio: fig.ratio });\n",
       "        }\n",
       "        fig.send_message('refresh', {});\n",
       "    };\n",
       "\n",
       "    this.imageObj.onload = function () {\n",
       "        if (fig.image_mode === 'full') {\n",
       "            // Full images could contain transparency (where diff images\n",
       "            // almost always do), so we need to clear the canvas so that\n",
       "            // there is no ghosting.\n",
       "            fig.context.clearRect(0, 0, fig.canvas.width, fig.canvas.height);\n",
       "        }\n",
       "        fig.context.drawImage(fig.imageObj, 0, 0);\n",
       "    };\n",
       "\n",
       "    this.imageObj.onunload = function () {\n",
       "        fig.ws.close();\n",
       "    };\n",
       "\n",
       "    this.ws.onmessage = this._make_on_message_function(this);\n",
       "\n",
       "    this.ondownload = ondownload;\n",
       "};\n",
       "\n",
       "mpl.figure.prototype._init_header = function () {\n",
       "    var titlebar = document.createElement('div');\n",
       "    titlebar.classList =\n",
       "        'ui-dialog-titlebar ui-widget-header ui-corner-all ui-helper-clearfix';\n",
       "    var titletext = document.createElement('div');\n",
       "    titletext.classList = 'ui-dialog-title';\n",
       "    titletext.setAttribute(\n",
       "        'style',\n",
       "        'width: 100%; text-align: center; padding: 3px;'\n",
       "    );\n",
       "    titlebar.appendChild(titletext);\n",
       "    this.root.appendChild(titlebar);\n",
       "    this.header = titletext;\n",
       "};\n",
       "\n",
       "mpl.figure.prototype._canvas_extra_style = function (_canvas_div) {};\n",
       "\n",
       "mpl.figure.prototype._root_extra_style = function (_canvas_div) {};\n",
       "\n",
       "mpl.figure.prototype._init_canvas = function () {\n",
       "    var fig = this;\n",
       "\n",
       "    var canvas_div = (this.canvas_div = document.createElement('div'));\n",
       "    canvas_div.setAttribute(\n",
       "        'style',\n",
       "        'border: 1px solid #ddd;' +\n",
       "            'box-sizing: content-box;' +\n",
       "            'clear: both;' +\n",
       "            'min-height: 1px;' +\n",
       "            'min-width: 1px;' +\n",
       "            'outline: 0;' +\n",
       "            'overflow: hidden;' +\n",
       "            'position: relative;' +\n",
       "            'resize: both;'\n",
       "    );\n",
       "\n",
       "    function on_keyboard_event_closure(name) {\n",
       "        return function (event) {\n",
       "            return fig.key_event(event, name);\n",
       "        };\n",
       "    }\n",
       "\n",
       "    canvas_div.addEventListener(\n",
       "        'keydown',\n",
       "        on_keyboard_event_closure('key_press')\n",
       "    );\n",
       "    canvas_div.addEventListener(\n",
       "        'keyup',\n",
       "        on_keyboard_event_closure('key_release')\n",
       "    );\n",
       "\n",
       "    this._canvas_extra_style(canvas_div);\n",
       "    this.root.appendChild(canvas_div);\n",
       "\n",
       "    var canvas = (this.canvas = document.createElement('canvas'));\n",
       "    canvas.classList.add('mpl-canvas');\n",
       "    canvas.setAttribute('style', 'box-sizing: content-box;');\n",
       "\n",
       "    this.context = canvas.getContext('2d');\n",
       "\n",
       "    var backingStore =\n",
       "        this.context.backingStorePixelRatio ||\n",
       "        this.context.webkitBackingStorePixelRatio ||\n",
       "        this.context.mozBackingStorePixelRatio ||\n",
       "        this.context.msBackingStorePixelRatio ||\n",
       "        this.context.oBackingStorePixelRatio ||\n",
       "        this.context.backingStorePixelRatio ||\n",
       "        1;\n",
       "\n",
       "    this.ratio = (window.devicePixelRatio || 1) / backingStore;\n",
       "\n",
       "    var rubberband_canvas = (this.rubberband_canvas = document.createElement(\n",
       "        'canvas'\n",
       "    ));\n",
       "    rubberband_canvas.setAttribute(\n",
       "        'style',\n",
       "        'box-sizing: content-box; position: absolute; left: 0; top: 0; z-index: 1;'\n",
       "    );\n",
       "\n",
       "    // Apply a ponyfill if ResizeObserver is not implemented by browser.\n",
       "    if (this.ResizeObserver === undefined) {\n",
       "        if (window.ResizeObserver !== undefined) {\n",
       "            this.ResizeObserver = window.ResizeObserver;\n",
       "        } else {\n",
       "            var obs = _JSXTOOLS_RESIZE_OBSERVER({});\n",
       "            this.ResizeObserver = obs.ResizeObserver;\n",
       "        }\n",
       "    }\n",
       "\n",
       "    this.resizeObserverInstance = new this.ResizeObserver(function (entries) {\n",
       "        var nentries = entries.length;\n",
       "        for (var i = 0; i < nentries; i++) {\n",
       "            var entry = entries[i];\n",
       "            var width, height;\n",
       "            if (entry.contentBoxSize) {\n",
       "                if (entry.contentBoxSize instanceof Array) {\n",
       "                    // Chrome 84 implements new version of spec.\n",
       "                    width = entry.contentBoxSize[0].inlineSize;\n",
       "                    height = entry.contentBoxSize[0].blockSize;\n",
       "                } else {\n",
       "                    // Firefox implements old version of spec.\n",
       "                    width = entry.contentBoxSize.inlineSize;\n",
       "                    height = entry.contentBoxSize.blockSize;\n",
       "                }\n",
       "            } else {\n",
       "                // Chrome <84 implements even older version of spec.\n",
       "                width = entry.contentRect.width;\n",
       "                height = entry.contentRect.height;\n",
       "            }\n",
       "\n",
       "            // Keep the size of the canvas and rubber band canvas in sync with\n",
       "            // the canvas container.\n",
       "            if (entry.devicePixelContentBoxSize) {\n",
       "                // Chrome 84 implements new version of spec.\n",
       "                canvas.setAttribute(\n",
       "                    'width',\n",
       "                    entry.devicePixelContentBoxSize[0].inlineSize\n",
       "                );\n",
       "                canvas.setAttribute(\n",
       "                    'height',\n",
       "                    entry.devicePixelContentBoxSize[0].blockSize\n",
       "                );\n",
       "            } else {\n",
       "                canvas.setAttribute('width', width * fig.ratio);\n",
       "                canvas.setAttribute('height', height * fig.ratio);\n",
       "            }\n",
       "            canvas.setAttribute(\n",
       "                'style',\n",
       "                'width: ' + width + 'px; height: ' + height + 'px;'\n",
       "            );\n",
       "\n",
       "            rubberband_canvas.setAttribute('width', width);\n",
       "            rubberband_canvas.setAttribute('height', height);\n",
       "\n",
       "            // And update the size in Python. We ignore the initial 0/0 size\n",
       "            // that occurs as the element is placed into the DOM, which should\n",
       "            // otherwise not happen due to the minimum size styling.\n",
       "            if (fig.ws.readyState == 1 && width != 0 && height != 0) {\n",
       "                fig.request_resize(width, height);\n",
       "            }\n",
       "        }\n",
       "    });\n",
       "    this.resizeObserverInstance.observe(canvas_div);\n",
       "\n",
       "    function on_mouse_event_closure(name) {\n",
       "        return function (event) {\n",
       "            return fig.mouse_event(event, name);\n",
       "        };\n",
       "    }\n",
       "\n",
       "    rubberband_canvas.addEventListener(\n",
       "        'mousedown',\n",
       "        on_mouse_event_closure('button_press')\n",
       "    );\n",
       "    rubberband_canvas.addEventListener(\n",
       "        'mouseup',\n",
       "        on_mouse_event_closure('button_release')\n",
       "    );\n",
       "    rubberband_canvas.addEventListener(\n",
       "        'dblclick',\n",
       "        on_mouse_event_closure('dblclick')\n",
       "    );\n",
       "    // Throttle sequential mouse events to 1 every 20ms.\n",
       "    rubberband_canvas.addEventListener(\n",
       "        'mousemove',\n",
       "        on_mouse_event_closure('motion_notify')\n",
       "    );\n",
       "\n",
       "    rubberband_canvas.addEventListener(\n",
       "        'mouseenter',\n",
       "        on_mouse_event_closure('figure_enter')\n",
       "    );\n",
       "    rubberband_canvas.addEventListener(\n",
       "        'mouseleave',\n",
       "        on_mouse_event_closure('figure_leave')\n",
       "    );\n",
       "\n",
       "    canvas_div.addEventListener('wheel', function (event) {\n",
       "        if (event.deltaY < 0) {\n",
       "            event.step = 1;\n",
       "        } else {\n",
       "            event.step = -1;\n",
       "        }\n",
       "        on_mouse_event_closure('scroll')(event);\n",
       "    });\n",
       "\n",
       "    canvas_div.appendChild(canvas);\n",
       "    canvas_div.appendChild(rubberband_canvas);\n",
       "\n",
       "    this.rubberband_context = rubberband_canvas.getContext('2d');\n",
       "    this.rubberband_context.strokeStyle = '#000000';\n",
       "\n",
       "    this._resize_canvas = function (width, height, forward) {\n",
       "        if (forward) {\n",
       "            canvas_div.style.width = width + 'px';\n",
       "            canvas_div.style.height = height + 'px';\n",
       "        }\n",
       "    };\n",
       "\n",
       "    // Disable right mouse context menu.\n",
       "    this.rubberband_canvas.addEventListener('contextmenu', function (_e) {\n",
       "        event.preventDefault();\n",
       "        return false;\n",
       "    });\n",
       "\n",
       "    function set_focus() {\n",
       "        canvas.focus();\n",
       "        canvas_div.focus();\n",
       "    }\n",
       "\n",
       "    window.setTimeout(set_focus, 100);\n",
       "};\n",
       "\n",
       "mpl.figure.prototype._init_toolbar = function () {\n",
       "    var fig = this;\n",
       "\n",
       "    var toolbar = document.createElement('div');\n",
       "    toolbar.classList = 'mpl-toolbar';\n",
       "    this.root.appendChild(toolbar);\n",
       "\n",
       "    function on_click_closure(name) {\n",
       "        return function (_event) {\n",
       "            return fig.toolbar_button_onclick(name);\n",
       "        };\n",
       "    }\n",
       "\n",
       "    function on_mouseover_closure(tooltip) {\n",
       "        return function (event) {\n",
       "            if (!event.currentTarget.disabled) {\n",
       "                return fig.toolbar_button_onmouseover(tooltip);\n",
       "            }\n",
       "        };\n",
       "    }\n",
       "\n",
       "    fig.buttons = {};\n",
       "    var buttonGroup = document.createElement('div');\n",
       "    buttonGroup.classList = 'mpl-button-group';\n",
       "    for (var toolbar_ind in mpl.toolbar_items) {\n",
       "        var name = mpl.toolbar_items[toolbar_ind][0];\n",
       "        var tooltip = mpl.toolbar_items[toolbar_ind][1];\n",
       "        var image = mpl.toolbar_items[toolbar_ind][2];\n",
       "        var method_name = mpl.toolbar_items[toolbar_ind][3];\n",
       "\n",
       "        if (!name) {\n",
       "            /* Instead of a spacer, we start a new button group. */\n",
       "            if (buttonGroup.hasChildNodes()) {\n",
       "                toolbar.appendChild(buttonGroup);\n",
       "            }\n",
       "            buttonGroup = document.createElement('div');\n",
       "            buttonGroup.classList = 'mpl-button-group';\n",
       "            continue;\n",
       "        }\n",
       "\n",
       "        var button = (fig.buttons[name] = document.createElement('button'));\n",
       "        button.classList = 'mpl-widget';\n",
       "        button.setAttribute('role', 'button');\n",
       "        button.setAttribute('aria-disabled', 'false');\n",
       "        button.addEventListener('click', on_click_closure(method_name));\n",
       "        button.addEventListener('mouseover', on_mouseover_closure(tooltip));\n",
       "\n",
       "        var icon_img = document.createElement('img');\n",
       "        icon_img.src = '_images/' + image + '.png';\n",
       "        icon_img.srcset = '_images/' + image + '_large.png 2x';\n",
       "        icon_img.alt = tooltip;\n",
       "        button.appendChild(icon_img);\n",
       "\n",
       "        buttonGroup.appendChild(button);\n",
       "    }\n",
       "\n",
       "    if (buttonGroup.hasChildNodes()) {\n",
       "        toolbar.appendChild(buttonGroup);\n",
       "    }\n",
       "\n",
       "    var fmt_picker = document.createElement('select');\n",
       "    fmt_picker.classList = 'mpl-widget';\n",
       "    toolbar.appendChild(fmt_picker);\n",
       "    this.format_dropdown = fmt_picker;\n",
       "\n",
       "    for (var ind in mpl.extensions) {\n",
       "        var fmt = mpl.extensions[ind];\n",
       "        var option = document.createElement('option');\n",
       "        option.selected = fmt === mpl.default_extension;\n",
       "        option.innerHTML = fmt;\n",
       "        fmt_picker.appendChild(option);\n",
       "    }\n",
       "\n",
       "    var status_bar = document.createElement('span');\n",
       "    status_bar.classList = 'mpl-message';\n",
       "    toolbar.appendChild(status_bar);\n",
       "    this.message = status_bar;\n",
       "};\n",
       "\n",
       "mpl.figure.prototype.request_resize = function (x_pixels, y_pixels) {\n",
       "    // Request matplotlib to resize the figure. Matplotlib will then trigger a resize in the client,\n",
       "    // which will in turn request a refresh of the image.\n",
       "    this.send_message('resize', { width: x_pixels, height: y_pixels });\n",
       "};\n",
       "\n",
       "mpl.figure.prototype.send_message = function (type, properties) {\n",
       "    properties['type'] = type;\n",
       "    properties['figure_id'] = this.id;\n",
       "    this.ws.send(JSON.stringify(properties));\n",
       "};\n",
       "\n",
       "mpl.figure.prototype.send_draw_message = function () {\n",
       "    if (!this.waiting) {\n",
       "        this.waiting = true;\n",
       "        this.ws.send(JSON.stringify({ type: 'draw', figure_id: this.id }));\n",
       "    }\n",
       "};\n",
       "\n",
       "mpl.figure.prototype.handle_save = function (fig, _msg) {\n",
       "    var format_dropdown = fig.format_dropdown;\n",
       "    var format = format_dropdown.options[format_dropdown.selectedIndex].value;\n",
       "    fig.ondownload(fig, format);\n",
       "};\n",
       "\n",
       "mpl.figure.prototype.handle_resize = function (fig, msg) {\n",
       "    var size = msg['size'];\n",
       "    if (size[0] !== fig.canvas.width || size[1] !== fig.canvas.height) {\n",
       "        fig._resize_canvas(size[0], size[1], msg['forward']);\n",
       "        fig.send_message('refresh', {});\n",
       "    }\n",
       "};\n",
       "\n",
       "mpl.figure.prototype.handle_rubberband = function (fig, msg) {\n",
       "    var x0 = msg['x0'] / fig.ratio;\n",
       "    var y0 = (fig.canvas.height - msg['y0']) / fig.ratio;\n",
       "    var x1 = msg['x1'] / fig.ratio;\n",
       "    var y1 = (fig.canvas.height - msg['y1']) / fig.ratio;\n",
       "    x0 = Math.floor(x0) + 0.5;\n",
       "    y0 = Math.floor(y0) + 0.5;\n",
       "    x1 = Math.floor(x1) + 0.5;\n",
       "    y1 = Math.floor(y1) + 0.5;\n",
       "    var min_x = Math.min(x0, x1);\n",
       "    var min_y = Math.min(y0, y1);\n",
       "    var width = Math.abs(x1 - x0);\n",
       "    var height = Math.abs(y1 - y0);\n",
       "\n",
       "    fig.rubberband_context.clearRect(\n",
       "        0,\n",
       "        0,\n",
       "        fig.canvas.width / fig.ratio,\n",
       "        fig.canvas.height / fig.ratio\n",
       "    );\n",
       "\n",
       "    fig.rubberband_context.strokeRect(min_x, min_y, width, height);\n",
       "};\n",
       "\n",
       "mpl.figure.prototype.handle_figure_label = function (fig, msg) {\n",
       "    // Updates the figure title.\n",
       "    fig.header.textContent = msg['label'];\n",
       "};\n",
       "\n",
       "mpl.figure.prototype.handle_cursor = function (fig, msg) {\n",
       "    var cursor = msg['cursor'];\n",
       "    switch (cursor) {\n",
       "        case 0:\n",
       "            cursor = 'pointer';\n",
       "            break;\n",
       "        case 1:\n",
       "            cursor = 'default';\n",
       "            break;\n",
       "        case 2:\n",
       "            cursor = 'crosshair';\n",
       "            break;\n",
       "        case 3:\n",
       "            cursor = 'move';\n",
       "            break;\n",
       "    }\n",
       "    fig.rubberband_canvas.style.cursor = cursor;\n",
       "};\n",
       "\n",
       "mpl.figure.prototype.handle_message = function (fig, msg) {\n",
       "    fig.message.textContent = msg['message'];\n",
       "};\n",
       "\n",
       "mpl.figure.prototype.handle_draw = function (fig, _msg) {\n",
       "    // Request the server to send over a new figure.\n",
       "    fig.send_draw_message();\n",
       "};\n",
       "\n",
       "mpl.figure.prototype.handle_image_mode = function (fig, msg) {\n",
       "    fig.image_mode = msg['mode'];\n",
       "};\n",
       "\n",
       "mpl.figure.prototype.handle_history_buttons = function (fig, msg) {\n",
       "    for (var key in msg) {\n",
       "        if (!(key in fig.buttons)) {\n",
       "            continue;\n",
       "        }\n",
       "        fig.buttons[key].disabled = !msg[key];\n",
       "        fig.buttons[key].setAttribute('aria-disabled', !msg[key]);\n",
       "    }\n",
       "};\n",
       "\n",
       "mpl.figure.prototype.handle_navigate_mode = function (fig, msg) {\n",
       "    if (msg['mode'] === 'PAN') {\n",
       "        fig.buttons['Pan'].classList.add('active');\n",
       "        fig.buttons['Zoom'].classList.remove('active');\n",
       "    } else if (msg['mode'] === 'ZOOM') {\n",
       "        fig.buttons['Pan'].classList.remove('active');\n",
       "        fig.buttons['Zoom'].classList.add('active');\n",
       "    } else {\n",
       "        fig.buttons['Pan'].classList.remove('active');\n",
       "        fig.buttons['Zoom'].classList.remove('active');\n",
       "    }\n",
       "};\n",
       "\n",
       "mpl.figure.prototype.updated_canvas_event = function () {\n",
       "    // Called whenever the canvas gets updated.\n",
       "    this.send_message('ack', {});\n",
       "};\n",
       "\n",
       "// A function to construct a web socket function for onmessage handling.\n",
       "// Called in the figure constructor.\n",
       "mpl.figure.prototype._make_on_message_function = function (fig) {\n",
       "    return function socket_on_message(evt) {\n",
       "        if (evt.data instanceof Blob) {\n",
       "            var img = evt.data;\n",
       "            if (img.type !== 'image/png') {\n",
       "                /* FIXME: We get \"Resource interpreted as Image but\n",
       "                 * transferred with MIME type text/plain:\" errors on\n",
       "                 * Chrome.  But how to set the MIME type?  It doesn't seem\n",
       "                 * to be part of the websocket stream */\n",
       "                img.type = 'image/png';\n",
       "            }\n",
       "\n",
       "            /* Free the memory for the previous frames */\n",
       "            if (fig.imageObj.src) {\n",
       "                (window.URL || window.webkitURL).revokeObjectURL(\n",
       "                    fig.imageObj.src\n",
       "                );\n",
       "            }\n",
       "\n",
       "            fig.imageObj.src = (window.URL || window.webkitURL).createObjectURL(\n",
       "                img\n",
       "            );\n",
       "            fig.updated_canvas_event();\n",
       "            fig.waiting = false;\n",
       "            return;\n",
       "        } else if (\n",
       "            typeof evt.data === 'string' &&\n",
       "            evt.data.slice(0, 21) === 'data:image/png;base64'\n",
       "        ) {\n",
       "            fig.imageObj.src = evt.data;\n",
       "            fig.updated_canvas_event();\n",
       "            fig.waiting = false;\n",
       "            return;\n",
       "        }\n",
       "\n",
       "        var msg = JSON.parse(evt.data);\n",
       "        var msg_type = msg['type'];\n",
       "\n",
       "        // Call the  \"handle_{type}\" callback, which takes\n",
       "        // the figure and JSON message as its only arguments.\n",
       "        try {\n",
       "            var callback = fig['handle_' + msg_type];\n",
       "        } catch (e) {\n",
       "            console.log(\n",
       "                \"No handler for the '\" + msg_type + \"' message type: \",\n",
       "                msg\n",
       "            );\n",
       "            return;\n",
       "        }\n",
       "\n",
       "        if (callback) {\n",
       "            try {\n",
       "                // console.log(\"Handling '\" + msg_type + \"' message: \", msg);\n",
       "                callback(fig, msg);\n",
       "            } catch (e) {\n",
       "                console.log(\n",
       "                    \"Exception inside the 'handler_\" + msg_type + \"' callback:\",\n",
       "                    e,\n",
       "                    e.stack,\n",
       "                    msg\n",
       "                );\n",
       "            }\n",
       "        }\n",
       "    };\n",
       "};\n",
       "\n",
       "// from http://stackoverflow.com/questions/1114465/getting-mouse-location-in-canvas\n",
       "mpl.findpos = function (e) {\n",
       "    //this section is from http://www.quirksmode.org/js/events_properties.html\n",
       "    var targ;\n",
       "    if (!e) {\n",
       "        e = window.event;\n",
       "    }\n",
       "    if (e.target) {\n",
       "        targ = e.target;\n",
       "    } else if (e.srcElement) {\n",
       "        targ = e.srcElement;\n",
       "    }\n",
       "    if (targ.nodeType === 3) {\n",
       "        // defeat Safari bug\n",
       "        targ = targ.parentNode;\n",
       "    }\n",
       "\n",
       "    // pageX,Y are the mouse positions relative to the document\n",
       "    var boundingRect = targ.getBoundingClientRect();\n",
       "    var x = e.pageX - (boundingRect.left + document.body.scrollLeft);\n",
       "    var y = e.pageY - (boundingRect.top + document.body.scrollTop);\n",
       "\n",
       "    return { x: x, y: y };\n",
       "};\n",
       "\n",
       "/*\n",
       " * return a copy of an object with only non-object keys\n",
       " * we need this to avoid circular references\n",
       " * http://stackoverflow.com/a/24161582/3208463\n",
       " */\n",
       "function simpleKeys(original) {\n",
       "    return Object.keys(original).reduce(function (obj, key) {\n",
       "        if (typeof original[key] !== 'object') {\n",
       "            obj[key] = original[key];\n",
       "        }\n",
       "        return obj;\n",
       "    }, {});\n",
       "}\n",
       "\n",
       "mpl.figure.prototype.mouse_event = function (event, name) {\n",
       "    var canvas_pos = mpl.findpos(event);\n",
       "\n",
       "    if (name === 'button_press') {\n",
       "        this.canvas.focus();\n",
       "        this.canvas_div.focus();\n",
       "    }\n",
       "\n",
       "    var x = canvas_pos.x * this.ratio;\n",
       "    var y = canvas_pos.y * this.ratio;\n",
       "\n",
       "    this.send_message(name, {\n",
       "        x: x,\n",
       "        y: y,\n",
       "        button: event.button,\n",
       "        step: event.step,\n",
       "        guiEvent: simpleKeys(event),\n",
       "    });\n",
       "\n",
       "    /* This prevents the web browser from automatically changing to\n",
       "     * the text insertion cursor when the button is pressed.  We want\n",
       "     * to control all of the cursor setting manually through the\n",
       "     * 'cursor' event from matplotlib */\n",
       "    event.preventDefault();\n",
       "    return false;\n",
       "};\n",
       "\n",
       "mpl.figure.prototype._key_event_extra = function (_event, _name) {\n",
       "    // Handle any extra behaviour associated with a key event\n",
       "};\n",
       "\n",
       "mpl.figure.prototype.key_event = function (event, name) {\n",
       "    // Prevent repeat events\n",
       "    if (name === 'key_press') {\n",
       "        if (event.key === this._key) {\n",
       "            return;\n",
       "        } else {\n",
       "            this._key = event.key;\n",
       "        }\n",
       "    }\n",
       "    if (name === 'key_release') {\n",
       "        this._key = null;\n",
       "    }\n",
       "\n",
       "    var value = '';\n",
       "    if (event.ctrlKey && event.key !== 'Control') {\n",
       "        value += 'ctrl+';\n",
       "    }\n",
       "    else if (event.altKey && event.key !== 'Alt') {\n",
       "        value += 'alt+';\n",
       "    }\n",
       "    else if (event.shiftKey && event.key !== 'Shift') {\n",
       "        value += 'shift+';\n",
       "    }\n",
       "\n",
       "    value += 'k' + event.key;\n",
       "\n",
       "    this._key_event_extra(event, name);\n",
       "\n",
       "    this.send_message(name, { key: value, guiEvent: simpleKeys(event) });\n",
       "    return false;\n",
       "};\n",
       "\n",
       "mpl.figure.prototype.toolbar_button_onclick = function (name) {\n",
       "    if (name === 'download') {\n",
       "        this.handle_save(this, null);\n",
       "    } else {\n",
       "        this.send_message('toolbar_button', { name: name });\n",
       "    }\n",
       "};\n",
       "\n",
       "mpl.figure.prototype.toolbar_button_onmouseover = function (tooltip) {\n",
       "    this.message.textContent = tooltip;\n",
       "};\n",
       "\n",
       "///////////////// REMAINING CONTENT GENERATED BY embed_js.py /////////////////\n",
       "// prettier-ignore\n",
       "var _JSXTOOLS_RESIZE_OBSERVER=function(A){var t,i=new WeakMap,n=new WeakMap,a=new WeakMap,r=new WeakMap,o=new Set;function s(e){if(!(this instanceof s))throw new TypeError(\"Constructor requires 'new' operator\");i.set(this,e)}function h(){throw new TypeError(\"Function is not a constructor\")}function c(e,t,i,n){e=0 in arguments?Number(arguments[0]):0,t=1 in arguments?Number(arguments[1]):0,i=2 in arguments?Number(arguments[2]):0,n=3 in arguments?Number(arguments[3]):0,this.right=(this.x=this.left=e)+(this.width=i),this.bottom=(this.y=this.top=t)+(this.height=n),Object.freeze(this)}function d(){t=requestAnimationFrame(d);var s=new WeakMap,p=new Set;o.forEach((function(t){r.get(t).forEach((function(i){var r=t instanceof window.SVGElement,o=a.get(t),d=r?0:parseFloat(o.paddingTop),f=r?0:parseFloat(o.paddingRight),l=r?0:parseFloat(o.paddingBottom),u=r?0:parseFloat(o.paddingLeft),g=r?0:parseFloat(o.borderTopWidth),m=r?0:parseFloat(o.borderRightWidth),w=r?0:parseFloat(o.borderBottomWidth),b=u+f,F=d+l,v=(r?0:parseFloat(o.borderLeftWidth))+m,W=g+w,y=r?0:t.offsetHeight-W-t.clientHeight,E=r?0:t.offsetWidth-v-t.clientWidth,R=b+v,z=F+W,M=r?t.width:parseFloat(o.width)-R-E,O=r?t.height:parseFloat(o.height)-z-y;if(n.has(t)){var k=n.get(t);if(k[0]===M&&k[1]===O)return}n.set(t,[M,O]);var S=Object.create(h.prototype);S.target=t,S.contentRect=new c(u,d,M,O),s.has(i)||(s.set(i,[]),p.add(i)),s.get(i).push(S)}))})),p.forEach((function(e){i.get(e).call(e,s.get(e),e)}))}return s.prototype.observe=function(i){if(i instanceof window.Element){r.has(i)||(r.set(i,new Set),o.add(i),a.set(i,window.getComputedStyle(i)));var n=r.get(i);n.has(this)||n.add(this),cancelAnimationFrame(t),t=requestAnimationFrame(d)}},s.prototype.unobserve=function(i){if(i instanceof window.Element&&r.has(i)){var n=r.get(i);n.has(this)&&(n.delete(this),n.size||(r.delete(i),o.delete(i))),n.size||r.delete(i),o.size||cancelAnimationFrame(t)}},A.DOMRectReadOnly=c,A.ResizeObserver=s,A.ResizeObserverEntry=h,A}; // eslint-disable-line\n",
       "mpl.toolbar_items = [[\"Home\", \"Reset original view\", \"fa fa-home icon-home\", \"home\"], [\"Back\", \"Back to previous view\", \"fa fa-arrow-left icon-arrow-left\", \"back\"], [\"Forward\", \"Forward to next view\", \"fa fa-arrow-right icon-arrow-right\", \"forward\"], [\"\", \"\", \"\", \"\"], [\"Pan\", \"Left button pans, Right button zooms\\nx/y fixes axis, CTRL fixes aspect\", \"fa fa-arrows icon-move\", \"pan\"], [\"Zoom\", \"Zoom to rectangle\\nx/y fixes axis, CTRL fixes aspect\", \"fa fa-square-o icon-check-empty\", \"zoom\"], [\"\", \"\", \"\", \"\"], [\"Download\", \"Download plot\", \"fa fa-floppy-o icon-save\", \"download\"]];\n",
       "\n",
       "mpl.extensions = [\"eps\", \"jpeg\", \"pgf\", \"pdf\", \"png\", \"ps\", \"raw\", \"svg\", \"tif\"];\n",
       "\n",
       "mpl.default_extension = \"png\";/* global mpl */\n",
       "\n",
       "var comm_websocket_adapter = function (comm) {\n",
       "    // Create a \"websocket\"-like object which calls the given IPython comm\n",
       "    // object with the appropriate methods. Currently this is a non binary\n",
       "    // socket, so there is still some room for performance tuning.\n",
       "    var ws = {};\n",
       "\n",
       "    ws.binaryType = comm.kernel.ws.binaryType;\n",
       "    ws.readyState = comm.kernel.ws.readyState;\n",
       "    function updateReadyState(_event) {\n",
       "        if (comm.kernel.ws) {\n",
       "            ws.readyState = comm.kernel.ws.readyState;\n",
       "        } else {\n",
       "            ws.readyState = 3; // Closed state.\n",
       "        }\n",
       "    }\n",
       "    comm.kernel.ws.addEventListener('open', updateReadyState);\n",
       "    comm.kernel.ws.addEventListener('close', updateReadyState);\n",
       "    comm.kernel.ws.addEventListener('error', updateReadyState);\n",
       "\n",
       "    ws.close = function () {\n",
       "        comm.close();\n",
       "    };\n",
       "    ws.send = function (m) {\n",
       "        //console.log('sending', m);\n",
       "        comm.send(m);\n",
       "    };\n",
       "    // Register the callback with on_msg.\n",
       "    comm.on_msg(function (msg) {\n",
       "        //console.log('receiving', msg['content']['data'], msg);\n",
       "        var data = msg['content']['data'];\n",
       "        if (data['blob'] !== undefined) {\n",
       "            data = {\n",
       "                data: new Blob(msg['buffers'], { type: data['blob'] }),\n",
       "            };\n",
       "        }\n",
       "        // Pass the mpl event to the overridden (by mpl) onmessage function.\n",
       "        ws.onmessage(data);\n",
       "    });\n",
       "    return ws;\n",
       "};\n",
       "\n",
       "mpl.mpl_figure_comm = function (comm, msg) {\n",
       "    // This is the function which gets called when the mpl process\n",
       "    // starts-up an IPython Comm through the \"matplotlib\" channel.\n",
       "\n",
       "    var id = msg.content.data.id;\n",
       "    // Get hold of the div created by the display call when the Comm\n",
       "    // socket was opened in Python.\n",
       "    var element = document.getElementById(id);\n",
       "    var ws_proxy = comm_websocket_adapter(comm);\n",
       "\n",
       "    function ondownload(figure, _format) {\n",
       "        window.open(figure.canvas.toDataURL());\n",
       "    }\n",
       "\n",
       "    var fig = new mpl.figure(id, ws_proxy, ondownload, element);\n",
       "\n",
       "    // Call onopen now - mpl needs it, as it is assuming we've passed it a real\n",
       "    // web socket which is closed, not our websocket->open comm proxy.\n",
       "    ws_proxy.onopen();\n",
       "\n",
       "    fig.parent_element = element;\n",
       "    fig.cell_info = mpl.find_output_cell(\"<div id='\" + id + \"'></div>\");\n",
       "    if (!fig.cell_info) {\n",
       "        console.error('Failed to find cell for figure', id, fig);\n",
       "        return;\n",
       "    }\n",
       "    fig.cell_info[0].output_area.element.on(\n",
       "        'cleared',\n",
       "        { fig: fig },\n",
       "        fig._remove_fig_handler\n",
       "    );\n",
       "};\n",
       "\n",
       "mpl.figure.prototype.handle_close = function (fig, msg) {\n",
       "    var width = fig.canvas.width / fig.ratio;\n",
       "    fig.cell_info[0].output_area.element.off(\n",
       "        'cleared',\n",
       "        fig._remove_fig_handler\n",
       "    );\n",
       "    fig.resizeObserverInstance.unobserve(fig.canvas_div);\n",
       "\n",
       "    // Update the output cell to use the data from the current canvas.\n",
       "    fig.push_to_output();\n",
       "    var dataURL = fig.canvas.toDataURL();\n",
       "    // Re-enable the keyboard manager in IPython - without this line, in FF,\n",
       "    // the notebook keyboard shortcuts fail.\n",
       "    IPython.keyboard_manager.enable();\n",
       "    fig.parent_element.innerHTML =\n",
       "        '<img src=\"' + dataURL + '\" width=\"' + width + '\">';\n",
       "    fig.close_ws(fig, msg);\n",
       "};\n",
       "\n",
       "mpl.figure.prototype.close_ws = function (fig, msg) {\n",
       "    fig.send_message('closing', msg);\n",
       "    // fig.ws.close()\n",
       "};\n",
       "\n",
       "mpl.figure.prototype.push_to_output = function (_remove_interactive) {\n",
       "    // Turn the data on the canvas into data in the output cell.\n",
       "    var width = this.canvas.width / this.ratio;\n",
       "    var dataURL = this.canvas.toDataURL();\n",
       "    this.cell_info[1]['text/html'] =\n",
       "        '<img src=\"' + dataURL + '\" width=\"' + width + '\">';\n",
       "};\n",
       "\n",
       "mpl.figure.prototype.updated_canvas_event = function () {\n",
       "    // Tell IPython that the notebook contents must change.\n",
       "    IPython.notebook.set_dirty(true);\n",
       "    this.send_message('ack', {});\n",
       "    var fig = this;\n",
       "    // Wait a second, then push the new image to the DOM so\n",
       "    // that it is saved nicely (might be nice to debounce this).\n",
       "    setTimeout(function () {\n",
       "        fig.push_to_output();\n",
       "    }, 1000);\n",
       "};\n",
       "\n",
       "mpl.figure.prototype._init_toolbar = function () {\n",
       "    var fig = this;\n",
       "\n",
       "    var toolbar = document.createElement('div');\n",
       "    toolbar.classList = 'btn-toolbar';\n",
       "    this.root.appendChild(toolbar);\n",
       "\n",
       "    function on_click_closure(name) {\n",
       "        return function (_event) {\n",
       "            return fig.toolbar_button_onclick(name);\n",
       "        };\n",
       "    }\n",
       "\n",
       "    function on_mouseover_closure(tooltip) {\n",
       "        return function (event) {\n",
       "            if (!event.currentTarget.disabled) {\n",
       "                return fig.toolbar_button_onmouseover(tooltip);\n",
       "            }\n",
       "        };\n",
       "    }\n",
       "\n",
       "    fig.buttons = {};\n",
       "    var buttonGroup = document.createElement('div');\n",
       "    buttonGroup.classList = 'btn-group';\n",
       "    var button;\n",
       "    for (var toolbar_ind in mpl.toolbar_items) {\n",
       "        var name = mpl.toolbar_items[toolbar_ind][0];\n",
       "        var tooltip = mpl.toolbar_items[toolbar_ind][1];\n",
       "        var image = mpl.toolbar_items[toolbar_ind][2];\n",
       "        var method_name = mpl.toolbar_items[toolbar_ind][3];\n",
       "\n",
       "        if (!name) {\n",
       "            /* Instead of a spacer, we start a new button group. */\n",
       "            if (buttonGroup.hasChildNodes()) {\n",
       "                toolbar.appendChild(buttonGroup);\n",
       "            }\n",
       "            buttonGroup = document.createElement('div');\n",
       "            buttonGroup.classList = 'btn-group';\n",
       "            continue;\n",
       "        }\n",
       "\n",
       "        button = fig.buttons[name] = document.createElement('button');\n",
       "        button.classList = 'btn btn-default';\n",
       "        button.href = '#';\n",
       "        button.title = name;\n",
       "        button.innerHTML = '<i class=\"fa ' + image + ' fa-lg\"></i>';\n",
       "        button.addEventListener('click', on_click_closure(method_name));\n",
       "        button.addEventListener('mouseover', on_mouseover_closure(tooltip));\n",
       "        buttonGroup.appendChild(button);\n",
       "    }\n",
       "\n",
       "    if (buttonGroup.hasChildNodes()) {\n",
       "        toolbar.appendChild(buttonGroup);\n",
       "    }\n",
       "\n",
       "    // Add the status bar.\n",
       "    var status_bar = document.createElement('span');\n",
       "    status_bar.classList = 'mpl-message pull-right';\n",
       "    toolbar.appendChild(status_bar);\n",
       "    this.message = status_bar;\n",
       "\n",
       "    // Add the close button to the window.\n",
       "    var buttongrp = document.createElement('div');\n",
       "    buttongrp.classList = 'btn-group inline pull-right';\n",
       "    button = document.createElement('button');\n",
       "    button.classList = 'btn btn-mini btn-primary';\n",
       "    button.href = '#';\n",
       "    button.title = 'Stop Interaction';\n",
       "    button.innerHTML = '<i class=\"fa fa-power-off icon-remove icon-large\"></i>';\n",
       "    button.addEventListener('click', function (_evt) {\n",
       "        fig.handle_close(fig, {});\n",
       "    });\n",
       "    button.addEventListener(\n",
       "        'mouseover',\n",
       "        on_mouseover_closure('Stop Interaction')\n",
       "    );\n",
       "    buttongrp.appendChild(button);\n",
       "    var titlebar = this.root.querySelector('.ui-dialog-titlebar');\n",
       "    titlebar.insertBefore(buttongrp, titlebar.firstChild);\n",
       "};\n",
       "\n",
       "mpl.figure.prototype._remove_fig_handler = function (event) {\n",
       "    var fig = event.data.fig;\n",
       "    if (event.target !== this) {\n",
       "        // Ignore bubbled events from children.\n",
       "        return;\n",
       "    }\n",
       "    fig.close_ws(fig, {});\n",
       "};\n",
       "\n",
       "mpl.figure.prototype._root_extra_style = function (el) {\n",
       "    el.style.boxSizing = 'content-box'; // override notebook setting of border-box.\n",
       "};\n",
       "\n",
       "mpl.figure.prototype._canvas_extra_style = function (el) {\n",
       "    // this is important to make the div 'focusable\n",
       "    el.setAttribute('tabindex', 0);\n",
       "    // reach out to IPython and tell the keyboard manager to turn it's self\n",
       "    // off when our div gets focus\n",
       "\n",
       "    // location in version 3\n",
       "    if (IPython.notebook.keyboard_manager) {\n",
       "        IPython.notebook.keyboard_manager.register_events(el);\n",
       "    } else {\n",
       "        // location in version 2\n",
       "        IPython.keyboard_manager.register_events(el);\n",
       "    }\n",
       "};\n",
       "\n",
       "mpl.figure.prototype._key_event_extra = function (event, _name) {\n",
       "    var manager = IPython.notebook.keyboard_manager;\n",
       "    if (!manager) {\n",
       "        manager = IPython.keyboard_manager;\n",
       "    }\n",
       "\n",
       "    // Check for shift+enter\n",
       "    if (event.shiftKey && event.which === 13) {\n",
       "        this.canvas_div.blur();\n",
       "        // select the cell after this one\n",
       "        var index = IPython.notebook.find_cell_index(this.cell_info[0]);\n",
       "        IPython.notebook.select(index + 1);\n",
       "    }\n",
       "};\n",
       "\n",
       "mpl.figure.prototype.handle_save = function (fig, _msg) {\n",
       "    fig.ondownload(fig, null);\n",
       "};\n",
       "\n",
       "mpl.find_output_cell = function (html_output) {\n",
       "    // Return the cell and output element which can be found *uniquely* in the notebook.\n",
       "    // Note - this is a bit hacky, but it is done because the \"notebook_saving.Notebook\"\n",
       "    // IPython event is triggered only after the cells have been serialised, which for\n",
       "    // our purposes (turning an active figure into a static one), is too late.\n",
       "    var cells = IPython.notebook.get_cells();\n",
       "    var ncells = cells.length;\n",
       "    for (var i = 0; i < ncells; i++) {\n",
       "        var cell = cells[i];\n",
       "        if (cell.cell_type === 'code') {\n",
       "            for (var j = 0; j < cell.output_area.outputs.length; j++) {\n",
       "                var data = cell.output_area.outputs[j];\n",
       "                if (data.data) {\n",
       "                    // IPython >= 3 moved mimebundle to data attribute of output\n",
       "                    data = data.data;\n",
       "                }\n",
       "                if (data['text/html'] === html_output) {\n",
       "                    return [cell, data, j];\n",
       "                }\n",
       "            }\n",
       "        }\n",
       "    }\n",
       "};\n",
       "\n",
       "// Register the function which deals with the matplotlib target/channel.\n",
       "// The kernel may be null if the page has been refreshed.\n",
       "if (IPython.notebook.kernel !== null) {\n",
       "    IPython.notebook.kernel.comm_manager.register_target(\n",
       "        'matplotlib',\n",
       "        mpl.mpl_figure_comm\n",
       "    );\n",
       "}\n"
      ],
      "text/plain": [
       "<IPython.core.display.Javascript object>"
      ]
     },
     "metadata": {},
     "output_type": "display_data"
    },
    {
     "data": {
      "text/html": [
       "<img src=\"data:image/png;base64,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\" width=\"640\">"
      ],
      "text/plain": [
       "<IPython.core.display.HTML object>"
      ]
     },
     "metadata": {},
     "output_type": "display_data"
    },
    {
     "data": {
      "text/plain": [
       "[<matplotlib.lines.Line2D at 0x7f7191883f70>]"
      ]
     },
     "execution_count": 119,
     "metadata": {},
     "output_type": "execute_result"
    }
   ],
   "source": [
    "plt.plot(x_train)"
   ]
  },
  {
   "cell_type": "code",
   "execution_count": 120,
   "id": "c3388608",
   "metadata": {},
   "outputs": [
    {
     "data": {
      "text/plain": [
       "[Row(DepTime=1616.0),\n",
       " Row(DepTime=1614.0),\n",
       " Row(DepTime=1611.0),\n",
       " Row(DepTime=1656.0),\n",
       " Row(DepTime=1632.0),\n",
       " Row(DepTime=1636.0),\n",
       " Row(DepTime=1616.0),\n",
       " Row(DepTime=1619.0),\n",
       " Row(DepTime=1616.0),\n",
       " Row(DepTime=1618.0)]"
      ]
     },
     "execution_count": 120,
     "metadata": {},
     "output_type": "execute_result"
    }
   ],
   "source": [
    "flight_info.select(\"DepTime\").take(10)"
   ]
  },
  {
   "cell_type": "code",
   "execution_count": 121,
   "id": "a11b3d8a",
   "metadata": {},
   "outputs": [
    {
     "data": {
      "text/plain": [
       "array([False, False, False, True, True, True, True, True, True, True],\n",
       "      dtype=object)"
      ]
     },
     "execution_count": 121,
     "metadata": {},
     "output_type": "execute_result"
    }
   ],
   "source": [
    "y_train[:10]"
   ]
  },
  {
   "cell_type": "code",
   "execution_count": 123,
   "id": "0e03710d",
   "metadata": {},
   "outputs": [
    {
     "ename": "TypeError",
     "evalue": "ufunc 'isnan' not supported for the input types, and the inputs could not be safely coerced to any supported types according to the casting rule ''safe''",
     "output_type": "error",
     "traceback": [
      "\u001b[0;31m---------------------------------------------------------------------------\u001b[0m",
      "\u001b[0;31mTypeError\u001b[0m                                 Traceback (most recent call last)",
      "\u001b[0;32m/tmp/ipykernel_24267/4231349528.py\u001b[0m in \u001b[0;36m<module>\u001b[0;34m\u001b[0m\n\u001b[0;32m----> 1\u001b[0;31m \u001b[0mnp\u001b[0m\u001b[0;34m.\u001b[0m\u001b[0misnan\u001b[0m\u001b[0;34m(\u001b[0m\u001b[0my_train\u001b[0m\u001b[0;34m)\u001b[0m\u001b[0;34m\u001b[0m\u001b[0;34m\u001b[0m\u001b[0m\n\u001b[0m",
      "\u001b[0;31mTypeError\u001b[0m: ufunc 'isnan' not supported for the input types, and the inputs could not be safely coerced to any supported types according to the casting rule ''safe''"
     ]
    }
   ],
   "source": [
    "np.isnan(y_train).any()"
   ]
  },
  {
   "cell_type": "code",
   "execution_count": 124,
   "id": "77146f0a",
   "metadata": {},
   "outputs": [
    {
     "ename": "ValueError",
     "evalue": "array must not contain infs or NaNs",
     "output_type": "error",
     "traceback": [
      "\u001b[0;31m---------------------------------------------------------------------------\u001b[0m",
      "\u001b[0;31mValueError\u001b[0m                                Traceback (most recent call last)",
      "\u001b[0;32m/tmp/ipykernel_24267/4263173497.py\u001b[0m in \u001b[0;36m<module>\u001b[0;34m\u001b[0m\n\u001b[1;32m      1\u001b[0m \u001b[0mregressor\u001b[0m \u001b[0;34m=\u001b[0m \u001b[0mLinearRegression\u001b[0m\u001b[0;34m(\u001b[0m\u001b[0;34m)\u001b[0m\u001b[0;34m\u001b[0m\u001b[0;34m\u001b[0m\u001b[0m\n\u001b[0;32m----> 2\u001b[0;31m \u001b[0mregressor\u001b[0m\u001b[0;34m.\u001b[0m\u001b[0mfit\u001b[0m\u001b[0;34m(\u001b[0m\u001b[0mx_train\u001b[0m\u001b[0;34m,\u001b[0m\u001b[0my_train\u001b[0m\u001b[0;34m)\u001b[0m\u001b[0;34m\u001b[0m\u001b[0;34m\u001b[0m\u001b[0m\n\u001b[0m\u001b[1;32m      3\u001b[0m \u001b[0mprint\u001b[0m\u001b[0;34m(\u001b[0m\u001b[0;34m\"here\"\u001b[0m\u001b[0;34m)\u001b[0m\u001b[0;34m\u001b[0m\u001b[0;34m\u001b[0m\u001b[0m\n\u001b[1;32m      4\u001b[0m \u001b[0;31m#predicting the test set results\u001b[0m\u001b[0;34m\u001b[0m\u001b[0;34m\u001b[0m\u001b[0m\n\u001b[1;32m      5\u001b[0m \u001b[0my_pred\u001b[0m \u001b[0;34m=\u001b[0m \u001b[0mregressor\u001b[0m\u001b[0;34m.\u001b[0m\u001b[0mpredict\u001b[0m\u001b[0;34m(\u001b[0m\u001b[0mx_test\u001b[0m\u001b[0;34m)\u001b[0m\u001b[0;34m\u001b[0m\u001b[0;34m\u001b[0m\u001b[0m\n",
      "\u001b[0;32m/opt/conda/lib/python3.9/site-packages/sklearn/linear_model/_base.py\u001b[0m in \u001b[0;36mfit\u001b[0;34m(self, X, y, sample_weight)\u001b[0m\n\u001b[1;32m    715\u001b[0m                 \u001b[0mself\u001b[0m\u001b[0;34m.\u001b[0m\u001b[0m_residues\u001b[0m \u001b[0;34m=\u001b[0m \u001b[0mnp\u001b[0m\u001b[0;34m.\u001b[0m\u001b[0mvstack\u001b[0m\u001b[0;34m(\u001b[0m\u001b[0;34m[\u001b[0m\u001b[0mout\u001b[0m\u001b[0;34m[\u001b[0m\u001b[0;36m3\u001b[0m\u001b[0;34m]\u001b[0m \u001b[0;32mfor\u001b[0m \u001b[0mout\u001b[0m \u001b[0;32min\u001b[0m \u001b[0mouts\u001b[0m\u001b[0;34m]\u001b[0m\u001b[0;34m)\u001b[0m\u001b[0;34m\u001b[0m\u001b[0;34m\u001b[0m\u001b[0m\n\u001b[1;32m    716\u001b[0m         \u001b[0;32melse\u001b[0m\u001b[0;34m:\u001b[0m\u001b[0;34m\u001b[0m\u001b[0;34m\u001b[0m\u001b[0m\n\u001b[0;32m--> 717\u001b[0;31m             \u001b[0mself\u001b[0m\u001b[0;34m.\u001b[0m\u001b[0mcoef_\u001b[0m\u001b[0;34m,\u001b[0m \u001b[0mself\u001b[0m\u001b[0;34m.\u001b[0m\u001b[0m_residues\u001b[0m\u001b[0;34m,\u001b[0m \u001b[0mself\u001b[0m\u001b[0;34m.\u001b[0m\u001b[0mrank_\u001b[0m\u001b[0;34m,\u001b[0m \u001b[0mself\u001b[0m\u001b[0;34m.\u001b[0m\u001b[0msingular_\u001b[0m \u001b[0;34m=\u001b[0m \u001b[0mlinalg\u001b[0m\u001b[0;34m.\u001b[0m\u001b[0mlstsq\u001b[0m\u001b[0;34m(\u001b[0m\u001b[0mX\u001b[0m\u001b[0;34m,\u001b[0m \u001b[0my\u001b[0m\u001b[0;34m)\u001b[0m\u001b[0;34m\u001b[0m\u001b[0;34m\u001b[0m\u001b[0m\n\u001b[0m\u001b[1;32m    718\u001b[0m             \u001b[0mself\u001b[0m\u001b[0;34m.\u001b[0m\u001b[0mcoef_\u001b[0m \u001b[0;34m=\u001b[0m \u001b[0mself\u001b[0m\u001b[0;34m.\u001b[0m\u001b[0mcoef_\u001b[0m\u001b[0;34m.\u001b[0m\u001b[0mT\u001b[0m\u001b[0;34m\u001b[0m\u001b[0;34m\u001b[0m\u001b[0m\n\u001b[1;32m    719\u001b[0m \u001b[0;34m\u001b[0m\u001b[0m\n",
      "\u001b[0;32m/opt/conda/lib/python3.9/site-packages/scipy/linalg/basic.py\u001b[0m in \u001b[0;36mlstsq\u001b[0;34m(a, b, cond, overwrite_a, overwrite_b, check_finite, lapack_driver)\u001b[0m\n\u001b[1;32m   1145\u001b[0m     \"\"\"\n\u001b[1;32m   1146\u001b[0m     \u001b[0ma1\u001b[0m \u001b[0;34m=\u001b[0m \u001b[0m_asarray_validated\u001b[0m\u001b[0;34m(\u001b[0m\u001b[0ma\u001b[0m\u001b[0;34m,\u001b[0m \u001b[0mcheck_finite\u001b[0m\u001b[0;34m=\u001b[0m\u001b[0mcheck_finite\u001b[0m\u001b[0;34m)\u001b[0m\u001b[0;34m\u001b[0m\u001b[0;34m\u001b[0m\u001b[0m\n\u001b[0;32m-> 1147\u001b[0;31m     \u001b[0mb1\u001b[0m \u001b[0;34m=\u001b[0m \u001b[0m_asarray_validated\u001b[0m\u001b[0;34m(\u001b[0m\u001b[0mb\u001b[0m\u001b[0;34m,\u001b[0m \u001b[0mcheck_finite\u001b[0m\u001b[0;34m=\u001b[0m\u001b[0mcheck_finite\u001b[0m\u001b[0;34m)\u001b[0m\u001b[0;34m\u001b[0m\u001b[0;34m\u001b[0m\u001b[0m\n\u001b[0m\u001b[1;32m   1148\u001b[0m     \u001b[0;32mif\u001b[0m \u001b[0mlen\u001b[0m\u001b[0;34m(\u001b[0m\u001b[0ma1\u001b[0m\u001b[0;34m.\u001b[0m\u001b[0mshape\u001b[0m\u001b[0;34m)\u001b[0m \u001b[0;34m!=\u001b[0m \u001b[0;36m2\u001b[0m\u001b[0;34m:\u001b[0m\u001b[0;34m\u001b[0m\u001b[0;34m\u001b[0m\u001b[0m\n\u001b[1;32m   1149\u001b[0m         \u001b[0;32mraise\u001b[0m \u001b[0mValueError\u001b[0m\u001b[0;34m(\u001b[0m\u001b[0;34m'Input array a should be 2D'\u001b[0m\u001b[0;34m)\u001b[0m\u001b[0;34m\u001b[0m\u001b[0;34m\u001b[0m\u001b[0m\n",
      "\u001b[0;32m/opt/conda/lib/python3.9/site-packages/scipy/_lib/_util.py\u001b[0m in \u001b[0;36m_asarray_validated\u001b[0;34m(a, check_finite, sparse_ok, objects_ok, mask_ok, as_inexact)\u001b[0m\n\u001b[1;32m    291\u001b[0m             \u001b[0;32mraise\u001b[0m \u001b[0mValueError\u001b[0m\u001b[0;34m(\u001b[0m\u001b[0;34m'masked arrays are not supported'\u001b[0m\u001b[0;34m)\u001b[0m\u001b[0;34m\u001b[0m\u001b[0;34m\u001b[0m\u001b[0m\n\u001b[1;32m    292\u001b[0m     \u001b[0mtoarray\u001b[0m \u001b[0;34m=\u001b[0m \u001b[0mnp\u001b[0m\u001b[0;34m.\u001b[0m\u001b[0masarray_chkfinite\u001b[0m \u001b[0;32mif\u001b[0m \u001b[0mcheck_finite\u001b[0m \u001b[0;32melse\u001b[0m \u001b[0mnp\u001b[0m\u001b[0;34m.\u001b[0m\u001b[0masarray\u001b[0m\u001b[0;34m\u001b[0m\u001b[0;34m\u001b[0m\u001b[0m\n\u001b[0;32m--> 293\u001b[0;31m     \u001b[0ma\u001b[0m \u001b[0;34m=\u001b[0m \u001b[0mtoarray\u001b[0m\u001b[0;34m(\u001b[0m\u001b[0ma\u001b[0m\u001b[0;34m)\u001b[0m\u001b[0;34m\u001b[0m\u001b[0;34m\u001b[0m\u001b[0m\n\u001b[0m\u001b[1;32m    294\u001b[0m     \u001b[0;32mif\u001b[0m \u001b[0;32mnot\u001b[0m \u001b[0mobjects_ok\u001b[0m\u001b[0;34m:\u001b[0m\u001b[0;34m\u001b[0m\u001b[0;34m\u001b[0m\u001b[0m\n\u001b[1;32m    295\u001b[0m         \u001b[0;32mif\u001b[0m \u001b[0ma\u001b[0m\u001b[0;34m.\u001b[0m\u001b[0mdtype\u001b[0m \u001b[0;32mis\u001b[0m \u001b[0mnp\u001b[0m\u001b[0;34m.\u001b[0m\u001b[0mdtype\u001b[0m\u001b[0;34m(\u001b[0m\u001b[0;34m'O'\u001b[0m\u001b[0;34m)\u001b[0m\u001b[0;34m:\u001b[0m\u001b[0;34m\u001b[0m\u001b[0;34m\u001b[0m\u001b[0m\n",
      "\u001b[0;32m/opt/conda/lib/python3.9/site-packages/numpy/lib/function_base.py\u001b[0m in \u001b[0;36masarray_chkfinite\u001b[0;34m(a, dtype, order)\u001b[0m\n\u001b[1;32m    486\u001b[0m     \u001b[0ma\u001b[0m \u001b[0;34m=\u001b[0m \u001b[0masarray\u001b[0m\u001b[0;34m(\u001b[0m\u001b[0ma\u001b[0m\u001b[0;34m,\u001b[0m \u001b[0mdtype\u001b[0m\u001b[0;34m=\u001b[0m\u001b[0mdtype\u001b[0m\u001b[0;34m,\u001b[0m \u001b[0morder\u001b[0m\u001b[0;34m=\u001b[0m\u001b[0morder\u001b[0m\u001b[0;34m)\u001b[0m\u001b[0;34m\u001b[0m\u001b[0;34m\u001b[0m\u001b[0m\n\u001b[1;32m    487\u001b[0m     \u001b[0;32mif\u001b[0m \u001b[0ma\u001b[0m\u001b[0;34m.\u001b[0m\u001b[0mdtype\u001b[0m\u001b[0;34m.\u001b[0m\u001b[0mchar\u001b[0m \u001b[0;32min\u001b[0m \u001b[0mtypecodes\u001b[0m\u001b[0;34m[\u001b[0m\u001b[0;34m'AllFloat'\u001b[0m\u001b[0;34m]\u001b[0m \u001b[0;32mand\u001b[0m \u001b[0;32mnot\u001b[0m \u001b[0mnp\u001b[0m\u001b[0;34m.\u001b[0m\u001b[0misfinite\u001b[0m\u001b[0;34m(\u001b[0m\u001b[0ma\u001b[0m\u001b[0;34m)\u001b[0m\u001b[0;34m.\u001b[0m\u001b[0mall\u001b[0m\u001b[0;34m(\u001b[0m\u001b[0;34m)\u001b[0m\u001b[0;34m:\u001b[0m\u001b[0;34m\u001b[0m\u001b[0;34m\u001b[0m\u001b[0m\n\u001b[0;32m--> 488\u001b[0;31m         raise ValueError(\n\u001b[0m\u001b[1;32m    489\u001b[0m             \"array must not contain infs or NaNs\")\n\u001b[1;32m    490\u001b[0m     \u001b[0;32mreturn\u001b[0m \u001b[0ma\u001b[0m\u001b[0;34m\u001b[0m\u001b[0;34m\u001b[0m\u001b[0m\n",
      "\u001b[0;31mValueError\u001b[0m: array must not contain infs or NaNs"
     ]
    }
   ],
   "source": [
    "regressor = LinearRegression()\n",
    "regressor.fit(x_train,y_train)\n",
    "print(\"here\")\n",
    "#predicting the test set results\n",
    "y_pred = regressor.predict(x_test)\n",
    "#visualising the training set results\n",
    "plt.scatter(X_train,y_train,color='red')\n",
    "plt.plot(X_train,regressor.predict(X_train),color='blue')\n",
    "plt.title('Salary vs Experience (Training Set)')\n",
    "plt.xlabel('Years of Experience')\n",
    "plt.ylabel('Salary')\n",
    "plt.show()\n",
    "#visualising the test set results\n",
    "plt.scatter(X_test,y_test,color='red')\n",
    "plt.plot(X_train,regressor.predict(X_train),color='blue')\n",
    "plt.title('Salary vs Experience (Test Set)')\n",
    "plt.xlabel('Years of Experience')\n",
    "plt.ylabel('Salary')\n",
    "plt.show()"
   ]
  }
 ],
 "metadata": {
  "kernelspec": {
   "display_name": "Python 3 (ipykernel)",
   "language": "python",
   "name": "python3"
  },
  "language_info": {
   "codemirror_mode": {
    "name": "ipython",
    "version": 3
   },
   "file_extension": ".py",
   "mimetype": "text/x-python",
   "name": "python",
   "nbconvert_exporter": "python",
   "pygments_lexer": "ipython3",
   "version": "3.9.7"
  }
 },
 "nbformat": 4,
 "nbformat_minor": 5
}
