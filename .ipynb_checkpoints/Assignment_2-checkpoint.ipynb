{
 "cells": [
  {
   "cell_type": "code",
   "execution_count": 1,
   "id": "1443cdff",
   "metadata": {},
   "outputs": [],
   "source": [
    "import re\n"
   ]
  },
  {
   "cell_type": "markdown",
   "id": "9aa8d15e",
   "metadata": {},
   "source": [
    "# Assignment 2: Analyzing large datasets with Spark.\n",
    "\n",
    "\n",
    "For this assignment, you will need to make sure you're running from a PySpark docker environment I introduced in class. You can start the docker pySpark docker environment using the following command:\n",
    "\n",
    "```\n",
    "docker run --rm -p 4040:4040 -p 8888:8888 -v $(pwd):/home/jovyan/work jupyter/all-spark-notebook\n",
    "```\n",
    "\n",
    "Make sure you run the command from the directory containing this jupyter notebook and your data folder.\n",
    "\n",
    "\n",
    "</b>\n",
    "# WARNING: For some reason, ipynbb document didn't always sync properly when I was pushing to github. As such, please push often and make sure your incremental changes appear on GitHub.\n",
    "</b>"
   ]
  },
  {
   "cell_type": "markdown",
   "id": "66b0d3e6",
   "metadata": {},
   "source": [
    "### Part 1\n",
    "\n",
    "The first part will use Spark to analyze the following books, which I have downloaded for you to use from Project Gutenberg. The files are saved to the data folder.\n",
    "\n",
    "| File name | Book Title|\n",
    "|:---------:|:----------|\n",
    "|43.txt | The Strange Case of Dr. Jekyll and Mr. Hyde by Robert Louis Stevenson|\n",
    "|84.txt | Frankenstein; Or, The Modern Prometheus by Mary Wollstonecraft Shelley |\n",
    "|398.txt  | The First Book of Adam and Eve by Rutherford Hayes Platt|\n",
    "|3296.txt | The Confessions of St. Augustine by Bishop of Hippo Saint Augustine|\n",
    "\n",
    "The objective is to explore whether we can detect similarity between books within the same topic using word-based similarity. \n",
    "\n",
    "The task of identifying similar texts in Natural Language Processing is crucial. A naive method for determining whether two documents are similar is to treat them as collections of words (bag of words) and use the number of words they share as a proxy for their similarity. It makes sense that two books with religion as the topic (e.g.  `398.txt` and `3296.txt`) would have more words in common than a book that discusses religion and a book that discusses science fiction (e.g. books `84.txt` and `398.txt`). \n",
    "\n",
    "As mentioned above, we will be using Spark to analyze the data. Although Spark is not needed for such a small example, the platform would be ideal for analyzing very large collections of documents, like those often analyzed by large corporations\n",
    "\n",
    "This part of the assignment will rely exclusively on RDDs."
   ]
  },
  {
   "cell_type": "markdown",
   "id": "87a15530",
   "metadata": {},
   "source": [
    "### Q1. \n",
    "Start by importing Spark and making sure your environment is set up properly for the assignment.\n",
    "\n",
    "Import the spark context necessary to load a document as an RDD; ignore any error messages"
   ]
  },
  {
   "cell_type": "code",
   "execution_count": 2,
   "id": "e80df4d4",
   "metadata": {},
   "outputs": [],
   "source": [
    "### Write your code here\n",
    "import pyspark"
   ]
  },
  {
   "cell_type": "code",
   "execution_count": 3,
   "id": "88813d54",
   "metadata": {},
   "outputs": [],
   "source": [
    "from pyspark.sql import SparkSession\n",
    "from pyspark.context import SparkContext"
   ]
  },
  {
   "cell_type": "code",
   "execution_count": 4,
   "id": "55c677ed",
   "metadata": {},
   "outputs": [
    {
     "name": "stderr",
     "output_type": "stream",
     "text": [
      "WARNING: An illegal reflective access operation has occurred\n",
      "WARNING: Illegal reflective access by org.apache.spark.unsafe.Platform (file:/usr/local/spark-3.2.0-bin-hadoop3.2/jars/spark-unsafe_2.12-3.2.0.jar) to constructor java.nio.DirectByteBuffer(long,int)\n",
      "WARNING: Please consider reporting this to the maintainers of org.apache.spark.unsafe.Platform\n",
      "WARNING: Use --illegal-access=warn to enable warnings of further illegal reflective access operations\n",
      "WARNING: All illegal access operations will be denied in a future release\n",
      "Using Spark's default log4j profile: org/apache/spark/log4j-defaults.properties\n",
      "Setting default log level to \"WARN\".\n",
      "To adjust logging level use sc.setLogLevel(newLevel). For SparkR, use setLogLevel(newLevel).\n",
      "21/11/05 04:09:35 WARN NativeCodeLoader: Unable to load native-hadoop library for your platform... using builtin-java classes where applicable\n"
     ]
    }
   ],
   "source": [
    "# spark = SparkSession.builder.appName('assn2test').getOrCreate()\n",
    "# spark.stop()\n",
    "sc = SparkContext()"
   ]
  },
  {
   "cell_type": "code",
   "execution_count": 5,
   "id": "e1201ce5",
   "metadata": {},
   "outputs": [
    {
     "data": {
      "text/plain": [
       "pyspark.context.SparkContext"
      ]
     },
     "execution_count": 5,
     "metadata": {},
     "output_type": "execute_result"
    }
   ],
   "source": [
    "type(sc)"
   ]
  },
  {
   "cell_type": "markdown",
   "id": "336d5c9d",
   "metadata": {},
   "source": [
    "### Q2 \n",
    "\n",
    "Read in the file `43.txt` as a spark RDD and save it to a variable called `book_43`\n",
    " * make sure `book_43` is of type MapPartitionsRDD, i.e.,\n",
    "   * str(type(book_43)) == \"<class 'pyspark.rdd.RDD'>\" should return True "
   ]
  },
  {
   "cell_type": "code",
   "execution_count": 6,
   "id": "3d4164f5",
   "metadata": {},
   "outputs": [],
   "source": [
    "### Write your code here\n",
    "book_43 = sc.textFile(\"./data/43.txt\", minPartitions=96)"
   ]
  },
  {
   "cell_type": "code",
   "execution_count": 7,
   "id": "e44786b4",
   "metadata": {},
   "outputs": [
    {
     "data": {
      "text/plain": [
       "pyspark.rdd.RDD"
      ]
     },
     "execution_count": 7,
     "metadata": {},
     "output_type": "execute_result"
    }
   ],
   "source": [
    "type(book_43)"
   ]
  },
  {
   "cell_type": "code",
   "execution_count": 8,
   "id": "3aac0cf6",
   "metadata": {},
   "outputs": [
    {
     "name": "stderr",
     "output_type": "stream",
     "text": [
      "\r",
      "[Stage 0:>                                                          (0 + 1) / 1]\r",
      "\r",
      "                                                                                \r"
     ]
    },
    {
     "data": {
      "text/plain": [
       "['The Project Gutenberg eBook of The Strange Case Of Dr. Jekyll And Mr. Hyde, by Robert Louis Stevenson',\n",
       " '',\n",
       " 'This eBook is for the use of anyone anywhere in the United States and',\n",
       " 'most other parts of the world at no cost and with almost no restrictions',\n",
       " 'whatsoever. You may copy it, give it away or re-use it under the terms']"
      ]
     },
     "execution_count": 8,
     "metadata": {},
     "output_type": "execute_result"
    }
   ],
   "source": [
    "book_43.take(5)"
   ]
  },
  {
   "cell_type": "code",
   "execution_count": 9,
   "id": "524bfb76",
   "metadata": {},
   "outputs": [
    {
     "data": {
      "text/plain": [
       "True"
      ]
     },
     "execution_count": 9,
     "metadata": {},
     "output_type": "execute_result"
    }
   ],
   "source": [
    "str(type(book_43)) == \"<class 'pyspark.rdd.RDD'>\""
   ]
  },
  {
   "cell_type": "markdown",
   "id": "0b8c051e",
   "metadata": {},
   "source": [
    "### Q3\n",
    "\n",
    "How many lines does `book_43` contain?\n",
    "* You can only use operations or actions on RDDs to answer the question. \n",
    "  * Code that uses methods such as `some_rdd.X().Y().Z()...` is allowed\n",
    "  * Code that uses functions such as `some_func(...)` is not allowed"
   ]
  },
  {
   "cell_type": "code",
   "execution_count": 10,
   "id": "b3c5a06e",
   "metadata": {
    "scrolled": true
   },
   "outputs": [
    {
     "name": "stdout",
     "output_type": "stream",
     "text": [
      "# of lines = 2935\n",
      "numbe of lines in the text file is 2935\n"
     ]
    }
   ],
   "source": [
    "### Write your code here\n",
    "print(\"# of lines = {}\".format(book_43.count()))\n",
    "\n",
    "num_lines = len(open(\"./data/43.txt\").readlines())\n",
    "print(\"numbe of lines in the text file is {}\".format(num_lines))"
   ]
  },
  {
   "cell_type": "markdown",
   "id": "bca2bc6d",
   "metadata": {},
   "source": [
    "### Q4 \n",
    "\n",
    "Prior to analyzing the words contained in this book, we need to first remove the occurrences of non-alphabetical characters and numbers from the text. You can use the following function, which takes a line as input, removes digits and non-word characters, and splits it into a collection of words. \n",
    "\n",
    "```python\n",
    "def clean_split_line(line):\n",
    "    a = re.sub('\\d+', '', line)\n",
    "    b = re.sub('[\\W]+', ' ', a)\n",
    "    return b.upper().split()\n",
    "```\n",
    "\n",
    "Use the fucntion above on the variable (test_line) to see what it returns.\n",
    "```python\n",
    "test_line = \"This is an example of that contains 234 and a dash-containing number\"\n",
    "```"
   ]
  },
  {
   "cell_type": "code",
   "execution_count": 11,
   "id": "55ce2754",
   "metadata": {},
   "outputs": [],
   "source": [
    "### Write your code here\n",
    "def clean_split_line(line):\n",
    "    a = re.sub('\\d+', '', line)\n",
    "    b = re.sub('[\\W]+', ' ', a)\n",
    "    return b.lower().split()\n",
    "#     return b.upper().split()\n"
   ]
  },
  {
   "cell_type": "code",
   "execution_count": 12,
   "id": "97545707",
   "metadata": {},
   "outputs": [
    {
     "data": {
      "text/plain": [
       "['this',\n",
       " 'is',\n",
       " 'an',\n",
       " 'example',\n",
       " 'of',\n",
       " 'that',\n",
       " 'contains',\n",
       " 'and',\n",
       " 'a',\n",
       " 'dash',\n",
       " 'containing',\n",
       " 'number']"
      ]
     },
     "execution_count": 12,
     "metadata": {},
     "output_type": "execute_result"
    }
   ],
   "source": [
    "test_line = \"This is an example of that contains 234 and a dash-containing number\"\n",
    "clean_split_line(test_line)"
   ]
  },
  {
   "cell_type": "markdown",
   "id": "b5e951e5",
   "metadata": {},
   "source": [
    "### Q5\n",
    "\n",
    "How many words does `book_43` contain? To answer this question, you may find it useful to apply the function in a spark-fashion. \n",
    "* You can only use operations or actions on RDDs to answer the question. \n",
    "  * Code that uses methods such as `some_rdd.X().Y().Z()...` is allowed\n",
    "  * Code that uses functions such as `some_func(...)` is not allowed\n"
   ]
  },
  {
   "cell_type": "code",
   "execution_count": 13,
   "id": "99c1b93f",
   "metadata": {},
   "outputs": [
    {
     "data": {
      "text/plain": [
       "29116"
      ]
     },
     "execution_count": 13,
     "metadata": {},
     "output_type": "execute_result"
    }
   ],
   "source": [
    "### Write your code here\n",
    "words = book_43.flatMap(clean_split_line)\n",
    "words.count()"
   ]
  },
  {
   "cell_type": "markdown",
   "id": "30d62952",
   "metadata": {},
   "source": [
    "### Q6\n",
    "\n",
    "How many of the words in book_43 are unique? Given that words can appear in lower, upper or mixed case (ex. The, THE, the), make sure you convert the words into lower case before counting them.\n"
   ]
  },
  {
   "cell_type": "code",
   "execution_count": 14,
   "id": "07785c77",
   "metadata": {},
   "outputs": [
    {
     "name": "stderr",
     "output_type": "stream",
     "text": [
      "[Stage 3:==========================================>             (73 + 23) / 96]\r"
     ]
    },
    {
     "name": "stdout",
     "output_type": "stream",
     "text": [
      "4296 distinct words\n"
     ]
    },
    {
     "name": "stderr",
     "output_type": "stream",
     "text": [
      "\r",
      "                                                                                \r"
     ]
    }
   ],
   "source": [
    "### Write your code here\n",
    "distinctWords = words.distinct()\n",
    "count = distinctWords.count()\n",
    "print(\"{} distinct words\".format(count)) #number of distinct words!"
   ]
  },
  {
   "cell_type": "markdown",
   "id": "91b13b79",
   "metadata": {},
   "source": [
    "### Q7\n",
    "\n",
    "* Generate an `RDD` that contains the frequency of each word in `book_43`. Call the variable `book_43_counts`. Each item in the `RDD` should be a tuple with the word as the first element of the tuple and the count as the second item of the tuple. The collection should look like the following:\n",
    "\n",
    "[('project', 88), (\"the\", 1807), ... ]\n",
    "\n",
    "* Such a collection may contain a large number of words and it would be imprudent to transfer all the words onto the same machine to display it. Instead, to explore the content of such a collection, display only the first element in your list. \n",
    "\n",
    "* Given the random nature of this operation, the first element element displayed may be different. The first entry for me was:\n",
    "```\n",
    "[('project', 88)]\n",
    "```\n",
    "\n",
    "* You can only use operations or actions to answer the question. \n",
    "* Code that uses methods such as `some_rdd.X().Y().Z()...` is allowed\n",
    "* Code that uses functions such as `some_func(...)` is not allowed\n"
   ]
  },
  {
   "cell_type": "code",
   "execution_count": 15,
   "id": "42729b95",
   "metadata": {},
   "outputs": [
    {
     "data": {
      "text/plain": [
       "[('the', 1),\n",
       " ('project', 1),\n",
       " ('gutenberg', 1),\n",
       " ('ebook', 1),\n",
       " ('of', 1),\n",
       " ('the', 1),\n",
       " ('strange', 1),\n",
       " ('case', 1),\n",
       " ('of', 1),\n",
       " ('dr', 1)]"
      ]
     },
     "execution_count": 15,
     "metadata": {},
     "output_type": "execute_result"
    }
   ],
   "source": [
    "### Write your code here\n",
    "words_with_ones = words.map(lambda x: (x, 1))\n",
    "words_with_ones.take(10)"
   ]
  },
  {
   "cell_type": "code",
   "execution_count": 16,
   "id": "118217f5",
   "metadata": {},
   "outputs": [
    {
     "name": "stderr",
     "output_type": "stream",
     "text": [
      "                                                                                \r"
     ]
    },
    {
     "data": {
      "text/plain": [
       "[('_dines_', 1),\n",
       " ('_is_', 1),\n",
       " ('_pede', 1),\n",
       " ('_protégé_', 1),\n",
       " ('_th', 1),\n",
       " ('_to', 1),\n",
       " ('_who', 1),\n",
       " ('_why_', 1),\n",
       " ('_with', 1),\n",
       " ('_à', 1)]"
      ]
     },
     "execution_count": 16,
     "metadata": {},
     "output_type": "execute_result"
    }
   ],
   "source": [
    "sorted_words_with_ones = words_with_ones.sortByKey()\n",
    "sorted_words_with_ones.take(10)"
   ]
  },
  {
   "cell_type": "code",
   "execution_count": 17,
   "id": "19334514",
   "metadata": {},
   "outputs": [],
   "source": [
    "book_43_counts = sorted_words_with_ones.reduceByKey(lambda x,y: x+y)"
   ]
  },
  {
   "cell_type": "code",
   "execution_count": 18,
   "id": "268204ac",
   "metadata": {},
   "outputs": [],
   "source": [
    "project = book_43_counts.filter(lambda x: \"project\" in x)"
   ]
  },
  {
   "cell_type": "code",
   "execution_count": 19,
   "id": "2700ea2f",
   "metadata": {},
   "outputs": [
    {
     "name": "stderr",
     "output_type": "stream",
     "text": [
      "\r",
      "[Stage 11:========================================>              (71 + 24) / 96]\r",
      "\r",
      "                                                                                \r"
     ]
    },
    {
     "data": {
      "text/plain": [
       "[('project', 88)]"
      ]
     },
     "execution_count": 19,
     "metadata": {},
     "output_type": "execute_result"
    }
   ],
   "source": [
    "project.take(5)"
   ]
  },
  {
   "cell_type": "markdown",
   "id": "1ee4534c",
   "metadata": {},
   "source": [
    "### Q8\n",
    "\n",
    "Sort `book_43_counts` and print the 20 most frequent words in book_43. \n",
    "  * Hint: function `sortByKey` sorts a collection of tuples on the first element element of the list. You can easily change the order of the items in each element and use `sortByKey` to sort on the second item of each element in `book_43_counts`\n",
    "  * You can only use operations or actions to answer the question. \n",
    "  * Code that uses methods such as `some_rdd.X().Y().Z()...` is allowed\n",
    "  * Code that uses functions such as `some_func(...)` is not allowed"
   ]
  },
  {
   "cell_type": "code",
   "execution_count": 20,
   "id": "d51b8ea9",
   "metadata": {},
   "outputs": [],
   "source": [
    "### Write your code here\n",
    "book_43_counts2 = book_43_counts.map(lambda x: (x[1], x[0]))"
   ]
  },
  {
   "cell_type": "code",
   "execution_count": 21,
   "id": "d3bd2f47",
   "metadata": {},
   "outputs": [
    {
     "data": {
      "text/plain": [
       "[(3, 'ape'),\n",
       " (1, 'approaches'),\n",
       " (1, 'assaults'),\n",
       " (2, 'belief'),\n",
       " (1, 'bird'),\n",
       " (1, 'civilly'),\n",
       " (7, 'common'),\n",
       " (1, 'connived'),\n",
       " (1, 'destruction'),\n",
       " (1, 'disliked')]"
      ]
     },
     "execution_count": 21,
     "metadata": {},
     "output_type": "execute_result"
    }
   ],
   "source": [
    "book_43_counts2.take(10)"
   ]
  },
  {
   "cell_type": "code",
   "execution_count": 22,
   "id": "7154de6e",
   "metadata": {},
   "outputs": [],
   "source": [
    "book_43_counts_sorted = book_43_counts2.sortByKey(False)"
   ]
  },
  {
   "cell_type": "code",
   "execution_count": 23,
   "id": "b2fa9d73",
   "metadata": {},
   "outputs": [
    {
     "data": {
      "text/plain": [
       "[(1807, 'the'),\n",
       " (1068, 'of'),\n",
       " (1043, 'and'),\n",
       " (726, 'to'),\n",
       " (686, 'a'),\n",
       " (646, 'i'),\n",
       " (485, 'in'),\n",
       " (471, 'was'),\n",
       " (392, 'that'),\n",
       " (384, 'he'),\n",
       " (378, 'it'),\n",
       " (312, 'you'),\n",
       " (308, 'my'),\n",
       " (301, 'with'),\n",
       " (285, 'his'),\n",
       " (244, 'had'),\n",
       " (203, 'as'),\n",
       " (202, 'for'),\n",
       " (195, 'this'),\n",
       " (193, 'but')]"
      ]
     },
     "execution_count": 23,
     "metadata": {},
     "output_type": "execute_result"
    }
   ],
   "source": [
    "book_43_counts_sorted.take(20)"
   ]
  },
  {
   "cell_type": "markdown",
   "id": "13420b09",
   "metadata": {},
   "source": [
    "### Q9\n",
    "\n",
    "You must have noted that the most frequent words in `book_43_counts` include stop words such as `of`, `the`, `and`, etc.\n",
    "\n",
    "It would be inefficient to compare documents based on whether or not they contain stop words; those are common to all documents. As such, it's common to remove such stop words. The librarary `sklearn.feature_extraction` provides access to a collection of English stop words, which can be loaded using the following snippet:\n",
    "\n",
    "```\n",
    "from sklearn.feature_extraction import stop_words\n",
    "stop_words.ENGLISH_STOP_WORDS\n",
    "```\n",
    "\n",
    "* Explore ENGLISH_STOP_WORDS (it's a frozen set data structure, i.e., a set that you cannot modify) by printing any 10 words from it. \n",
    " * Hint: convert the frozen set to something you can subscript\n"
   ]
  },
  {
   "cell_type": "code",
   "execution_count": 24,
   "id": "0e0ad996",
   "metadata": {},
   "outputs": [],
   "source": [
    "### Write your code here\n",
    "from sklearn.feature_extraction import _stop_words\n",
    "stopWords = _stop_words.ENGLISH_STOP_WORDS"
   ]
  },
  {
   "cell_type": "code",
   "execution_count": 25,
   "id": "a9ed61ac",
   "metadata": {},
   "outputs": [
    {
     "data": {
      "text/plain": [
       "frozenset"
      ]
     },
     "execution_count": 25,
     "metadata": {},
     "output_type": "execute_result"
    }
   ],
   "source": [
    "type(stopWords)"
   ]
  },
  {
   "cell_type": "code",
   "execution_count": 26,
   "id": "cdc5c900",
   "metadata": {},
   "outputs": [],
   "source": [
    "stop_words = list(stopWords)"
   ]
  },
  {
   "cell_type": "code",
   "execution_count": 27,
   "id": "3bf70e3b",
   "metadata": {},
   "outputs": [],
   "source": [
    "# A way to find words containing another word, such as \"the\" in this case\n",
    "# items = []\n",
    "# for id, item in enumerate(list1):\n",
    "#     if \"the\" in item:\n",
    "#         items.append(id)\n",
    "\n",
    "# T = [list1[i] for i in items]\n",
    "# T"
   ]
  },
  {
   "cell_type": "code",
   "execution_count": 28,
   "id": "6649256a",
   "metadata": {},
   "outputs": [
    {
     "data": {
      "text/plain": [
       "['con',\n",
       " 'ie',\n",
       " 'or',\n",
       " 'should',\n",
       " 'herself',\n",
       " 'no',\n",
       " 'perhaps',\n",
       " 'anything',\n",
       " 'even',\n",
       " 'nobody']"
      ]
     },
     "execution_count": 28,
     "metadata": {},
     "output_type": "execute_result"
    }
   ],
   "source": [
    "stop_words[:10]"
   ]
  },
  {
   "cell_type": "markdown",
   "id": "625eb521",
   "metadata": {},
   "source": [
    "### Q10\n",
    "\n",
    "Filter out the words in `book_43_counts` by removing those that appear in the ENGLISH_STOP_WORDS.\n",
    "Save the results to a new variable called `book_43_counts_filtered`\n",
    "  * You can only use operarations or actions on RDDs to answer the question. \n",
    "  * Code that uses methods such as `some_rdd.X().Y().Z()...` is allowed\n",
    "  * Code that uses function such as `some_func(...)` is not allowed\n"
   ]
  },
  {
   "cell_type": "code",
   "execution_count": 29,
   "id": "5602b4ff",
   "metadata": {},
   "outputs": [
    {
     "data": {
      "text/plain": [
       "[(1807, 'the'),\n",
       " (1068, 'of'),\n",
       " (1043, 'and'),\n",
       " (726, 'to'),\n",
       " (686, 'a'),\n",
       " (646, 'i'),\n",
       " (485, 'in'),\n",
       " (471, 'was'),\n",
       " (392, 'that'),\n",
       " (384, 'he')]"
      ]
     },
     "execution_count": 29,
     "metadata": {},
     "output_type": "execute_result"
    }
   ],
   "source": [
    "### Write your code here\n",
    "book_43_counts_sorted.take(10)"
   ]
  },
  {
   "cell_type": "code",
   "execution_count": 30,
   "id": "5306ce05",
   "metadata": {},
   "outputs": [],
   "source": [
    "# book_43_counts_filtered = book_43_counts_sorted.filter(lambda x:  in x)\n",
    "book_43_counts_filtered = book_43_counts_sorted.filter(lambda x: x[1] not in stop_words)"
   ]
  },
  {
   "cell_type": "code",
   "execution_count": 31,
   "id": "5248bdba",
   "metadata": {},
   "outputs": [
    {
     "data": {
      "text/plain": [
       "[(156, 's'),\n",
       " (131, 'utterson'),\n",
       " (130, 'said'),\n",
       " (128, 'mr'),\n",
       " (105, 'hyde'),\n",
       " (105, 'jekyll'),\n",
       " (98, 'gutenberg'),\n",
       " (88, 'project'),\n",
       " (85, 'man'),\n",
       " (72, 'lawyer')]"
      ]
     },
     "execution_count": 31,
     "metadata": {},
     "output_type": "execute_result"
    }
   ],
   "source": [
    "book_43_counts_filtered.take(10)"
   ]
  },
  {
   "cell_type": "markdown",
   "id": "3d0b3a80",
   "metadata": {},
   "source": [
    "### Q11\n",
    "\n",
    "* How many words are left in `book_43_counts_filtered` after removing the stop words"
   ]
  },
  {
   "cell_type": "code",
   "execution_count": 32,
   "id": "a5bdf083",
   "metadata": {},
   "outputs": [
    {
     "data": {
      "text/plain": [
       "4034"
      ]
     },
     "execution_count": 32,
     "metadata": {},
     "output_type": "execute_result"
    }
   ],
   "source": [
    "### Write your code here\n",
    "book_43_counts_filtered.count()"
   ]
  },
  {
   "cell_type": "markdown",
   "id": "23ffd755",
   "metadata": {},
   "source": [
    "### Q12 \n",
    "\n",
    "* Create a function called *process_RDD* that combines the relevant steps you proposed above to make it convenient to apply them to the remaining four books. Your function should accept an input text file path and:\n",
    " * Reads in the file as a textRDD\n",
    " * Cleans and splits the line using `clean_split_line`\n",
    " * Filters out the stop words\n",
    " * Returns a word count RDD where each item is a tuple of words and its count.\n",
    " \n"
   ]
  },
  {
   "cell_type": "code",
   "execution_count": 33,
   "id": "eff5d5e8",
   "metadata": {},
   "outputs": [],
   "source": [
    "### Write your code here\n",
    "\n",
    "def process_RDD(book_path):\n",
    "    book = sc.textFile(book_path, minPartitions=96)\n",
    "    words = book.flatMap(clean_split_line)\n",
    "    words_with_ones = words.map(lambda x: (x, 1))\n",
    "    sorted_words_with_ones = words_with_ones.sortByKey()\n",
    "    book_counts = sorted_words_with_ones.reduceByKey(lambda x,y: x+y)\n",
    "    book_counts2 = book_counts.map(lambda x: (x[1], x[0]))\n",
    "#     book_43_counts_sorted = book_43_counts2.sortByKey(False) In case it stops working, maybe this is reason\n",
    "    stopWords = _stop_words.ENGLISH_STOP_WORDS\n",
    "    stop_words = list(stopWords)\n",
    "    book_wout_stops = book_counts2.filter(lambda x: x[1] not in stop_words)\n",
    "    book = book_wout_stops.sortByKey(False) #False means descending I think\n",
    "\n",
    "    return book\n",
    "\n"
   ]
  },
  {
   "cell_type": "code",
   "execution_count": 34,
   "id": "971e75d7",
   "metadata": {},
   "outputs": [
    {
     "name": "stderr",
     "output_type": "stream",
     "text": [
      "                                                                                \r"
     ]
    }
   ],
   "source": [
    "booky = process_RDD(\"./data/43.txt\")"
   ]
  },
  {
   "cell_type": "code",
   "execution_count": 35,
   "id": "7c4196c0",
   "metadata": {},
   "outputs": [
    {
     "data": {
      "text/plain": [
       "pyspark.rdd.PipelinedRDD"
      ]
     },
     "execution_count": 35,
     "metadata": {},
     "output_type": "execute_result"
    }
   ],
   "source": [
    "type(booky)"
   ]
  },
  {
   "cell_type": "code",
   "execution_count": 36,
   "id": "0dc15333",
   "metadata": {},
   "outputs": [
    {
     "data": {
      "text/plain": [
       "[(156, 's'),\n",
       " (131, 'utterson'),\n",
       " (130, 'said'),\n",
       " (128, 'mr'),\n",
       " (105, 'hyde'),\n",
       " (105, 'jekyll'),\n",
       " (98, 'gutenberg'),\n",
       " (88, 'project'),\n",
       " (85, 'man'),\n",
       " (72, 'lawyer')]"
      ]
     },
     "execution_count": 36,
     "metadata": {},
     "output_type": "execute_result"
    }
   ],
   "source": [
    "booky.take(10)"
   ]
  },
  {
   "cell_type": "code",
   "execution_count": 37,
   "id": "de8f6be1",
   "metadata": {},
   "outputs": [
    {
     "name": "stdout",
     "output_type": "stream",
     "text": [
      "[]\n"
     ]
    },
    {
     "data": {
      "text/plain": [
       "4034"
      ]
     },
     "execution_count": 37,
     "metadata": {},
     "output_type": "execute_result"
    }
   ],
   "source": [
    "#How to create a new RDD from only the word \"a\"\n",
    "stuff = booky.filter(lambda x: \"the\" in x)\n",
    "print(stuff.take(1))\n",
    "booky.count()"
   ]
  },
  {
   "cell_type": "markdown",
   "id": "ba59c9c5",
   "metadata": {},
   "source": [
    "### Q13 \n",
    "\n",
    "Apply the function `process_RDD` to `book_84`, `book_398` and `book_3296` and save the results to variables `book_84_counts_filtered`, `book_398_counts_filtered` and `book_3296_counts_filtered` respectively. How many distinct words does each book contain after filtering the stop words.\n"
   ]
  },
  {
   "cell_type": "code",
   "execution_count": 38,
   "id": "08a24f66",
   "metadata": {},
   "outputs": [
    {
     "name": "stderr",
     "output_type": "stream",
     "text": [
      "                                                                                \r"
     ]
    }
   ],
   "source": [
    "### Write your code here\n",
    "book_84_counts_filtered = process_RDD(\"./data/84.txt\")\n",
    "book_398_counts_filtered = process_RDD(\"./data/398.txt\")\n",
    "book_3296_counts_filtered = process_RDD(\"./data/3296.txt\")"
   ]
  },
  {
   "cell_type": "code",
   "execution_count": 39,
   "id": "4be07657",
   "metadata": {},
   "outputs": [
    {
     "name": "stdout",
     "output_type": "stream",
     "text": [
      "Book 84 distinct words # = 7016\n",
      "Book 398 distinct words # = 2421\n",
      "Book 3296 distinct words # = 7293\n"
     ]
    }
   ],
   "source": [
    "print(\"Book 84 distinct words # = {}\".format(book_84_counts_filtered.count()))\n",
    "print(\"Book 398 distinct words # = {}\".format(book_398_counts_filtered.count()))\n",
    "print(\"Book 3296 distinct words # = {}\".format(book_3296_counts_filtered.count()))"
   ]
  },
  {
   "cell_type": "markdown",
   "id": "7fb9680f",
   "metadata": {},
   "source": [
    "### Q14 \n",
    "\n",
    "We discussed how to evaluate similarity between two texts using the number of words they share. We hypothesized that books that are similar should have more words in common than books that are dissimilar. If that holds, `book_398` and `book_3296`, which both pertain to religion, will have more words in common than, say, `book_84` and `book_398`. Test this hypothesis by writing code that compares and prints the number of words shared between `book_398` and `book_3296` and then between `book_84` and `book_398`.\n"
   ]
  },
  {
   "cell_type": "code",
   "execution_count": null,
   "id": "ffdeb317",
   "metadata": {},
   "outputs": [],
   "source": []
  },
  {
   "cell_type": "code",
   "execution_count": 40,
   "id": "ac6b73e0",
   "metadata": {},
   "outputs": [
    {
     "name": "stderr",
     "output_type": "stream",
     "text": [
      "                                                                                \r"
     ]
    },
    {
     "name": "stdout",
     "output_type": "stream",
     "text": [
      "(intersect_398_3296 count) = 1790\n"
     ]
    },
    {
     "name": "stderr",
     "output_type": "stream",
     "text": [
      "[Stage 133:===========================================>        (160 + 25) / 192]\r"
     ]
    },
    {
     "name": "stdout",
     "output_type": "stream",
     "text": [
      "(intersect_84_398 count) = 1691\n"
     ]
    },
    {
     "name": "stderr",
     "output_type": "stream",
     "text": [
      "\r",
      "                                                                                \r"
     ]
    }
   ],
   "source": [
    "### Write your code here\n",
    "intersect_398_3296 = book_398_counts_filtered.map(lambda x: x[1]).intersection(book_3296_counts_filtered.map(lambda x: x[1]))\n",
    "\n",
    "intersect_84_398 = book_84_counts_filtered.map(lambda x: x[1]).intersection(book_398_counts_filtered.map(lambda x: x[1]))\n",
    "\n",
    "print(\"(intersect_398_3296 count) = {}\".format(intersect_398_3296.count()))\n",
    "print(\"(intersect_84_398 count) = {}\".format(intersect_84_398.count()))"
   ]
  },
  {
   "cell_type": "markdown",
   "id": "cef9f326",
   "metadata": {},
   "source": [
    "### Q15\n",
    "\n",
    "* Based on the above, do you think counting the number of shared words is a good idea as a distance metric for evaluating topic similarity? Justify your answer?\n",
    "* Hint: What do *book_84* and *book_3296* have in common? "
   ]
  },
  {
   "cell_type": "markdown",
   "id": "6587ae14",
   "metadata": {},
   "source": [
    "#### Write your answer here\n",
    "\n",
    "* <p style=\"color: Green\">the two tests differ by only 5%.</p>\n",
    "* <p style=\"color: Green\">We can justify the answer by looking at word count per book. If two books (A and B) have 100 times as many words as the third (book C), [A: 5000wds, B: 5000wds, C: 50wds], books A and B will have more words in common just based on statistics, even if books A and C have much more in common.</p>\n",
    "* <p style=\"color: Green\">If we are comparing multiple books with roughly the same number of words, then this technique should work ok.</p>"
   ]
  },
  {
   "cell_type": "markdown",
   "id": "a6f8f857",
   "metadata": {},
   "source": [
    "## Part II \n",
    "\n",
    "Another approach to estimating similarity consists of computing the Euclidean distance across a set of words. For example, suppose we have 3 documents A, B and C with the following counts for the words `evolution`, `DNA`, `biology` and `finance`. \n",
    "\n",
    "```python \n",
    "A = [4, 9, 6, 8]\n",
    "B = [3, 7, 7, 10]\n",
    "C = [15, 10, 1, 1]\n",
    "```\n",
    "Although all documents contain exactly the four words, the number of times these words appear in each book may be indicative of thier topic. For example, documents `A` and `B` are more likely to be business related since they contain the word `finance` more frequently (8 and 10 times respectively). Document `C` may be a technical document since it focuses on more technical words (`evolution` and `DNA`) and less on the words `finance`.\n",
    "\n",
    "The Euclidean distance, which can be computed using the `scikit` snippet below, is more indicative of topic-relatedness between the two documents.\n",
    "\n",
    "```python\n",
    "from scipy.spatial.distance import euclidean \n",
    "print(f\"The Euclidean distance between A and B is: {euclidean(A, B)}\")\n",
    "\n",
    "print(f\"The Euclidean distance between A and C is: {euclidean(A, C)}\")\n",
    "\n",
    "print(f\"The Euclidean distance between B and C is: {euclidean(B, C)}\")\n",
    "```\n"
   ]
  },
  {
   "cell_type": "markdown",
   "id": "9abdc35e",
   "metadata": {},
   "source": [
    "### Q16\n",
    "\n",
    "To calculate the Euclidean distance, we must first identify the set of words by which we will compare the documents. Here, we will explore the words that are common to all 4 documents. We will store the data in a matrix called `counts_matrix`.\n",
    "\n",
    "Start by finding the words that are common to all four documents after stop-word filtering and store the counts for each word in a column of `counts_matrix`. \n",
    "\n",
    "To take the previous example, you can generate an emtpy matrix with 3 lines (documents `A`, `B` and `C`) and 4 columns (words `evolution`, `DNA`, `biology` and `finance`) using the following code.\n",
    "\n",
    "```python\n",
    "import numpy as np\n",
    "counts_matrix = np.zeros([3,4])\n",
    "```\n",
    "\n",
    "After generting the counts, you can fill the counts for a document, say `A`, using the following code:\n",
    "\n",
    "```python\n",
    "counts_matrix[0, :] = [4, 9, 6, 8] \n",
    "```\n",
    "* Other than for building `counts_matrix` you should exclusively use operations or actions on the `RDD` to answer this question. \n",
    "  * Code that uses methods such as `some_rdd.X().Y().Z()...` is allowed\n",
    "  * Code that uses functions such as `some_func(...)` is not allowed\n"
   ]
  },
  {
   "cell_type": "code",
   "execution_count": 41,
   "id": "c3cae946",
   "metadata": {},
   "outputs": [
    {
     "name": "stderr",
     "output_type": "stream",
     "text": [
      "                                                                                \r"
     ]
    },
    {
     "data": {
      "text/plain": [
       "1162"
      ]
     },
     "execution_count": 41,
     "metadata": {},
     "output_type": "execute_result"
    }
   ],
   "source": [
    "### Write your code here\n",
    "import numpy as np\n",
    "\n",
    "book_43_counts_filtered = process_RDD(\"./data/43.txt\")\n",
    "\n",
    "intersect_43_84_398_3296 = book_398_counts_filtered.map(lambda x: x[1]).intersection(book_3296_counts_filtered.map(lambda x: x[1])).intersection(book_84_counts_filtered.map(lambda x: x[1])).intersection(book_43_counts_filtered.map(lambda x: x[1]))\n",
    "\n",
    "colCount = intersect_43_84_398_3296.count() #about 1500\n",
    "colCount"
   ]
  },
  {
   "cell_type": "code",
   "execution_count": 42,
   "id": "ce01de65",
   "metadata": {},
   "outputs": [
    {
     "data": {
      "text/plain": [
       "list"
      ]
     },
     "execution_count": 42,
     "metadata": {},
     "output_type": "execute_result"
    }
   ],
   "source": [
    "type(intersect_43_84_398_3296.take(10))"
   ]
  },
  {
   "cell_type": "code",
   "execution_count": 43,
   "id": "e3543a55",
   "metadata": {},
   "outputs": [
    {
     "data": {
      "text/plain": [
       "pyspark.rdd.PipelinedRDD"
      ]
     },
     "execution_count": 43,
     "metadata": {},
     "output_type": "execute_result"
    }
   ],
   "source": [
    "type(book_43_counts_filtered)"
   ]
  },
  {
   "cell_type": "code",
   "execution_count": 44,
   "id": "f9454bd9",
   "metadata": {},
   "outputs": [
    {
     "data": {
      "text/plain": [
       "[(156, 's'),\n",
       " (131, 'utterson'),\n",
       " (130, 'said'),\n",
       " (128, 'mr'),\n",
       " (105, 'hyde'),\n",
       " (105, 'jekyll'),\n",
       " (98, 'gutenberg'),\n",
       " (88, 'project'),\n",
       " (85, 'man'),\n",
       " (72, 'lawyer')]"
      ]
     },
     "execution_count": 44,
     "metadata": {},
     "output_type": "execute_result"
    }
   ],
   "source": [
    "book_43_counts_filtered.take(10)"
   ]
  },
  {
   "cell_type": "code",
   "execution_count": 45,
   "id": "050f22b4",
   "metadata": {},
   "outputs": [
    {
     "data": {
      "text/plain": [
       "['belief',\n",
       " 'indirectly',\n",
       " 'returns',\n",
       " 'seek',\n",
       " 'dust',\n",
       " 'iron',\n",
       " 'employee',\n",
       " 'calculate',\n",
       " 'volunteer',\n",
       " 'important']"
      ]
     },
     "execution_count": 45,
     "metadata": {},
     "output_type": "execute_result"
    }
   ],
   "source": [
    "intersect_43_84_398_3296.take(10)"
   ]
  },
  {
   "cell_type": "code",
   "execution_count": 46,
   "id": "a33fb162",
   "metadata": {},
   "outputs": [],
   "source": [
    "# book_43_counts_filtered = book_43_counts_sorted.filter(lambda x:  in x)\n",
    "book_43_counts_filtered = book_43_counts_sorted.filter(lambda x: x[1] not in stop_words)"
   ]
  },
  {
   "cell_type": "code",
   "execution_count": 47,
   "id": "a43b6865",
   "metadata": {},
   "outputs": [
    {
     "data": {
      "text/plain": [
       "[(1807, 'the'),\n",
       " (1068, 'of'),\n",
       " (1043, 'and'),\n",
       " (726, 'to'),\n",
       " (686, 'a'),\n",
       " (646, 'i'),\n",
       " (485, 'in'),\n",
       " (471, 'was'),\n",
       " (392, 'that'),\n",
       " (384, 'he')]"
      ]
     },
     "execution_count": 47,
     "metadata": {},
     "output_type": "execute_result"
    }
   ],
   "source": [
    "type(book_43_counts_sorted)\n",
    "book_43_counts_sorted.take(10)"
   ]
  },
  {
   "cell_type": "code",
   "execution_count": 48,
   "id": "a1ea3b91",
   "metadata": {},
   "outputs": [
    {
     "name": "stderr",
     "output_type": "stream",
     "text": [
      "\r",
      "[Stage 246:=========================================>          (308 + 25) / 384]\r",
      "\r",
      "                                                                                \r"
     ]
    }
   ],
   "source": [
    "intersection_list = list(intersect_43_84_398_3296.collect())"
   ]
  },
  {
   "cell_type": "code",
   "execution_count": 49,
   "id": "3f5863bf",
   "metadata": {},
   "outputs": [],
   "source": [
    "words_counts_43 = book_43_counts_filtered.filter(lambda x: x[1] in intersection_list)\n",
    "words_counts_84 = book_84_counts_filtered.filter(lambda x: x[1] in intersection_list)\n",
    "words_counts_398 = book_398_counts_filtered.filter(lambda x: x[1] in intersection_list)\n",
    "words_counts_3296 = book_3296_counts_filtered.filter(lambda x: x[1] in intersection_list)\n",
    "\n"
   ]
  },
  {
   "cell_type": "code",
   "execution_count": 50,
   "id": "dafb2bfb",
   "metadata": {},
   "outputs": [],
   "source": [
    "words_counts_43 = words_counts_43.map(lambda x: (x[1], x[0]))"
   ]
  },
  {
   "cell_type": "code",
   "execution_count": 51,
   "id": "dfbf4d7c",
   "metadata": {},
   "outputs": [],
   "source": [
    "words_counts_84 = words_counts_84.map(lambda x: (x[1], x[0]))"
   ]
  },
  {
   "cell_type": "code",
   "execution_count": 52,
   "id": "e091ea84",
   "metadata": {},
   "outputs": [],
   "source": [
    "words_counts_398 = words_counts_398.map(lambda x: (x[1], x[0]))"
   ]
  },
  {
   "cell_type": "code",
   "execution_count": 53,
   "id": "b18cedd4",
   "metadata": {},
   "outputs": [],
   "source": [
    "words_counts_3296 = words_counts_3296.map(lambda x: (x[1], x[0]))"
   ]
  },
  {
   "cell_type": "code",
   "execution_count": 54,
   "id": "cc6e5571",
   "metadata": {},
   "outputs": [
    {
     "name": "stdout",
     "output_type": "stream",
     "text": [
      "[('zip', 1), ('younger', 3), ('young', 5), ('years', 11), ('www', 10), ('wrote', 2), ('wrong', 6), ('written', 8), ('writing', 6), ('write', 5)]\n",
      "\n",
      "[('zip', 1), ('younger', 9), ('young', 30), ('years', 45), ('www', 10), ('wrote', 4), ('wrong', 1), ('written', 7), ('writing', 6), ('write', 11)]\n",
      "\n",
      "[('zip', 1), ('younger', 2), ('young', 1), ('years', 19), ('www', 6), ('wrote', 1), ('wrong', 3), ('written', 6), ('writing', 4), ('write', 1)]\n",
      "\n",
      "[('zip', 1), ('younger', 4), ('young', 15), ('years', 51), ('www', 10), ('wrote', 12), ('wrong', 2), ('written', 25), ('writing', 13), ('write', 8)]\n"
     ]
    }
   ],
   "source": [
    "words_counts_43 = words_counts_43.sortByKey(False)\n",
    "words_counts_84 = words_counts_84.sortByKey(False)\n",
    "words_counts_398 = words_counts_398.sortByKey(False)\n",
    "words_counts_3296 = words_counts_3296.sortByKey(False)\n",
    "\n",
    "print(words_counts_43.take(10))\n",
    "print()\n",
    "print(words_counts_84.take(10))\n",
    "print()\n",
    "print(words_counts_398.take(10))\n",
    "print()\n",
    "print(words_counts_3296.take(10))"
   ]
  },
  {
   "cell_type": "code",
   "execution_count": 55,
   "id": "dae08d89",
   "metadata": {},
   "outputs": [
    {
     "name": "stdout",
     "output_type": "stream",
     "text": [
      "[[0. 0. 0. ... 0. 0. 0.]\n",
      " [0. 0. 0. ... 0. 0. 0.]\n",
      " [0. 0. 0. ... 0. 0. 0.]\n",
      " [0. 0. 0. ... 0. 0. 0.]]\n"
     ]
    }
   ],
   "source": [
    "counts_matrix = np.zeros([4, colCount])\n",
    "print(counts_matrix)"
   ]
  },
  {
   "cell_type": "code",
   "execution_count": 56,
   "id": "2f3422f1",
   "metadata": {},
   "outputs": [],
   "source": [
    "counts_matrix[0, :] = list(words_counts_43.map(lambda x: x[1]).collect())\n",
    "counts_matrix[1, :] = list(words_counts_84.map(lambda x: x[1]).collect())\n",
    "counts_matrix[2, :] = list(words_counts_398.map(lambda x: x[1]).collect())\n",
    "counts_matrix[3, :] = list(words_counts_3296.map(lambda x: x[1]).collect())"
   ]
  },
  {
   "cell_type": "markdown",
   "id": "0c00dc24",
   "metadata": {},
   "source": [
    "<h1 style=\"color: green\">Counts Matrix</h1>"
   ]
  },
  {
   "cell_type": "code",
   "execution_count": 57,
   "id": "dc489ba6",
   "metadata": {},
   "outputs": [
    {
     "name": "stdout",
     "output_type": "stream",
     "text": [
      "[[ 1.  3.  5. ...  2.  3.  1.]\n",
      " [ 1.  9. 30. ...  4.  9.  1.]\n",
      " [ 1.  2.  1. ... 16.  5.  1.]\n",
      " [ 1.  4. 15. ...  3. 36. 16.]]\n"
     ]
    }
   ],
   "source": [
    "print(counts_matrix)"
   ]
  },
  {
   "cell_type": "markdown",
   "id": "124bcdd8",
   "metadata": {},
   "source": [
    "### Q17\n",
    "\n",
    "Compute the Euclidean distance between `book_398` and `book_3296`, which both talk about religion and `book_84` and `book_398`. What do you conclude about using the Euclidean distance for evaluating topic relatedness across documents?\n"
   ]
  },
  {
   "cell_type": "code",
   "execution_count": 58,
   "id": "7b6a81dd",
   "metadata": {},
   "outputs": [],
   "source": [
    "### Write your code here\n",
    "from scipy.spatial.distance import euclidean "
   ]
  },
  {
   "cell_type": "markdown",
   "id": "aa67e226",
   "metadata": {},
   "source": [
    "<h1 style=\"color: green\">Euclidean Distances</h1>"
   ]
  },
  {
   "cell_type": "code",
   "execution_count": 59,
   "id": "970721ed",
   "metadata": {},
   "outputs": [
    {
     "name": "stdout",
     "output_type": "stream",
     "text": [
      "The Euclidean distance between book_398 and book_3296 is: 1156.6628722320086\n",
      "The Euclidean distance between book_84 and book_398 is: 751.6688100486809\n"
     ]
    }
   ],
   "source": [
    "print(f\"The Euclidean distance between book_398 and book_3296 is: {euclidean(counts_matrix[2], counts_matrix[3])}\")\n",
    "print(f\"The Euclidean distance between book_84 and book_398 is: {euclidean(counts_matrix[1], counts_matrix[2])}\")"
   ]
  },
  {
   "cell_type": "markdown",
   "id": "89981b46",
   "metadata": {},
   "source": [
    "#### Write your justification here\n",
    "* Euclidean distance seems much better than just counting the words based on the larger difference when comparing the three books."
   ]
  },
  {
   "cell_type": "markdown",
   "id": "3f4e54e6",
   "metadata": {},
   "source": [
    "### Q18\n",
    "\n",
    "Bonus question (5 points): Can you think of a few things we could do to improve similarity between documents that pertain to the same topic. Justify your answer without giving code"
   ]
  },
  {
   "cell_type": "markdown",
   "id": "5c8c6de1",
   "metadata": {},
   "source": [
    "#### Write your answer here\n"
   ]
  },
  {
   "cell_type": "markdown",
   "id": "aedf1d74",
   "metadata": {},
   "source": [
    "## Part III\n",
    "\n",
    "In this part we will build some basic analytics for a dataset consisting of flight arrival and departure details for all commercial flights within the USA in one month. While this dataset can be managed using Pandas (<1M records), scaling to a yearly or longer timeframe will greatly benefit from using a distributed computing framework such as `Spark`.\n",
    "\n",
    "Here, you should use exclusively `SparkDatFrames. \n",
    "\n",
    "We want to analyze this dataset to better schedule trips.  For example:\n",
    " * Avoid airlines carriers that are most often associated with delays.\n",
    " * Avoid departure days where delays are most frequent.\n",
    " * Avoid airports which are associated with delays or long taxxying time.\n",
    "* etc.\n",
    " \n",
    "\n",
    "The information about the fields contained in the data file can be found [here](https://dataverse.harvard.edu/dataset.xhtml;jsessionid=0414e25969eccd0e88ae4d64fa0b?persistentId=doi%3A10.7910%2FDVN%2FHG7NV7&version=&q=&fileTypeGroupFacet=&fileTag=%221.+Documentation%22&fileSortField=date&fileSortOrder=desc)\n"
   ]
  },
  {
   "cell_type": "markdown",
   "id": "149805af",
   "metadata": {},
   "source": [
    "### Q19\n",
    "\n",
    "Load the file `flight_info.csv` into a spark `DataFrame` called `fight_info`.\n",
    "\n",
    "  * Note that you will need to create a sparkSession prior to loading the data\n",
    "  \n",
    "* How many entries does the file contain?\n",
    "\n"
   ]
  },
  {
   "cell_type": "code",
   "execution_count": 60,
   "id": "3ad5e6ad",
   "metadata": {},
   "outputs": [],
   "source": [
    "### Write your code here\n",
    "from pyspark.sql import SparkSession\n",
    "session = SparkSession(sc)"
   ]
  },
  {
   "cell_type": "markdown",
   "id": "f9d9aeb1",
   "metadata": {},
   "source": [
    "<h1 style=\"color: green\">Number of entries in file</h1>"
   ]
  },
  {
   "cell_type": "code",
   "execution_count": 61,
   "id": "e28dd641",
   "metadata": {},
   "outputs": [
    {
     "name": "stdout",
     "output_type": "stream",
     "text": [
      "450017\n",
      "CPU times: user 2.65 ms, sys: 1.9 ms, total: 4.55 ms\n",
      "Wall time: 4.02 s\n"
     ]
    }
   ],
   "source": [
    "%%time\n",
    "\n",
    "flight_info = session.read.csv(\"./data/flight_info.csv\", header=True, inferSchema=True)\n",
    "print(flight_info.count())\n",
    "# flight_info.head(1)"
   ]
  },
  {
   "cell_type": "markdown",
   "id": "4fad81f1",
   "metadata": {},
   "source": [
    "### Q20\n",
    "\n",
    "Use `pySpark-SQL` or `pandas-like syntax to compute the airlines represented in this dataset\n",
    "The airline information is stored in a field called UniqueCarrier\n",
    "* UniqueCarrier: Represents the unique carrier code (ex.AA = American Airlines) \n"
   ]
  },
  {
   "cell_type": "code",
   "execution_count": 62,
   "id": "73fd7b0b",
   "metadata": {},
   "outputs": [
    {
     "name": "stdout",
     "output_type": "stream",
     "text": [
      "root\n",
      " |-- ID: integer (nullable = true)\n",
      " |-- DayOfWeek: integer (nullable = true)\n",
      " |-- UniqueCarrier: string (nullable = true)\n",
      " |-- FlightNum: integer (nullable = true)\n",
      " |-- Origin: string (nullable = true)\n",
      " |-- Dest: string (nullable = true)\n",
      " |-- CRSDepTime: integer (nullable = true)\n",
      " |-- DepTime: double (nullable = true)\n",
      " |-- TaxiOut: double (nullable = true)\n",
      " |-- WheelsOff: double (nullable = true)\n",
      " |-- WheelsOn: double (nullable = true)\n",
      " |-- TaxiIn: double (nullable = true)\n",
      " |-- CRSArrTime: integer (nullable = true)\n",
      " |-- ArrTime: double (nullable = true)\n",
      " |-- Cancelled: double (nullable = true)\n",
      " |-- CancellationCode: string (nullable = true)\n",
      " |-- Distance: double (nullable = true)\n",
      " |-- CarrierDelay: double (nullable = true)\n",
      " |-- WeatherDelay: double (nullable = true)\n",
      " |-- NASDelay: double (nullable = true)\n",
      " |-- SecurityDelay: double (nullable = true)\n",
      " |-- LateAircraftDelay: double (nullable = true)\n",
      "\n"
     ]
    }
   ],
   "source": [
    "### Write your code here\n",
    "flight_info.printSchema()"
   ]
  },
  {
   "cell_type": "code",
   "execution_count": 63,
   "id": "62f7cb19",
   "metadata": {},
   "outputs": [],
   "source": [
    "uniqueCarrier = flight_info.select('UniqueCarrier').distinct()\n"
   ]
  },
  {
   "cell_type": "markdown",
   "id": "33b101b2",
   "metadata": {},
   "source": [
    "<h1 style=\"color: green\">Number of unique airlines</h1>"
   ]
  },
  {
   "cell_type": "code",
   "execution_count": 64,
   "id": "fb6d4607",
   "metadata": {},
   "outputs": [
    {
     "data": {
      "text/plain": [
       "12"
      ]
     },
     "execution_count": 64,
     "metadata": {},
     "output_type": "execute_result"
    }
   ],
   "source": [
    "uniqueCarrier.count()"
   ]
  },
  {
   "cell_type": "code",
   "execution_count": 65,
   "id": "3b3ff2b8",
   "metadata": {},
   "outputs": [
    {
     "data": {
      "text/plain": [
       "[Row(UniqueCarrier='AA'),\n",
       " Row(UniqueCarrier='EV'),\n",
       " Row(UniqueCarrier='B6'),\n",
       " Row(UniqueCarrier='DL'),\n",
       " Row(UniqueCarrier='UA'),\n",
       " Row(UniqueCarrier='NK'),\n",
       " Row(UniqueCarrier='OO'),\n",
       " Row(UniqueCarrier='F9'),\n",
       " Row(UniqueCarrier='HA'),\n",
       " Row(UniqueCarrier='WN'),\n",
       " Row(UniqueCarrier='AS'),\n",
       " Row(UniqueCarrier='VX')]"
      ]
     },
     "execution_count": 65,
     "metadata": {},
     "output_type": "execute_result"
    }
   ],
   "source": [
    "uniqueCarrier.head(20)"
   ]
  },
  {
   "cell_type": "markdown",
   "id": "1349b2f5",
   "metadata": {},
   "source": [
    "### Q21\n",
    "\n",
    "The data file contains various other fields, two of which are useful for answering the next question.\n",
    "\n",
    "* CRSDepTime: Represents the scheduled departure time\n",
    "* DepTime: Represents the actual departure time\n",
    "\n",
    "Compute the number of flights delayed per each carried code represented in this dataset. Sort the data by decreasing order of delays.\n",
    "  * A delay is observed when `DepTime` > `CRSDepTime`\n"
   ]
  },
  {
   "cell_type": "code",
   "execution_count": 66,
   "id": "c72cff25",
   "metadata": {},
   "outputs": [
    {
     "data": {
      "text/plain": [
       "[Row(ID=0, DayOfWeek=2, UniqueCarrier='AA', FlightNum=494, Origin='CLT', Dest='PHX', CRSDepTime=1619, DepTime=1616.0, TaxiOut=17.0, WheelsOff=1633.0, WheelsOn=1837.0, TaxiIn=5.0, CRSArrTime=1856, ArrTime=1842.0, Cancelled=0.0, CancellationCode=None, Distance=1773.0, CarrierDelay=None, WeatherDelay=None, NASDelay=None, SecurityDelay=None, LateAircraftDelay=None)]"
      ]
     },
     "execution_count": 66,
     "metadata": {},
     "output_type": "execute_result"
    }
   ],
   "source": [
    "### Write your code here\n",
    "flight_info.createOrReplaceTempView(\"Flights\")\n",
    "session.sql('select * from Flights').head(1)"
   ]
  },
  {
   "cell_type": "code",
   "execution_count": 67,
   "id": "1f60cfb8",
   "metadata": {},
   "outputs": [
    {
     "name": "stdout",
     "output_type": "stream",
     "text": [
      "root\n",
      " |-- ID: integer (nullable = true)\n",
      " |-- DayOfWeek: integer (nullable = true)\n",
      " |-- UniqueCarrier: string (nullable = true)\n",
      " |-- FlightNum: integer (nullable = true)\n",
      " |-- Origin: string (nullable = true)\n",
      " |-- Dest: string (nullable = true)\n",
      " |-- CRSDepTime: integer (nullable = true)\n",
      " |-- DepTime: double (nullable = true)\n",
      " |-- TaxiOut: double (nullable = true)\n",
      " |-- WheelsOff: double (nullable = true)\n",
      " |-- WheelsOn: double (nullable = true)\n",
      " |-- TaxiIn: double (nullable = true)\n",
      " |-- CRSArrTime: integer (nullable = true)\n",
      " |-- ArrTime: double (nullable = true)\n",
      " |-- Cancelled: double (nullable = true)\n",
      " |-- CancellationCode: string (nullable = true)\n",
      " |-- Distance: double (nullable = true)\n",
      " |-- CarrierDelay: double (nullable = true)\n",
      " |-- WeatherDelay: double (nullable = true)\n",
      " |-- NASDelay: double (nullable = true)\n",
      " |-- SecurityDelay: double (nullable = true)\n",
      " |-- LateAircraftDelay: double (nullable = true)\n",
      "\n"
     ]
    }
   ],
   "source": [
    "flight_info.printSchema()"
   ]
  },
  {
   "cell_type": "code",
   "execution_count": 134,
   "id": "b78edee5",
   "metadata": {},
   "outputs": [],
   "source": [
    "flight_delays = session.sql(\"\"\"\n",
    "SELECT UniqueCarrier, COUNT(*) \n",
    "FROM Flights\n",
    "WHERE DepTime > CRSDepTime\n",
    "GROUP BY UniqueCarrier;\n",
    "\"\"\")"
   ]
  },
  {
   "cell_type": "markdown",
   "id": "d20c2f5b",
   "metadata": {},
   "source": [
    "<h1 style=\"color: green\">Flight Delays per Airline</h1>"
   ]
  },
  {
   "cell_type": "code",
   "execution_count": 135,
   "id": "9aa28128",
   "metadata": {},
   "outputs": [
    {
     "data": {
      "text/plain": [
       "[Row(UniqueCarrier='AA', count(1)=23461),\n",
       " Row(UniqueCarrier='EV', count(1)=11596),\n",
       " Row(UniqueCarrier='B6', count(1)=9396),\n",
       " Row(UniqueCarrier='DL', count(1)=24334),\n",
       " Row(UniqueCarrier='UA', count(1)=17701),\n",
       " Row(UniqueCarrier='NK', count(1)=4151),\n",
       " Row(UniqueCarrier='OO', count(1)=16751),\n",
       " Row(UniqueCarrier='F9', count(1)=2988),\n",
       " Row(UniqueCarrier='HA', count(1)=1939),\n",
       " Row(UniqueCarrier='WN', count(1)=47472),\n",
       " Row(UniqueCarrier='AS', count(1)=4488),\n",
       " Row(UniqueCarrier='VX', count(1)=2648)]"
      ]
     },
     "execution_count": 135,
     "metadata": {},
     "output_type": "execute_result"
    }
   ],
   "source": [
    "flight_delays.head(20)"
   ]
  },
  {
   "cell_type": "code",
   "execution_count": 121,
   "id": "ababfed7",
   "metadata": {},
   "outputs": [
    {
     "data": {
      "text/plain": [
       "pyspark.sql.dataframe.DataFrame"
      ]
     },
     "execution_count": 121,
     "metadata": {},
     "output_type": "execute_result"
    }
   ],
   "source": [
    "type(countings)"
   ]
  },
  {
   "cell_type": "markdown",
   "id": "1645593b",
   "metadata": {},
   "source": [
    "### Q22\n",
    "\n",
    " Use the file `airlines.csv` to find the the complete name of the airline. Here, you are required to load the file as a pyspark DataFrame; call it `airlines_info`, and repeat the query above while including the `flights.csv `file in your query ( requires doing a `join`) so that you can also display the full name of the carrier (second column). \n",
    "\n",
    "The result will look (approximately) like:\n",
    "\n",
    "```\n",
    "[Row(UniqueCarrier='WN', first(_c1)='Southwest Airlines', count=SOME_count),\n",
    " Row(UniqueCarrier='DL', first(_c1)='Delta Air Lines', count=SOME_count),\n",
    " Row(UniqueCarrier='AA', first(_c1)='American Airlines', count=SOME_count),\n",
    " ...\n",
    " ]\n",
    "```\n",
    "\n",
    "The carrier code in the `airlines.csv` file is provided in the 4th (1-based) column\n",
    "\n",
    "Note that the file `airlines.csv` does not have column header. Hence, you need to print one line of your dataset to see what names Spark gave to the columns. Use the name provided by Spark in your query."
   ]
  },
  {
   "cell_type": "code",
   "execution_count": 70,
   "id": "30cea22b",
   "metadata": {},
   "outputs": [
    {
     "name": "stdout",
     "output_type": "stream",
     "text": [
      "6161\n",
      "[Row(_c0=1, _c1='Private flight', _c2='\\\\N', _c3='-', _c4='N/A', _c5=None, _c6=None, _c7='Y'), Row(_c0=2, _c1='135 Airways', _c2='\\\\N', _c3=None, _c4='GNL', _c5='GENERAL', _c6='United States', _c7='N')]\n"
     ]
    }
   ],
   "source": [
    "### Write your code here\n",
    "airlines_info = session.read.csv(\"./data/airlines.csv\", header=False, inferSchema=True)\n",
    "print(airlines_info.count())\n",
    "print(airlines_info.head(2))\n",
    "airlines_info.createOrReplaceTempView(\"airlines\")"
   ]
  },
  {
   "cell_type": "code",
   "execution_count": 71,
   "id": "22e3f2ee",
   "metadata": {},
   "outputs": [
    {
     "data": {
      "text/plain": [
       "[Row(_c1='Private flight')]"
      ]
     },
     "execution_count": 71,
     "metadata": {},
     "output_type": "execute_result"
    }
   ],
   "source": [
    "session.sql('select _c1 from airlines').head(1)"
   ]
  },
  {
   "cell_type": "code",
   "execution_count": 72,
   "id": "87babc30",
   "metadata": {},
   "outputs": [
    {
     "data": {
      "text/plain": [
       "[Row(_c3='-'), Row(_c3=None), Row(_c3='1T'), Row(_c3=None), Row(_c3=None)]"
      ]
     },
     "execution_count": 72,
     "metadata": {},
     "output_type": "execute_result"
    }
   ],
   "source": [
    "session.sql(\"\"\"\n",
    "SELECT _c3\n",
    "FROM airlines;\n",
    "\"\"\").head(5)"
   ]
  },
  {
   "cell_type": "code",
   "execution_count": 195,
   "id": "06102415",
   "metadata": {},
   "outputs": [],
   "source": [
    "flight_delays_fullName = session.sql(\"\"\"\n",
    "SELECT UniqueCarrier, first(_c1), COUNT(*)\n",
    "FROM Flights FF\n",
    "INNER JOIN airlines AA\n",
    "on FF.UniqueCarrier = AA._c3\n",
    "WHERE DepTime > CRSDepTime\n",
    "GROUP BY UniqueCarrier;\n",
    "\"\"\")"
   ]
  },
  {
   "cell_type": "markdown",
   "id": "f1f4c50c",
   "metadata": {},
   "source": [
    "<h1 style=\"color: green\">Flight Delays per Airline</h1>"
   ]
  },
  {
   "cell_type": "code",
   "execution_count": 196,
   "id": "3540ecb0",
   "metadata": {},
   "outputs": [
    {
     "data": {
      "text/plain": [
       "[Row(UniqueCarrier='AA', first(_c1)='American Airlines', count(1)=23461),\n",
       " Row(UniqueCarrier='AS', first(_c1)='Alaska Airlines', count(1)=4488),\n",
       " Row(UniqueCarrier='B6', first(_c1)='JetBlue Airways', count(1)=9396),\n",
       " Row(UniqueCarrier='DL', first(_c1)='Delta Air Lines', count(1)=24334),\n",
       " Row(UniqueCarrier='EV', first(_c1)='Atlantic Southeast Airlines', count(1)=11596),\n",
       " Row(UniqueCarrier='F9', first(_c1)='Frontier Airlines', count(1)=2988),\n",
       " Row(UniqueCarrier='HA', first(_c1)='Hawaiian Airlines', count(1)=1939),\n",
       " Row(UniqueCarrier='NK', first(_c1)='Spirit Airlines', count(1)=4151),\n",
       " Row(UniqueCarrier='OO', first(_c1)='SkyWest', count(1)=16751),\n",
       " Row(UniqueCarrier='UA', first(_c1)='United Airlines', count(1)=17701),\n",
       " Row(UniqueCarrier='VX', first(_c1)='Virgin America', count(1)=2648),\n",
       " Row(UniqueCarrier='WN', first(_c1)='Southwest Airlines', count(1)=47472)]"
      ]
     },
     "execution_count": 196,
     "metadata": {},
     "output_type": "execute_result"
    }
   ],
   "source": [
    "flight_delays_fullName.head(20)"
   ]
  },
  {
   "cell_type": "markdown",
   "id": "4e0123a8",
   "metadata": {},
   "source": [
    "### Q23\n",
    "\n",
    "Compute the number of delays per company per day. The day is encoded as an integer in the column `DayOfWeek` in `fight_info`. You can display the day as an integer or map it into a string name of the week.\n",
    "Sort the data by airline code (UniqueCarrier) and by increasing values of DayOfWeek\n",
    "\n",
    "\n",
    "You results should look like the following\n",
    "\n"
   ]
  },
  {
   "cell_type": "code",
   "execution_count": 198,
   "id": "f9971baa",
   "metadata": {},
   "outputs": [
    {
     "data": {
      "text/plain": [
       "[Row(UniqueCarrier='AA', DayOfWeek=1, count(1)=4639),\n",
       " Row(UniqueCarrier='AA', DayOfWeek=2, count(1)=3288),\n",
       " Row(UniqueCarrier='AA', DayOfWeek=3, count(1)=2570),\n",
       " Row(UniqueCarrier='AA', DayOfWeek=4, count(1)=3142),\n",
       " Row(UniqueCarrier='AA', DayOfWeek=5, count(1)=3108),\n",
       " Row(UniqueCarrier='AA', DayOfWeek=6, count(1)=2509),\n",
       " Row(UniqueCarrier='AA', DayOfWeek=7, count(1)=4205),\n",
       " Row(UniqueCarrier='AS', DayOfWeek=1, count(1)=786),\n",
       " Row(UniqueCarrier='AS', DayOfWeek=2, count(1)=580),\n",
       " Row(UniqueCarrier='AS', DayOfWeek=3, count(1)=573),\n",
       " Row(UniqueCarrier='AS', DayOfWeek=4, count(1)=656),\n",
       " Row(UniqueCarrier='AS', DayOfWeek=5, count(1)=554),\n",
       " Row(UniqueCarrier='AS', DayOfWeek=6, count(1)=470),\n",
       " Row(UniqueCarrier='AS', DayOfWeek=7, count(1)=869),\n",
       " Row(UniqueCarrier='B6', DayOfWeek=1, count(1)=1754),\n",
       " Row(UniqueCarrier='B6', DayOfWeek=2, count(1)=1628),\n",
       " Row(UniqueCarrier='B6', DayOfWeek=3, count(1)=1109),\n",
       " Row(UniqueCarrier='B6', DayOfWeek=4, count(1)=1101),\n",
       " Row(UniqueCarrier='B6', DayOfWeek=5, count(1)=1175),\n",
       " Row(UniqueCarrier='B6', DayOfWeek=6, count(1)=900),\n",
       " Row(UniqueCarrier='B6', DayOfWeek=7, count(1)=1729),\n",
       " Row(UniqueCarrier='DL', DayOfWeek=1, count(1)=5573),\n",
       " Row(UniqueCarrier='DL', DayOfWeek=2, count(1)=3231),\n",
       " Row(UniqueCarrier='DL', DayOfWeek=3, count(1)=2390),\n",
       " Row(UniqueCarrier='DL', DayOfWeek=4, count(1)=2964),\n",
       " Row(UniqueCarrier='DL', DayOfWeek=5, count(1)=3002),\n",
       " Row(UniqueCarrier='DL', DayOfWeek=6, count(1)=2674),\n",
       " Row(UniqueCarrier='DL', DayOfWeek=7, count(1)=4500),\n",
       " Row(UniqueCarrier='EV', DayOfWeek=1, count(1)=2520),\n",
       " Row(UniqueCarrier='EV', DayOfWeek=2, count(1)=1921)]"
      ]
     },
     "execution_count": 198,
     "metadata": {},
     "output_type": "execute_result"
    }
   ],
   "source": [
    "### Write your code here\n",
    "session.sql(\"\"\"\n",
    "SELECT UniqueCarrier, DayOfWeek, COUNT(*)\n",
    "FROM Flights\n",
    "WHERE DepTime > CRSDepTime\n",
    "GROUP BY UniqueCarrier, DayOfWeek\n",
    "ORDER BY UniqueCarrier, DayOfWeek ASC;\n",
    "\"\"\").head(30)"
   ]
  },
  {
   "cell_type": "markdown",
   "id": "4c955760",
   "metadata": {},
   "source": [
    "### Q24  \n",
    "\n",
    "Counting the number of delayed flights per airline is misleading, as airlines with more flights are more likley to have delays than companies with substantially fiewer flights. \n",
    "\n",
    "Repeat the same query above but, for each carrier, normalize the counts of delays by the total number of flights for that carrier. \n"
   ]
  },
  {
   "cell_type": "code",
   "execution_count": 148,
   "id": "13ae9b5e",
   "metadata": {},
   "outputs": [],
   "source": [
    "### Write your code here\n",
    "Counts = session.sql(\"\"\"\n",
    "SELECT UniqueCarrier, first(_c1), COUNT(*)\n",
    "FROM Flights\n",
    "INNER JOIN airlines\n",
    "on Flights.UniqueCarrier = airlines._c3\n",
    "WHERE DepTime > CRSDepTime\n",
    "GROUP BY UniqueCarrier;\n",
    "\"\"\")\n",
    "\n",
    "Totals = session.sql(\"\"\"\n",
    "SELECT UniqueCarrier, COUNT(*) \n",
    "FROM Flights\n",
    "GROUP BY UniqueCarrier;\n",
    "\"\"\")"
   ]
  },
  {
   "cell_type": "code",
   "execution_count": 182,
   "id": "805e43bc",
   "metadata": {},
   "outputs": [
    {
     "data": {
      "text/plain": [
       "[Row(UniqueCarrier='AA', first(_c1)='American Airlines', count(1)=23461),\n",
       " Row(UniqueCarrier='AS', first(_c1)='Alaska Airlines', count(1)=4488),\n",
       " Row(UniqueCarrier='B6', first(_c1)='JetBlue Airways', count(1)=9396)]"
      ]
     },
     "execution_count": 182,
     "metadata": {},
     "output_type": "execute_result"
    }
   ],
   "source": [
    "Counts.take(3)"
   ]
  },
  {
   "cell_type": "code",
   "execution_count": 183,
   "id": "c8bbfd7b",
   "metadata": {},
   "outputs": [
    {
     "data": {
      "text/plain": [
       "[Row(UniqueCarrier='AA', count(1)=73132),\n",
       " Row(UniqueCarrier='EV', count(1)=35037),\n",
       " Row(UniqueCarrier='B6', count(1)=24602)]"
      ]
     },
     "execution_count": 183,
     "metadata": {},
     "output_type": "execute_result"
    }
   ],
   "source": [
    "Totals.take(3)"
   ]
  },
  {
   "cell_type": "code",
   "execution_count": 151,
   "id": "510a3c2a",
   "metadata": {},
   "outputs": [
    {
     "data": {
      "text/plain": [
       "[Row(UniqueCarrier='AA', first(_c1)='American Airlines', count(1)=23461)]"
      ]
     },
     "execution_count": 151,
     "metadata": {},
     "output_type": "execute_result"
    }
   ],
   "source": [
    "Counts.createOrReplaceTempView(\"counts\")\n",
    "Totals.createOrReplaceTempView(\"totals\")\n",
    "session.sql('select * from counts').head(1)"
   ]
  },
  {
   "cell_type": "code",
   "execution_count": 203,
   "id": "a80a8d3d",
   "metadata": {},
   "outputs": [
    {
     "data": {
      "text/plain": [
       "[Row(UniqueCarrier='AA', norm=0.32),\n",
       " Row(UniqueCarrier='EV', norm=0.33),\n",
       " Row(UniqueCarrier='B6', norm=0.38),\n",
       " Row(UniqueCarrier='DL', norm=0.35),\n",
       " Row(UniqueCarrier='UA', norm=0.42),\n",
       " Row(UniqueCarrier='NK', norm=0.33),\n",
       " Row(UniqueCarrier='OO', norm=0.33),\n",
       " Row(UniqueCarrier='F9', norm=0.39),\n",
       " Row(UniqueCarrier='HA', norm=0.31),\n",
       " Row(UniqueCarrier='WN', norm=0.44)]"
      ]
     },
     "execution_count": 203,
     "metadata": {},
     "output_type": "execute_result"
    }
   ],
   "source": [
    "norms = session.sql(\"\"\"\n",
    "SELECT c.UniqueCarrier, ROUND(c.`count(1)` / t.`count(1)`,2) AS norm\n",
    "FROM counts c\n",
    "INNER JOIN totals t\n",
    "on c.UniqueCarrier = t.UniqueCarrier;\n",
    "\"\"\")\n",
    "testing.head(10)"
   ]
  },
  {
   "cell_type": "code",
   "execution_count": 206,
   "id": "b516ea7a",
   "metadata": {},
   "outputs": [
    {
     "data": {
      "text/plain": [
       "[Row(UniqueCarrier='AA', first(_c1)='American Airlines', count(1)=23461),\n",
       " Row(UniqueCarrier='AS', first(_c1)='Alaska Airlines', count(1)=4488),\n",
       " Row(UniqueCarrier='B6', first(_c1)='JetBlue Airways', count(1)=9396),\n",
       " Row(UniqueCarrier='DL', first(_c1)='Delta Air Lines', count(1)=24334),\n",
       " Row(UniqueCarrier='EV', first(_c1)='Atlantic Southeast Airlines', count(1)=11596),\n",
       " Row(UniqueCarrier='F9', first(_c1)='Frontier Airlines', count(1)=2988),\n",
       " Row(UniqueCarrier='HA', first(_c1)='Hawaiian Airlines', count(1)=1939),\n",
       " Row(UniqueCarrier='NK', first(_c1)='Spirit Airlines', count(1)=4151),\n",
       " Row(UniqueCarrier='OO', first(_c1)='SkyWest', count(1)=16751),\n",
       " Row(UniqueCarrier='UA', first(_c1)='United Airlines', count(1)=17701),\n",
       " Row(UniqueCarrier='VX', first(_c1)='Virgin America', count(1)=2648),\n",
       " Row(UniqueCarrier='WN', first(_c1)='Southwest Airlines', count(1)=47472)]"
      ]
     },
     "execution_count": 206,
     "metadata": {},
     "output_type": "execute_result"
    }
   ],
   "source": [
    "original = session.sql(\"\"\"\n",
    "SELECT UniqueCarrier, first(_c1), COUNT(*)\n",
    "FROM Flights FF\n",
    "INNER JOIN airlines AA\n",
    "on FF.UniqueCarrier = AA._c3\n",
    "WHERE DepTime > CRSDepTime\n",
    "GROUP BY UniqueCarrier;\n",
    "\"\"\")\n",
    "original.head(20)"
   ]
  },
  {
   "cell_type": "code",
   "execution_count": 207,
   "id": "cd847dd4",
   "metadata": {},
   "outputs": [],
   "source": [
    "norms.createOrReplaceTempView(\"norms\")\n",
    "original.createOrReplaceTempView(\"original\")"
   ]
  },
  {
   "cell_type": "markdown",
   "id": "6428795b",
   "metadata": {},
   "source": [
    "<h1 style=\"color: green\">Flight Delays per Airline normalized</h1>"
   ]
  },
  {
   "cell_type": "code",
   "execution_count": 210,
   "id": "c1f38fc2",
   "metadata": {},
   "outputs": [
    {
     "data": {
      "text/plain": [
       "[Row(UniqueCarrier='AA', first(_c1)='American Airlines', norm=0.32),\n",
       " Row(UniqueCarrier='EV', first(_c1)='Atlantic Southeast Airlines', norm=0.33),\n",
       " Row(UniqueCarrier='B6', first(_c1)='JetBlue Airways', norm=0.38),\n",
       " Row(UniqueCarrier='DL', first(_c1)='Delta Air Lines', norm=0.35),\n",
       " Row(UniqueCarrier='UA', first(_c1)='United Airlines', norm=0.42),\n",
       " Row(UniqueCarrier='NK', first(_c1)='Spirit Airlines', norm=0.33),\n",
       " Row(UniqueCarrier='OO', first(_c1)='SkyWest', norm=0.33),\n",
       " Row(UniqueCarrier='F9', first(_c1)='Frontier Airlines', norm=0.39),\n",
       " Row(UniqueCarrier='HA', first(_c1)='Hawaiian Airlines', norm=0.31),\n",
       " Row(UniqueCarrier='WN', first(_c1)='Southwest Airlines', norm=0.44),\n",
       " Row(UniqueCarrier='AS', first(_c1)='Alaska Airlines', norm=0.31),\n",
       " Row(UniqueCarrier='VX', first(_c1)='Virgin America', norm=0.46)]"
      ]
     },
     "execution_count": 210,
     "metadata": {},
     "output_type": "execute_result"
    }
   ],
   "source": [
    "session.sql(\"\"\"\n",
    "SELECT o.UniqueCarrier, o.`first(_c1)`, n.norm \n",
    "FROM original o\n",
    "INNER JOIN norms n\n",
    "on o.UniqueCarrier = n.UniqueCarrier\n",
    "\"\"\").head(20)"
   ]
  },
  {
   "cell_type": "markdown",
   "id": "5b73b3e4",
   "metadata": {},
   "source": [
    "### Q25 \n",
    "\n",
    "Time the query above. How long did it take to run. \n",
    "  * Make sure you run the code a few times and compute the average run time.\n",
    "  * The above should be easy to implement if you use the correct Jupyter Notebook `magic` function\n",
    "  "
   ]
  },
  {
   "cell_type": "code",
   "execution_count": 211,
   "id": "7df43da8",
   "metadata": {},
   "outputs": [
    {
     "name": "stdout",
     "output_type": "stream",
     "text": [
      "12.6 ms ± 941 µs per loop (mean ± std. dev. of 5 runs, 5 loops each)\n"
     ]
    },
    {
     "data": {
      "text/plain": [
       "[Row(UniqueCarrier='AA', first(_c1)='American Airlines', count(1)=23461),\n",
       " Row(UniqueCarrier='AS', first(_c1)='Alaska Airlines', count(1)=4488),\n",
       " Row(UniqueCarrier='B6', first(_c1)='JetBlue Airways', count(1)=9396),\n",
       " Row(UniqueCarrier='DL', first(_c1)='Delta Air Lines', count(1)=24334),\n",
       " Row(UniqueCarrier='EV', first(_c1)='Atlantic Southeast Airlines', count(1)=11596),\n",
       " Row(UniqueCarrier='F9', first(_c1)='Frontier Airlines', count(1)=2988),\n",
       " Row(UniqueCarrier='HA', first(_c1)='Hawaiian Airlines', count(1)=1939),\n",
       " Row(UniqueCarrier='NK', first(_c1)='Spirit Airlines', count(1)=4151),\n",
       " Row(UniqueCarrier='OO', first(_c1)='SkyWest', count(1)=16751),\n",
       " Row(UniqueCarrier='UA', first(_c1)='United Airlines', count(1)=17701),\n",
       " Row(UniqueCarrier='VX', first(_c1)='Virgin America', count(1)=2648),\n",
       " Row(UniqueCarrier='WN', first(_c1)='Southwest Airlines', count(1)=47472)]"
      ]
     },
     "execution_count": 211,
     "metadata": {},
     "output_type": "execute_result"
    }
   ],
   "source": [
    "result = %timeit -n5 -r5 -o sum(range(1000000))\n",
    "### Write your code here\n",
    "session.sql(\"\"\"\n",
    "SELECT UniqueCarrier, first(_c1), COUNT(*)\n",
    "FROM Flights\n",
    "INNER JOIN airlines\n",
    "on Flights.UniqueCarrier = airlines._c3\n",
    "WHERE DepTime > CRSDepTime\n",
    "GROUP BY UniqueCarrier;\n",
    "\"\"\").head(20)"
   ]
  },
  {
   "cell_type": "markdown",
   "id": "f791a1b1",
   "metadata": {},
   "source": [
    "<h1 style=\"color: green\">Average</h1>"
   ]
  },
  {
   "cell_type": "code",
   "execution_count": 212,
   "id": "b0c3e70a",
   "metadata": {},
   "outputs": [
    {
     "data": {
      "text/plain": [
       "0.012610774239874445"
      ]
     },
     "execution_count": 212,
     "metadata": {},
     "output_type": "execute_result"
    }
   ],
   "source": [
    "result.average"
   ]
  },
  {
   "cell_type": "markdown",
   "id": "604e85e0",
   "metadata": {},
   "source": [
    "### Q26 \n",
    "\n",
    "Use one of the techniques covered in class to accelerate this query. Time your query to see by how much the run time was improved"
   ]
  },
  {
   "cell_type": "code",
   "execution_count": 79,
   "id": "2e951d64",
   "metadata": {},
   "outputs": [],
   "source": [
    "### Write your code here\n"
   ]
  },
  {
   "cell_type": "markdown",
   "id": "8a87a433",
   "metadata": {},
   "source": [
    "### Q27 \n",
    "\n",
    "Is the departure delay (i.e., DepTime - CRSDepTime) predictive of the arrival delay (ArrTime > CRSArrTime)?\n",
    "Use an approach of your choice (e.g. `skelearn` which we covered in class or `Spark`) to model as a linear regression the arrival delay as a function of the departure delay. \n",
    "\n"
   ]
  },
  {
   "cell_type": "code",
   "execution_count": 80,
   "id": "f8dbd52d",
   "metadata": {},
   "outputs": [],
   "source": [
    "### Write your code here\n"
   ]
  }
 ],
 "metadata": {
  "kernelspec": {
   "display_name": "Python 3 (ipykernel)",
   "language": "python",
   "name": "python3"
  },
  "language_info": {
   "codemirror_mode": {
    "name": "ipython",
    "version": 3
   },
   "file_extension": ".py",
   "mimetype": "text/x-python",
   "name": "python",
   "nbconvert_exporter": "python",
   "pygments_lexer": "ipython3",
   "version": "3.9.7"
  }
 },
 "nbformat": 4,
 "nbformat_minor": 5
}
